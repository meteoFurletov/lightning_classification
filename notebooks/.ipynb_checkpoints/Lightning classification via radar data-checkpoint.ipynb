{
 "cells": [
  {
   "cell_type": "markdown",
   "id": "25eeeac4",
   "metadata": {},
   "source": [
    "## Data Processing"
   ]
  },
  {
   "cell_type": "code",
   "execution_count": 1,
   "id": "f5c0ecf4",
   "metadata": {
    "ExecuteTime": {
     "end_time": "2023-03-10T07:19:56.804072Z",
     "start_time": "2023-03-10T07:19:54.619803Z"
    }
   },
   "outputs": [],
   "source": [
    "from DWR_preprocess import *\n",
    "\n",
    "station_number = 26061\n",
    "year_regex = '2020|2021'"
   ]
  },
  {
   "cell_type": "code",
   "execution_count": 4,
   "id": "4c8f0e68",
   "metadata": {
    "ExecuteTime": {
     "end_time": "2023-03-09T14:10:24.879699Z",
     "start_time": "2023-03-09T14:10:17.123654Z"
    },
    "scrolled": false
   },
   "outputs": [
    {
     "name": "stdout",
     "output_type": "stream",
     "text": [
      "Latitude is 59.92194, Longitude is 30.40806\n",
      "Blitzortung data is already converted\n",
      "Array shape is: (4894, 200, 200)\n"
     ]
    }
   ],
   "source": [
    "blitzortung_array = blitzortung_preprocessing(station_number, matrix_shape=200, year_regex=year_regex)"
   ]
  },
  {
   "cell_type": "code",
   "execution_count": 2,
   "id": "4d2db337",
   "metadata": {
    "ExecuteTime": {
     "end_time": "2023-03-09T14:11:39.269222Z",
     "start_time": "2023-03-09T14:10:27.986174Z"
    },
    "scrolled": true
   },
   "outputs": [
    {
     "name": "stdout",
     "output_type": "stream",
     "text": [
      "N of matched files is 4894\n",
      "N of non-lightning cases: 1791\n",
      "phen data is already converted\n",
      "echo_top data is already converted\n",
      "reflectivity data is already converted\n",
      "prop data is already converted\n",
      "Converting to numpy\n"
     ]
    },
    {
     "name": "stderr",
     "output_type": "stream",
     "text": [
      "100%|██████████| 6685/6685 [00:01<00:00, 4982.82it/s]\n",
      "100%|██████████| 6685/6685 [00:01<00:00, 5013.42it/s]\n",
      "100%|██████████| 6685/6685 [00:04<00:00, 1381.76it/s]\n",
      "100%|██████████| 6685/6685 [00:02<00:00, 2797.67it/s]\n"
     ]
    },
    {
     "name": "stdout",
     "output_type": "stream",
     "text": [
      "Shape of radar array: (6685, 200, 200, 17)\n"
     ]
    }
   ],
   "source": [
    "radar_array = radar_preprocessing(station_number, 2000, year_regex=year_regex)"
   ]
  },
  {
   "cell_type": "code",
   "execution_count": 5,
   "id": "4d7d0041",
   "metadata": {
    "ExecuteTime": {
     "end_time": "2023-03-09T14:12:31.633929Z",
     "start_time": "2023-03-09T14:11:43.192280Z"
    },
    "scrolled": false
   },
   "outputs": [
    {
     "name": "stdout",
     "output_type": "stream",
     "text": [
      "All data converted and saved!\n"
     ]
    }
   ],
   "source": [
    "stack = concatenate_data(radar_array, blitzortung_array, 26061, year_regex=year_regex)"
   ]
  },
  {
   "cell_type": "markdown",
   "id": "dc78a59d",
   "metadata": {},
   "source": [
    "## Sliding Window "
   ]
  },
  {
   "cell_type": "code",
   "execution_count": 6,
   "id": "7bd00300",
   "metadata": {
    "ExecuteTime": {
     "end_time": "2023-03-10T10:50:58.382176Z",
     "start_time": "2023-03-10T10:50:56.615703Z"
    }
   },
   "outputs": [],
   "source": [
    "import numpy as np\n",
    "from DWR_preprocess import *\n",
    "\n",
    "import warnings\n",
    "warnings.filterwarnings(\"ignore\")\n",
    "\n",
    "station_number = 26061\n",
    "window = 5"
   ]
  },
  {
   "cell_type": "code",
   "execution_count": 2,
   "id": "e04a4923",
   "metadata": {
    "ExecuteTime": {
     "end_time": "2023-03-10T10:51:08.808093Z",
     "start_time": "2023-03-10T10:50:58.467603Z"
    },
    "scrolled": true
   },
   "outputs": [
    {
     "data": {
      "text/plain": [
       "(6685, 200, 200, 18)"
      ]
     },
     "execution_count": 2,
     "metadata": {},
     "output_type": "execute_result"
    }
   ],
   "source": [
    "stack = np.load(Paths.interim + f'stack_{station_number}.npy')\n",
    "stack.shape"
   ]
  },
  {
   "cell_type": "code",
   "execution_count": 3,
   "id": "5f077279",
   "metadata": {
    "scrolled": true
   },
   "outputs": [
    {
     "data": {
      "text/plain": [
       "{1, 5, 7, 35, 191, 955, 1337, 6685}"
      ]
     },
     "execution_count": 3,
     "metadata": {},
     "output_type": "execute_result"
    }
   ],
   "source": [
    "factors(stack.shape[0])\n",
    "#stack = np.delete(stack, (np.arange(amount_to_delete)), 0)"
   ]
  },
  {
   "cell_type": "code",
   "execution_count": 7,
   "id": "ee222f04",
   "metadata": {
    "ExecuteTime": {
     "end_time": "2023-03-10T10:51:09.049480Z",
     "start_time": "2023-03-10T10:51:09.043840Z"
    }
   },
   "outputs": [
    {
     "name": "stdout",
     "output_type": "stream",
     "text": [
      "target is already computed\n",
      "delta is already computed\n"
     ]
    }
   ],
   "source": [
    "precomputing(stack, station_number, window, distribution=np.random.uniform, value=0.03)"
   ]
  },
  {
   "cell_type": "code",
   "execution_count": 10,
   "id": "db1a34f9",
   "metadata": {
    "ExecuteTime": {
     "end_time": "2023-03-10T11:16:22.393336Z",
     "start_time": "2023-03-10T10:51:09.253796Z"
    },
    "scrolled": false
   },
   "outputs": [
    {
     "name": "stdout",
     "output_type": "stream",
     "text": [
      "Iteration: 0\n",
      "Iteration data is \n",
      " dask.array<reshape, shape=(51362192, 5, 5, 18), dtype=int32, chunksize=(1267728, 5, 5, 18), chunktype=numpy.ndarray>\n",
      "TF: false-(51328105,), true-(34087,)\n"
     ]
    },
    {
     "data": {
      "application/vnd.jupyter.widget-view+json": {
       "model_id": "0f0dbd00b1ca4da093fe747b1fe355cf",
       "version_major": 2,
       "version_minor": 0
      },
      "text/plain": [
       "  0%|          | 0/44 [00:00<?, ?it/s]"
      ]
     },
     "metadata": {},
     "output_type": "display_data"
    },
    {
     "name": "stdout",
     "output_type": "stream",
     "text": [
      "Remaining percent  = 3.0\n"
     ]
    },
    {
     "data": {
      "application/vnd.jupyter.widget-view+json": {
       "model_id": "af7f0ac74b124747ad1fb7d7df997255",
       "version_major": 2,
       "version_minor": 0
      },
      "text/plain": [
       "  0%|          | 0/44 [00:00<?, ?it/s]"
      ]
     },
     "metadata": {},
     "output_type": "display_data"
    },
    {
     "data": {
      "application/vnd.jupyter.widget-view+json": {
       "model_id": "32106bcd5e6e4473a2b5db73dc59a5d6",
       "version_major": 2,
       "version_minor": 0
      },
      "text/plain": [
       "  0%|          | 0/32 [00:00<?, ?it/s]"
      ]
     },
     "metadata": {},
     "output_type": "display_data"
    },
    {
     "name": "stdout",
     "output_type": "stream",
     "text": [
      "TF processed \n",
      " : false-(493869,), true-(32930,)\n",
      "Iteration result is \n",
      " dask.array<concatenate, shape=(526799, 5, 5, 18), dtype=int32, chunksize=(21060, 5, 5, 18), chunktype=numpy.ndarray>\n"
     ]
    },
    {
     "data": {
      "application/vnd.jupyter.widget-view+json": {
       "model_id": "bb6acb727d754f929e94ed8e70e995e4",
       "version_major": 2,
       "version_minor": 0
      },
      "text/plain": [
       "  0%|          | 0/76 [00:00<?, ?it/s]"
      ]
     },
     "metadata": {},
     "output_type": "display_data"
    },
    {
     "name": "stdout",
     "output_type": "stream",
     "text": [
      "Iteration: 1\n",
      "Iteration data is \n",
      " dask.array<reshape, shape=(51362192, 5, 5, 18), dtype=int32, chunksize=(1267728, 5, 5, 18), chunktype=numpy.ndarray>\n",
      "TF: false-(51350178,), true-(12014,)\n"
     ]
    },
    {
     "data": {
      "application/vnd.jupyter.widget-view+json": {
       "model_id": "b554e4d86c664a0ebf257822ac46a6b8",
       "version_major": 2,
       "version_minor": 0
      },
      "text/plain": [
       "  0%|          | 0/44 [00:00<?, ?it/s]"
      ]
     },
     "metadata": {},
     "output_type": "display_data"
    },
    {
     "name": "stdout",
     "output_type": "stream",
     "text": [
      "Remaining percent  = 3.0\n"
     ]
    },
    {
     "data": {
      "application/vnd.jupyter.widget-view+json": {
       "model_id": "1a36f33460e344d8bc816eadb5f9e12e",
       "version_major": 2,
       "version_minor": 0
      },
      "text/plain": [
       "  0%|          | 0/44 [00:00<?, ?it/s]"
      ]
     },
     "metadata": {},
     "output_type": "display_data"
    },
    {
     "data": {
      "application/vnd.jupyter.widget-view+json": {
       "model_id": "28f2e0078150484bb40dcab51b8b5a4d",
       "version_major": 2,
       "version_minor": 0
      },
      "text/plain": [
       "  0%|          | 0/39 [00:00<?, ?it/s]"
      ]
     },
     "metadata": {},
     "output_type": "display_data"
    },
    {
     "name": "stdout",
     "output_type": "stream",
     "text": [
      "TF processed \n",
      " : false-(435568,), true-(11248,)\n",
      "Iteration result is \n",
      " dask.array<concatenate, shape=(446816, 5, 5, 18), dtype=int32, chunksize=(19789, 5, 5, 18), chunktype=numpy.ndarray>\n"
     ]
    },
    {
     "data": {
      "application/vnd.jupyter.widget-view+json": {
       "model_id": "136d3f6036a04d66af7a97d17614515b",
       "version_major": 2,
       "version_minor": 0
      },
      "text/plain": [
       "  0%|          | 0/83 [00:00<?, ?it/s]"
      ]
     },
     "metadata": {},
     "output_type": "display_data"
    },
    {
     "name": "stdout",
     "output_type": "stream",
     "text": [
      "Iteration: 2\n",
      "Iteration data is \n",
      " dask.array<reshape, shape=(51362192, 5, 5, 18), dtype=int32, chunksize=(1267728, 5, 5, 18), chunktype=numpy.ndarray>\n",
      "TF: false-(51346030,), true-(16162,)\n"
     ]
    },
    {
     "data": {
      "application/vnd.jupyter.widget-view+json": {
       "model_id": "089c3119d9444265af391910e096a2a5",
       "version_major": 2,
       "version_minor": 0
      },
      "text/plain": [
       "  0%|          | 0/44 [00:00<?, ?it/s]"
      ]
     },
     "metadata": {},
     "output_type": "display_data"
    },
    {
     "name": "stdout",
     "output_type": "stream",
     "text": [
      "Remaining percent  = 3.0\n"
     ]
    },
    {
     "data": {
      "application/vnd.jupyter.widget-view+json": {
       "model_id": "e08dcf3a007445839dc3bf1c22bc1755",
       "version_major": 2,
       "version_minor": 0
      },
      "text/plain": [
       "  0%|          | 0/44 [00:00<?, ?it/s]"
      ]
     },
     "metadata": {},
     "output_type": "display_data"
    },
    {
     "data": {
      "application/vnd.jupyter.widget-view+json": {
       "model_id": "d014f828091c422b85e9f21f2aaaad21",
       "version_major": 2,
       "version_minor": 0
      },
      "text/plain": [
       "  0%|          | 0/34 [00:00<?, ?it/s]"
      ]
     },
     "metadata": {},
     "output_type": "display_data"
    },
    {
     "name": "stdout",
     "output_type": "stream",
     "text": [
      "TF processed \n",
      " : false-(568810,), true-(15437,)\n",
      "Iteration result is \n",
      " dask.array<concatenate, shape=(584247, 5, 5, 18), dtype=int32, chunksize=(20942, 5, 5, 18), chunktype=numpy.ndarray>\n"
     ]
    },
    {
     "data": {
      "application/vnd.jupyter.widget-view+json": {
       "model_id": "4f8829c275ac4d03877836de0cfb82a7",
       "version_major": 2,
       "version_minor": 0
      },
      "text/plain": [
       "  0%|          | 0/76 [00:00<?, ?it/s]"
      ]
     },
     "metadata": {},
     "output_type": "display_data"
    },
    {
     "name": "stdout",
     "output_type": "stream",
     "text": [
      "Iteration: 3\n",
      "Iteration data is \n",
      " dask.array<reshape, shape=(51362192, 5, 5, 18), dtype=int32, chunksize=(1267728, 5, 5, 18), chunktype=numpy.ndarray>\n",
      "TF: false-(51350706,), true-(11486,)\n"
     ]
    },
    {
     "data": {
      "application/vnd.jupyter.widget-view+json": {
       "model_id": "2eddd39fb1ec4bf5a751412959e15310",
       "version_major": 2,
       "version_minor": 0
      },
      "text/plain": [
       "  0%|          | 0/44 [00:00<?, ?it/s]"
      ]
     },
     "metadata": {},
     "output_type": "display_data"
    },
    {
     "name": "stdout",
     "output_type": "stream",
     "text": [
      "Remaining percent  = 3.0\n"
     ]
    },
    {
     "data": {
      "application/vnd.jupyter.widget-view+json": {
       "model_id": "02539f6ddb574984a9223f7d92eaa443",
       "version_major": 2,
       "version_minor": 0
      },
      "text/plain": [
       "  0%|          | 0/44 [00:00<?, ?it/s]"
      ]
     },
     "metadata": {},
     "output_type": "display_data"
    },
    {
     "data": {
      "application/vnd.jupyter.widget-view+json": {
       "model_id": "e073f014fcde4effa3ba2ee20f7248e5",
       "version_major": 2,
       "version_minor": 0
      },
      "text/plain": [
       "  0%|          | 0/42 [00:00<?, ?it/s]"
      ]
     },
     "metadata": {},
     "output_type": "display_data"
    },
    {
     "name": "stdout",
     "output_type": "stream",
     "text": [
      "TF processed \n",
      " : false-(325303,), true-(10606,)\n",
      "Iteration result is \n",
      " dask.array<concatenate, shape=(335909, 5, 5, 18), dtype=int32, chunksize=(20776, 5, 5, 18), chunktype=numpy.ndarray>\n"
     ]
    },
    {
     "data": {
      "application/vnd.jupyter.widget-view+json": {
       "model_id": "c81cbc8744524ff4931ea965b7f9a73f",
       "version_major": 2,
       "version_minor": 0
      },
      "text/plain": [
       "  0%|          | 0/86 [00:00<?, ?it/s]"
      ]
     },
     "metadata": {},
     "output_type": "display_data"
    },
    {
     "name": "stdout",
     "output_type": "stream",
     "text": [
      "Iteration: 4\n",
      "Iteration data is \n",
      " dask.array<reshape, shape=(51362192, 5, 5, 18), dtype=int32, chunksize=(1267728, 5, 5, 18), chunktype=numpy.ndarray>\n",
      "TF: false-(51353003,), true-(9189,)\n"
     ]
    },
    {
     "data": {
      "application/vnd.jupyter.widget-view+json": {
       "model_id": "b996db066c0b4aea8ac65f7ad5651bcb",
       "version_major": 2,
       "version_minor": 0
      },
      "text/plain": [
       "  0%|          | 0/44 [00:00<?, ?it/s]"
      ]
     },
     "metadata": {},
     "output_type": "display_data"
    },
    {
     "name": "stdout",
     "output_type": "stream",
     "text": [
      "Remaining percent  = 3.0\n"
     ]
    },
    {
     "data": {
      "application/vnd.jupyter.widget-view+json": {
       "model_id": "0272040fd0a6455686cfeea85bdf59f5",
       "version_major": 2,
       "version_minor": 0
      },
      "text/plain": [
       "  0%|          | 0/44 [00:00<?, ?it/s]"
      ]
     },
     "metadata": {},
     "output_type": "display_data"
    },
    {
     "data": {
      "application/vnd.jupyter.widget-view+json": {
       "model_id": "0bcb6af227e049e18d428b45773bdf42",
       "version_major": 2,
       "version_minor": 0
      },
      "text/plain": [
       "  0%|          | 0/36 [00:00<?, ?it/s]"
      ]
     },
     "metadata": {},
     "output_type": "display_data"
    },
    {
     "name": "stdout",
     "output_type": "stream",
     "text": [
      "TF processed \n",
      " : false-(517039,), true-(8468,)\n",
      "Iteration result is \n",
      " dask.array<concatenate, shape=(525507, 5, 5, 18), dtype=int32, chunksize=(21248, 5, 5, 18), chunktype=numpy.ndarray>\n"
     ]
    },
    {
     "data": {
      "application/vnd.jupyter.widget-view+json": {
       "model_id": "5c621028d018407997838141691248f9",
       "version_major": 2,
       "version_minor": 0
      },
      "text/plain": [
       "  0%|          | 0/80 [00:00<?, ?it/s]"
      ]
     },
     "metadata": {},
     "output_type": "display_data"
    },
    {
     "name": "stdout",
     "output_type": "stream",
     "text": [
      "CPU times: user 15min 31s, sys: 21min 1s, total: 36min 33s\n",
      "Wall time: 22min 45s\n"
     ]
    }
   ],
   "source": [
    "%%time\n",
    "window_data_filter(stack, split_value=1337, window=5, station_number=26061)"
   ]
  },
  {
   "cell_type": "markdown",
   "id": "b9492fc1",
   "metadata": {},
   "source": [
    "## Machine Learning preprocessing"
   ]
  },
  {
   "cell_type": "code",
   "execution_count": 11,
   "id": "203132b4",
   "metadata": {
    "ExecuteTime": {
     "end_time": "2023-03-10T14:21:06.587012Z",
     "start_time": "2023-03-10T14:19:32.120547Z"
    },
    "scrolled": true
   },
   "outputs": [
    {
     "name": "stderr",
     "output_type": "stream",
     "text": [
      "100%|██████████| 401/401 [00:00<00:00, 407.40it/s]\n"
     ]
    }
   ],
   "source": [
    "df = from_windows_to_df(Paths.data + f'lightning_stack_{station_number}', 5, station_number)"
   ]
  },
  {
   "cell_type": "markdown",
   "id": "6d2cceff",
   "metadata": {},
   "source": [
    "## Filtering data"
   ]
  },
  {
   "cell_type": "code",
   "execution_count": 1,
   "id": "f1a99f9a",
   "metadata": {
    "ExecuteTime": {
     "end_time": "2023-03-10T14:21:32.589437Z",
     "start_time": "2023-03-10T14:21:30.568128Z"
    }
   },
   "outputs": [],
   "source": [
    "from DWR_preprocess import *\n",
    "\n",
    "window_shape = 5\n",
    "station_number = 26061"
   ]
  },
  {
   "cell_type": "code",
   "execution_count": 2,
   "id": "948afd12",
   "metadata": {},
   "outputs": [
    {
     "name": "stdout",
     "output_type": "stream",
     "text": [
      "Before: 0 - (2340589,), 1 - (78689,)\n",
      "After:  0 - (2225323,), 1 - (68119,)\n"
     ]
    }
   ],
   "source": [
    "df = true_data_filter(Paths.interim + f'{station_number}_Convective_cloud_windows_data.parquet',station_number)"
   ]
  },
  {
   "cell_type": "markdown",
   "id": "e40b1869",
   "metadata": {
    "ExecuteTime": {
     "end_time": "2023-03-10T13:41:14.706755Z",
     "start_time": "2023-03-10T13:41:13.411429Z"
    }
   },
   "source": [
    "## RFE"
   ]
  },
  {
   "cell_type": "code",
   "execution_count": 2,
   "id": "505f9a74",
   "metadata": {},
   "outputs": [],
   "source": [
    "from DWR_preprocess import *\n",
    "window_shape = 5\n",
    "station_number = 26061"
   ]
  },
  {
   "cell_type": "code",
   "execution_count": 5,
   "id": "ead43a5e",
   "metadata": {},
   "outputs": [
    {
     "name": "stdout",
     "output_type": "stream",
     "text": [
      "(1935422, 16) (483856, 16) (1935422,) (483856,)\n",
      "RFECV initialization\n",
      "Mean f1-score on CV: 0.57\n",
      "Fitting pipeline\n",
      "Optimal number of features : 8\n"
     ]
    },
    {
     "data": {
      "image/png": "[encoded data removed]",
      "text/plain": [
       "<Figure size 640x480 with 1 Axes>"
      ]
     },
     "metadata": {},
     "output_type": "display_data"
    }
   ],
   "source": [
    "df_ranks, features = recursive_feature_elimination(Paths.interim + f'df_filter_{station_number}.parquet', station_number)"
   ]
  },
  {
   "cell_type": "code",
   "execution_count": 6,
   "id": "110ff30a",
   "metadata": {},
   "outputs": [
    {
     "data": {
      "text/plain": [
       "['delta_iso22',\n",
       " 'hmax',\n",
       " 'rmax',\n",
       " 'rmax_layer_11',\n",
       " 'rmax_layer_6',\n",
       " 'rmax_layer_7',\n",
       " 'rmax_layer_8',\n",
       " 'rmax_layer_9']"
      ]
     },
     "execution_count": 6,
     "metadata": {},
     "output_type": "execute_result"
    }
   ],
   "source": [
    "features"
   ]
  },
  {
   "cell_type": "code",
   "execution_count": 7,
   "id": "3757ebe3",
   "metadata": {},
   "outputs": [],
   "source": [
    "import numpy as np\n",
    "import pandas as pd\n",
    "import matplotlib.pyplot as plt\n",
    "import matplotlib.patches as patches\n",
    "import seaborn as sns\n",
    "\n",
    "import torch\n",
    "\n",
    "import dask\n",
    "import dask.array as da\n",
    "import re\n",
    "import glob\n",
    "import os\n",
    "\n",
    "from DWR_preprocess import *\n",
    "import datetime\n",
    "\n",
    "from tqdm import tqdm\n",
    "from tqdm.contrib.itertools import product\n",
    "\n",
    "import cartopy\n",
    "import cartopy.crs as ccrs\n",
    "import cartopy.feature as cfeature\n",
    "\n",
    "import warnings\n",
    "warnings.filterwarnings(\"ignore\")\n",
    "\n",
    "import sklearn\n",
    "from sklearn.preprocessing import MinMaxScaler, StandardScaler\n",
    "from sklearn.ensemble import RandomForestClassifier\n",
    "from sklearn.linear_model import LogisticRegression, SGDClassifier\n",
    "from sklearn.model_selection import train_test_split, KFold, \\\n",
    "    cross_val_score, RandomizedSearchCV, GridSearchCV, RepeatedKFold, \\\n",
    "    cross_validate, StratifiedKFold\n",
    "from sklearn.metrics import accuracy_score, f1_score, roc_auc_score, \\\n",
    "                            precision_score, recall_score, confusion_matrix, \\\n",
    "                            ConfusionMatrixDisplay, roc_curve\n",
    "from sklearn.feature_selection import SelectFromModel\n",
    "\n",
    "import imblearn\n",
    "from imblearn.over_sampling import RandomOverSampler\n",
    "from collections import Counter\n",
    "from sklearn.pipeline import Pipeline\n",
    "from sklearn.model_selection import StratifiedKFold\n",
    "from sklearn.model_selection import cross_val_score\n",
    "from sklearn.feature_selection import RFE\n",
    "from sklearn.feature_selection import RFECV\n",
    "station_number = 26061\n",
    "window = 5"
   ]
  },
  {
   "cell_type": "code",
   "execution_count": null,
   "id": "949dde3d",
   "metadata": {},
   "outputs": [],
   "source": []
  },
  {
   "cell_type": "code",
   "execution_count": 8,
   "id": "3e443c52",
   "metadata": {},
   "outputs": [
    {
     "ename": "NameError",
     "evalue": "name 'df_drop' is not defined",
     "output_type": "error",
     "traceback": [
      "\u001b[0;31m---------------------------------------------------------------------------\u001b[0m",
      "\u001b[0;31mNameError\u001b[0m                                 Traceback (most recent call last)",
      "Cell \u001b[0;32mIn[8], line 1\u001b[0m\n\u001b[0;32m----> 1\u001b[0m X \u001b[38;5;241m=\u001b[39m \u001b[43mdf_drop\u001b[49m\u001b[38;5;241m.\u001b[39mloc[:, df_drop\u001b[38;5;241m.\u001b[39mcolumns \u001b[38;5;241m!=\u001b[39m \u001b[38;5;124m'\u001b[39m\u001b[38;5;124mtarget\u001b[39m\u001b[38;5;124m'\u001b[39m]\n\u001b[1;32m      2\u001b[0m y \u001b[38;5;241m=\u001b[39m df_drop\u001b[38;5;241m.\u001b[39mloc[:, \u001b[38;5;124m'\u001b[39m\u001b[38;5;124mtarget\u001b[39m\u001b[38;5;124m'\u001b[39m]\n\u001b[1;32m      4\u001b[0m X_train, X_test, y_train, y_test \u001b[38;5;241m=\u001b[39m train_test_split(X, y, test_size\u001b[38;5;241m=\u001b[39m\u001b[38;5;241m0.2\u001b[39m, shuffle\u001b[38;5;241m=\u001b[39m\u001b[38;5;28;01mTrue\u001b[39;00m, stratify\u001b[38;5;241m=\u001b[39my, random_state\u001b[38;5;241m=\u001b[39m\u001b[38;5;241m42\u001b[39m)\n",
      "\u001b[0;31mNameError\u001b[0m: name 'df_drop' is not defined"
     ]
    }
   ],
   "source": [
    "X = df_drop.loc[:, df_drop.columns != 'target']\n",
    "y = df_drop.loc[:, 'target']\n",
    "\n",
    "X_train, X_test, y_train, y_test = train_test_split(X, y, test_size=0.2, shuffle=True, stratify=y, random_state=42)\n",
    "print(X_train.shape, X_test.shape, y_train.shape, y_test.shape)\n",
    "\n",
    "scaler = MinMaxScaler().fit(X_train)\n",
    "X_train = scaler.transform(X_train)\n",
    "X_test = scaler.transform(X_test)"
   ]
  },
  {
   "cell_type": "code",
   "execution_count": 19,
   "id": "6f50ec63",
   "metadata": {
    "ExecuteTime": {
     "end_time": "2023-03-10T14:04:29.658332Z",
     "start_time": "2023-03-10T14:02:46.921342Z"
    }
   },
   "outputs": [
    {
     "name": "stdout",
     "output_type": "stream",
     "text": [
      "Accuracy is 0.9612\n",
      "f1_score is 0.0245\n",
      "precision_score is 0.0125\n",
      "recall_score is 0.704\n",
      "roc_auc_score is 0.5061\n",
      "HSS is 0.0232\n",
      "ETS is 0.0117\n",
      "CSI is 0.0124\n",
      "sedi is 0.8394\n",
      "CPU times: user 2.9 s, sys: 31.9 ms, total: 2.94 s\n",
      "Wall time: 2.93 s\n"
     ]
    },
    {
     "data": {
      "image/png": "[encoded data removed]",
      "text/plain": [
       "<Figure size 640x480 with 2 Axes>"
      ]
     },
     "metadata": {},
     "output_type": "display_data"
    }
   ],
   "source": [
    "%%time\n",
    "#classificator \n",
    "sgd_clf = SGDClassifier(loss=\"log_loss\", n_jobs = -1) \n",
    "sgd_clf.fit(X_train, y_train)\n",
    "sgd_pred = sgd_clf.predict(X_test)\n",
    "\n",
    "# get scores\n",
    "sgd_res = scorer(y_test, sgd_pred, 'sgd', 5)"
   ]
  },
  {
   "cell_type": "code",
   "execution_count": null,
   "id": "e80d5bda",
   "metadata": {},
   "outputs": [],
   "source": [
    "n_scores = len(rfecv.cv_results_[\"mean_test_score\"])\n",
    "plt.figure()\n",
    "plt.xlabel(\"Number of features selected\")\n",
    "plt.ylabel(\"Mean test accuracy\")\n",
    "plt.errorbar(\n",
    "    range(1, n_scores + 1),\n",
    "    rfecv.cv_results_[\"mean_test_score\"],\n",
    "    yerr=rfecv.cv_results_[\"std_test_score\"],\n",
    ")\n",
    "plt.title(\"Recursive Feature Elimination \\nwith correlated features\")\n",
    "plt.grid()"
   ]
  },
  {
   "cell_type": "code",
   "execution_count": null,
   "id": "fec3b116",
   "metadata": {},
   "outputs": [],
   "source": []
  },
  {
   "cell_type": "code",
   "execution_count": null,
   "id": "f02cc627",
   "metadata": {},
   "outputs": [],
   "source": []
  },
  {
   "cell_type": "code",
   "execution_count": null,
   "id": "7fbe8d64",
   "metadata": {},
   "outputs": [],
   "source": []
  },
  {
   "cell_type": "code",
   "execution_count": null,
   "id": "c364f863",
   "metadata": {},
   "outputs": [],
   "source": []
  },
  {
   "cell_type": "code",
   "execution_count": 16,
   "id": "05fb65d7",
   "metadata": {
    "scrolled": true
   },
   "outputs": [
    {
     "name": "stdout",
     "output_type": "stream",
     "text": [
      "Original dataset shape Counter({0: 4752256, 1: 56387})\n",
      "Resampled dataset shape Counter({0: 4752256, 1: 56387})\n",
      "Accuracy is 0.9883\n",
      "f1_score is 0.1283\n",
      "precision_score is 0.0733\n",
      "recall_score is 0.5165\n",
      "roc_auc_score is 0.5362\n",
      "HSS is 0.1258\n",
      "ETS is 0.0671\n",
      "CSI is 0.0686\n",
      "sedi is 0.773\n",
      "Resampled dataset shape Counter({0: 4752256, 1: 112774})\n",
      "Accuracy is 0.9876\n",
      "f1_score is 0.2064\n",
      "precision_score is 0.1377\n",
      "recall_score is 0.4124\n",
      "roc_auc_score is 0.5677\n",
      "HSS is 0.2018\n",
      "ETS is 0.1122\n",
      "CSI is 0.1151\n",
      "sedi is 0.7022\n",
      "Resampled dataset shape Counter({0: 4752256, 1: 169161})\n",
      "Accuracy is 0.983\n",
      "f1_score is 0.3264\n",
      "precision_score is 0.3505\n",
      "recall_score is 0.3054\n",
      "roc_auc_score is 0.6705\n",
      "HSS is 0.3179\n",
      "ETS is 0.189\n",
      "CSI is 0.195\n",
      "sedi is 0.6282\n",
      "Resampled dataset shape Counter({0: 4752256, 1: 225548})\n",
      "Accuracy is 0.9822\n",
      "f1_score is 0.3285\n",
      "precision_score is 0.3714\n",
      "recall_score is 0.2945\n",
      "roc_auc_score is 0.6804\n",
      "HSS is 0.3196\n",
      "ETS is 0.1902\n",
      "CSI is 0.1966\n",
      "sedi is 0.6201\n",
      "Resampled dataset shape Counter({0: 4752256, 1: 281935})\n",
      "Accuracy is 0.9824\n",
      "f1_score is 0.3227\n",
      "precision_score is 0.358\n",
      "recall_score is 0.2938\n",
      "roc_auc_score is 0.6739\n",
      "HSS is 0.3139\n",
      "ETS is 0.1862\n",
      "CSI is 0.1924\n",
      "sedi is 0.6181\n",
      "Resampled dataset shape Counter({0: 4752256, 1: 338322})\n",
      "Accuracy is 0.9779\n",
      "f1_score is 0.333\n",
      "precision_score is 0.4709\n",
      "recall_score is 0.2575\n",
      "roc_auc_score is 0.7274\n",
      "HSS is 0.3227\n",
      "ETS is 0.1924\n",
      "CSI is 0.1997\n",
      "sedi is 0.5945\n",
      "Resampled dataset shape Counter({0: 4752256, 1: 394709})\n",
      "Accuracy is 0.9772\n",
      "f1_score is 0.3304\n",
      "precision_score is 0.4797\n",
      "recall_score is 0.252\n",
      "roc_auc_score is 0.7314\n",
      "HSS is 0.32\n",
      "ETS is 0.1905\n",
      "CSI is 0.1979\n",
      "sedi is 0.5899\n",
      "Resampled dataset shape Counter({0: 4752256, 1: 451096})\n",
      "Accuracy is 0.9738\n",
      "f1_score is 0.325\n",
      "precision_score is 0.5373\n",
      "recall_score is 0.2329\n",
      "roc_auc_score is 0.7582\n",
      "HSS is 0.3138\n",
      "ETS is 0.1861\n",
      "CSI is 0.194\n",
      "sedi is 0.5771\n",
      "Resampled dataset shape Counter({0: 4752256, 1: 507483})\n",
      "Accuracy is 0.9703\n",
      "f1_score is 0.3149\n",
      "precision_score is 0.5823\n",
      "recall_score is 0.2158\n",
      "roc_auc_score is 0.7786\n",
      "HSS is 0.303\n",
      "ETS is 0.1785\n",
      "CSI is 0.1869\n",
      "sedi is 0.5647\n",
      "Resampled dataset shape Counter({0: 4752256, 1: 563870})\n",
      "Accuracy is 0.9695\n",
      "f1_score is 0.3131\n",
      "precision_score is 0.5926\n",
      "recall_score is 0.2127\n",
      "roc_auc_score is 0.7833\n",
      "HSS is 0.301\n",
      "ETS is 0.1772\n",
      "CSI is 0.1856\n",
      "sedi is 0.5628\n",
      "Resampled dataset shape Counter({0: 4752256, 1: 620257})\n",
      "Accuracy is 0.9655\n",
      "f1_score is 0.3005\n",
      "precision_score is 0.6319\n",
      "recall_score is 0.1971\n",
      "roc_auc_score is 0.8007\n",
      "HSS is 0.2878\n",
      "ETS is 0.1681\n",
      "CSI is 0.1768\n",
      "sedi is 0.5511\n"
     ]
    },
    {
     "data": {
      "image/png": "[encoded data removed]",
      "text/plain": [
       "<Figure size 640x480 with 2 Axes>"
      ]
     },
     "metadata": {},
     "output_type": "display_data"
    }
   ],
   "source": [
    "true_index = np.where(y_train == 1)\n",
    "false_index = np.where(y_train != 1)\n",
    "print('Original dataset shape %s' % Counter(y_train.values.flatten().tolist()))\n",
    "\n",
    "X_train_class1 = np.array(X_train)[true_index[0]]\n",
    "y_train_class1 = np.array(y_train)[true_index[0]]\n",
    "results = np.array(())\n",
    "for i in range(11):\n",
    "    # Oversample the class 1 data points by repeating each element thrice\n",
    "    X_train_class1_oversampled = X_train_class1.repeat(i, axis = 0)\n",
    "    y_train_class1_oversampled = y_train_class1.repeat(i, axis = 0)\n",
    "    \n",
    "    ## Concatenate the oversampled data tensors with the original data tensors\n",
    "    X_train_oversampled = np.concatenate([X_train, X_train_class1_oversampled])\n",
    "    y_train_oversampled = np.concatenate([y_train, y_train_class1_oversampled])\n",
    "    \n",
    "    print('Resampled dataset shape %s' % Counter(y_train_oversampled.flatten().tolist()))\n",
    "    \n",
    "    #classificator \n",
    "    sgd_clf = SGDClassifier(loss=\"log\", n_jobs = -1) \n",
    "    sgd_clf.fit(X_train_oversampled, y_train_oversampled)\n",
    "    sgd_pred = sgd_clf.predict(X_test)\n",
    "    \n",
    "    # get scores\n",
    "    \n",
    "    sgd_res = scorer(y_test, sgd_pred, 'sgd', 5)\n",
    "    results = np.concatenate((results, sgd_res))"
   ]
  },
  {
   "cell_type": "code",
   "execution_count": 25,
   "id": "11e04bff",
   "metadata": {},
   "outputs": [
    {
     "name": "stdout",
     "output_type": "stream",
     "text": [
      "Max CSI is 5\n"
     ]
    }
   ],
   "source": [
    "print(f'Max CSI is {np.argmax(results.reshape(11,9)[:,-2])}')"
   ]
  },
  {
   "cell_type": "code",
   "execution_count": 26,
   "id": "c17b6a74",
   "metadata": {},
   "outputs": [
    {
     "name": "stdout",
     "output_type": "stream",
     "text": [
      "Original dataset shape Counter({0: 4752256, 1: 56387})\n",
      "Resampled dataset shape Counter({0: 4752256, 1: 338322})\n",
      "Accuracy is 0.9769\n",
      "f1_score is 0.3316\n",
      "precision_score is 0.4893\n",
      "recall_score is 0.2508\n",
      "roc_auc_score is 0.736\n",
      "HSS is 0.3211\n",
      "ETS is 0.1912\n",
      "CSI is 0.1987\n",
      "sedi is 0.5897\n"
     ]
    },
    {
     "data": {
      "image/png": "[encoded data removed]",
      "text/plain": [
       "<Figure size 640x480 with 2 Axes>"
      ]
     },
     "metadata": {},
     "output_type": "display_data"
    }
   ],
   "source": [
    "true_index = np.where(y_train == 1)\n",
    "false_index = np.where(y_train != 1)\n",
    "print('Original dataset shape %s' % Counter(y_train.values.flatten().tolist()))\n",
    "\n",
    "X_train_class1 = np.array(X_train)[true_index[0]]\n",
    "y_train_class1 = np.array(y_train)[true_index[0]]\n",
    "results = np.array(())\n",
    "\n",
    "# Oversample the class 1 data points by repeating each element thrice\n",
    "X_train_class1_oversampled = X_train_class1.repeat(5, axis = 0)\n",
    "y_train_class1_oversampled = y_train_class1.repeat(5, axis = 0)\n",
    "\n",
    "## Concatenate the oversampled data tensors with the original data tensors\n",
    "X_train_oversampled = np.concatenate([X_train, X_train_class1_oversampled])\n",
    "y_train_oversampled = np.concatenate([y_train, y_train_class1_oversampled])\n",
    "\n",
    "print('Resampled dataset shape %s' % Counter(y_train_oversampled.flatten().tolist()))\n",
    "\n",
    "#classificator \n",
    "sgd_clf = SGDClassifier(loss=\"log\", n_jobs = -1) \n",
    "sgd_clf.fit(X_train_oversampled, y_train_oversampled)\n",
    "sgd_pred = sgd_clf.predict(X_test)\n",
    "\n",
    "# get scores\n",
    "\n",
    "sgd_res = scorer(y_test, sgd_pred, 'sgd', 5)\n",
    "results = np.concatenate((results, sgd_res))"
   ]
  }
 ],
 "metadata": {
  "kernelspec": {
   "display_name": "Python 3 (ipykernel)",
   "language": "python",
   "name": "python3"
  },
  "language_info": {
   "codemirror_mode": {
    "name": "ipython",
    "version": 3
   },
   "file_extension": ".py",
   "mimetype": "text/x-python",
   "name": "python",
   "nbconvert_exporter": "python",
   "pygments_lexer": "ipython3",
   "version": "3.9.16"
  },
  "toc": {
   "base_numbering": 1,
   "nav_menu": {},
   "number_sections": true,
   "sideBar": true,
   "skip_h1_title": false,
   "title_cell": "Table of Contents",
   "title_sidebar": "Contents",
   "toc_cell": false,
   "toc_position": {
    "height": "calc(100% - 180px)",
    "left": "10px",
    "top": "150px",
    "width": "369.188px"
   },
   "toc_section_display": true,
   "toc_window_display": false
  },
  "varInspector": {
   "cols": {
    "lenName": 16,
    "lenType": 16,
    "lenVar": 40
   },
   "kernels_config": {
    "python": {
     "delete_cmd_postfix": "",
     "delete_cmd_prefix": "del ",
     "library": "var_list.py",
     "varRefreshCmd": "print(var_dic_list())"
    },
    "r": {
     "delete_cmd_postfix": ") ",
     "delete_cmd_prefix": "rm(",
     "library": "var_list.r",
     "varRefreshCmd": "cat(var_dic_list()) "
    }
   },
   "position": {
    "height": "234.844px",
    "left": "479px",
    "right": "20px",
    "top": "120px",
    "width": "424px"
   },
   "types_to_exclude": [
    "module",
    "function",
    "builtin_function_or_method",
    "instance",
    "_Feature"
   ],
   "window_display": false
  }
 },
 "nbformat": 4,
 "nbformat_minor": 5
}
