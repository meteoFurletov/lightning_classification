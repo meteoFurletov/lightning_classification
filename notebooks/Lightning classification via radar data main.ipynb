{
 "cells": [
  {
   "attachments": {},
   "cell_type": "markdown",
   "id": "6770a1ec",
   "metadata": {},
   "source": [
    "### Классификация разрядов молний по данным локаторов с машинным обучением.\n",
    "\n",
    "##### Фурлетов Никита 2023 г."
   ]
  },
  {
   "attachments": {},
   "cell_type": "markdown",
   "id": "d08f4886",
   "metadata": {},
   "source": [
    "#### 1. Цель и описание\n",
    "Данный проект нацелен на улучшение классификации молний по радару.\n",
    "\n",
    "Цель:\n",
    "- Превзойти классификацию, основанную на y-параметре.\n",
    "- Сделать развёрнутый анализ радарной информации для задачи классификации гидрометеоров.\n",
    "\n",
    "Данные:\n",
    "Для работы использовались данные с локаторов 26061 - РГГМУ, 26850 - Минск за 2021г. <br />\n",
    "Данные грозопеленгационной сети - blitzortung\n",
    "\n",
    "Параметры:\n",
    "- Отражаемость, высота облачности, явление  <br />\n",
    "\n",
    "Дополнительно (только для базовой классификации по одной ячейке):\n",
    "- Радиальная скорость\n",
    "- Ширина спектра\n",
    "- Дифференциальная отражаемость\n",
    "- Дифференциальная фаза\n",
    "\n",
    "Получилось два решения задачи:\n",
    " - Классификация по одной ячейке (1x1) - basic_#####.ipynb\n",
    " - Классификация блока (5х5) - block_#####.ipynb\n",
    " , где ##### - номер радара.\n",
    " \n",
    "Статья по блочной классификации: https://www.researchgate.net/publication/360419780_Monitoring_Lightning_Location_Based_on_Deep_Learning_Combined_with_Multisource_Spatial_Data\n",
    "\n",
    "\n",
    "Ограничения:\n",
    "***Необходимо как минимум 64 гб RAM для анализа от 2 тыс сроков.***"
   ]
  },
  {
   "attachments": {},
   "cell_type": "markdown",
   "id": "f4dda19d",
   "metadata": {},
   "source": [
    "#### 2. Структура проекта\n",
    "\n",
    "### data - Папка с данными \n",
    "binary data - Данные радара в бинарном формате. <br />\n",
    "data_BO - blitzortung грозопеленгационные данные <br />\n",
    "ASTER - данные DEM (Цифровой модели рельефа, только 26061, не использовались) <br />\n",
    "\n",
    "***interim - промежуточные и итоговые данные***\n",
    "\n",
    "Форматы: <br />\n",
    ".parquet - оптимизированный формат для таблиц pandas.DataFrame <br />\n",
    ".npy - сохранённый numpy.array \n",
    "- df_blitz_#####.parquet - грозопеленгационные данные в таблице.\n",
    "- stack_#####.npy - Основной файл со всей информацией по одному локатору. Размерность (Срок, Х, Y, параметры(DWR_preprocess.get_stacked_array))\n",
    "- basic_classif_#####.parquet - данные для базового анализа.\n",
    "- \n",
    "\n",
    "lightning_stack_##### - данные для классификации блока\n",
    "\n",
    "numpy_data - данные для обучения модели\n",
    "\n",
    "\n",
    "### docs - текстовые документы\n",
    "### figures - графики (устаревшие)\n",
    "### models - модели\n",
    "### notebooks\n",
    "\n",
    "- basic_#####.ipynb - Классификация по одной ячейке (1x1), анализ радиолокационной информации, кластеризация\n",
    "- block_#####.ipynb - Классификация блока (5х5)\n",
    "- EDA.ipynb - Исследовательский Анализ Данных, черновик\n",
    "- data_eng.ipynb - черновик для обработки данных\n",
    "- Lightning classification via radar data main - основной\n",
    "- regression - попытка прогнозировать количество разрядов в ячейке\n",
    "- old_notebooks - устаревште ноутбуки, могут быть полезны\n",
    "\n",
    "***DWR_preprocess.py*** - \"библиотека\" для данного проекта\n",
    "\n",
    "requirements.txt - зависимости <br />\n",
    "lightning-env.txt - conda environment <br />\n",
    "github - версии"
   ]
  },
  {
   "attachments": {},
   "cell_type": "markdown",
   "id": "d18b7045",
   "metadata": {},
   "source": [
    "#### 3. Предобработка данных\n",
    "\n",
    "Источник данных - 192.168.2.210 <br />\n",
    "\n",
    "Для работы использовались бинарные радарные данные, загруженные в папку binary data <br />\n",
    "*Например - /home/meteofurletov/iram/lightning/data/binary data/S26061/G2020/M01/D01/000001.01A*\n",
    "\n",
    "и данные грозопеленгаторов в data_BO. (BO - BlitzOrtung).\n",
    "\n",
    "Для перевода данных грозопеленгаторов на радарную сетку и формирования np.array для дальнейшей работы ф. используется *blitzortung_preprocessing* "
   ]
  },
  {
   "cell_type": "code",
   "execution_count": 51,
   "id": "f5c0ecf4",
   "metadata": {
    "ExecuteTime": {
     "end_time": "2023-03-10T07:19:56.804072Z",
     "start_time": "2023-03-10T07:19:54.619803Z"
    }
   },
   "outputs": [],
   "source": [
    "from DWR_preprocess import *\n",
    "\n",
    "station_number = 26061 # код станции\n",
    "year_regex = '2021'    # год "
   ]
  },
  {
   "cell_type": "code",
   "execution_count": 52,
   "id": "4c8f0e68",
   "metadata": {
    "ExecuteTime": {
     "end_time": "2023-03-09T14:10:24.879699Z",
     "start_time": "2023-03-09T14:10:17.123654Z"
    },
    "scrolled": false
   },
   "outputs": [
    {
     "name": "stdout",
     "output_type": "stream",
     "text": [
      "Latitude is 59.92167, Longitude is 30.40806\n",
      "Blitzortung data is already converted\n",
      "Array shape is: (2164, 200, 200)\n"
     ]
    }
   ],
   "source": [
    "blitzortung_array = blitzortung_preprocessing(station_number, matrix_shape=200, year_regex=year_regex, path_to_binary=Paths.binary)"
   ]
  },
  {
   "attachments": {},
   "cell_type": "markdown",
   "id": "2cb18fd6",
   "metadata": {},
   "source": [
    "Обработка радарной информации. "
   ]
  },
  {
   "cell_type": "code",
   "execution_count": 3,
   "id": "4d2db337",
   "metadata": {
    "ExecuteTime": {
     "end_time": "2023-03-09T14:11:39.269222Z",
     "start_time": "2023-03-09T14:10:27.986174Z"
    },
    "scrolled": true
   },
   "outputs": [
    {
     "name": "stdout",
     "output_type": "stream",
     "text": [
      "phen data is already converted\n",
      "echo_top data is already converted\n",
      "reflectivity data is already converted\n",
      "prop data is already converted\n",
      "Converting to numpy\n"
     ]
    },
    {
     "name": "stderr",
     "output_type": "stream",
     "text": [
      "100%|██████████| 2533/2533 [00:01<00:00, 1779.45it/s]\n",
      "100%|██████████| 2533/2533 [00:01<00:00, 1783.85it/s]\n",
      "100%|██████████| 2533/2533 [00:04<00:00, 525.00it/s]\n",
      "100%|██████████| 2533/2533 [00:03<00:00, 736.61it/s]\n"
     ]
    },
    {
     "name": "stdout",
     "output_type": "stream",
     "text": [
      "Shape of radar array: (2533, 200, 200, 19)\n"
     ]
    }
   ],
   "source": [
    "radar_array = radar_preprocessing(station_number, year_regex=year_regex, path_to_binary=Paths.binary, path_to_save=Paths.numpy_data, n_extra_files=500, doppler=False)"
   ]
  },
  {
   "attachments": {},
   "cell_type": "markdown",
   "id": "9071a8cc",
   "metadata": {},
   "source": [
    "Конкатенация в stack.npy."
   ]
  },
  {
   "cell_type": "code",
   "execution_count": 4,
   "id": "4d7d0041",
   "metadata": {
    "ExecuteTime": {
     "end_time": "2023-03-09T14:12:31.633929Z",
     "start_time": "2023-03-09T14:11:43.192280Z"
    },
    "scrolled": false
   },
   "outputs": [
    {
     "name": "stdout",
     "output_type": "stream",
     "text": [
      "All data converted and saved!\n"
     ]
    }
   ],
   "source": [
    "stack = concatenate_data(radar_array, blitzortung_array, station_number=station_number, year_regex=year_regex)"
   ]
  },
  {
   "attachments": {},
   "cell_type": "markdown",
   "id": "ec73ea42",
   "metadata": {},
   "source": [
    "stack.npy - основные данные.\n",
    "\n",
    "- Для базовой классификации перейдите в basic_#####.ipynb\n",
    "- Для блоковой продолжите в этом ноутбуке.\n",
    "\n",
    "\n",
    "***Здесь рекомендуется перезапустить ноутбук!***"
   ]
  },
  {
   "attachments": {},
   "cell_type": "markdown",
   "id": "dc78a59d",
   "metadata": {},
   "source": [
    "## Sliding Window "
   ]
  },
  {
   "attachments": {},
   "cell_type": "markdown",
   "id": "d77662fb",
   "metadata": {},
   "source": [
    "Для перехода к блокам, необходимо реализовать скользящее окно к трёхмерным данным. В результате, получается огромный массив данных (около 800гб). Используется dask для ленивой обработки данных."
   ]
  },
  {
   "cell_type": "code",
   "execution_count": 59,
   "id": "7bd00300",
   "metadata": {
    "ExecuteTime": {
     "end_time": "2023-03-10T10:50:58.382176Z",
     "start_time": "2023-03-10T10:50:56.615703Z"
    }
   },
   "outputs": [],
   "source": [
    "import numpy as np\n",
    "from DWR_preprocess import *\n",
    "\n",
    "import warnings\n",
    "warnings.filterwarnings(\"ignore\")\n",
    "\n",
    "station_number = 26061\n",
    "window = 5"
   ]
  },
  {
   "cell_type": "code",
   "execution_count": 60,
   "id": "e04a4923",
   "metadata": {
    "ExecuteTime": {
     "end_time": "2023-03-10T10:51:08.808093Z",
     "start_time": "2023-03-10T10:50:58.467603Z"
    },
    "scrolled": true
   },
   "outputs": [
    {
     "data": {
      "text/plain": [
       "(2533, 200, 200, 20)"
      ]
     },
     "execution_count": 60,
     "metadata": {},
     "output_type": "execute_result"
    }
   ],
   "source": [
    "# загрузка ранее подготовленого stack\n",
    "stack = np.load(Paths.interim + f'stack_{station_number}.npy')\n",
    "stack.shape"
   ]
  },
  {
   "attachments": {},
   "cell_type": "markdown",
   "id": "75dfae34",
   "metadata": {},
   "source": [
    "Массив нужно разбить на одинаковые батчи, высчитываются делители числа, подберите число около 500-1500, в зависимости от объёма RAM и занесите в split value. Если делителей нет в данном интервале, удалите сроки для подбора нужного числа. \n",
    "\n",
    "К примеру:"
   ]
  },
  {
   "cell_type": "code",
   "execution_count": 61,
   "id": "5f077279",
   "metadata": {
    "scrolled": true
   },
   "outputs": [
    {
     "data": {
      "text/plain": [
       "{1, 17, 149, 2533}"
      ]
     },
     "execution_count": 61,
     "metadata": {},
     "output_type": "execute_result"
    }
   ],
   "source": [
    "#n_to_delete = 1\n",
    "#stack = np.delete(stack, (np.arange(n_to_delete)), 0) - для удаления\n",
    "factors(stack.shape[0])"
   ]
  },
  {
   "cell_type": "code",
   "execution_count": 62,
   "id": "f97e5591",
   "metadata": {},
   "outputs": [
    {
     "data": {
      "text/plain": [
       "{1, 2, 3, 4, 6, 12, 211, 422, 633, 844, 1266, 2532}"
      ]
     },
     "execution_count": 62,
     "metadata": {},
     "output_type": "execute_result"
    }
   ],
   "source": [
    "n_to_delete = 1\n",
    "stack = np.delete(stack, (np.arange(n_to_delete)), 0) #- для удаления\n",
    "factors(stack.shape[0])"
   ]
  },
  {
   "cell_type": "code",
   "execution_count": 63,
   "id": "ee222f04",
   "metadata": {
    "ExecuteTime": {
     "end_time": "2023-03-10T10:51:09.049480Z",
     "start_time": "2023-03-10T10:51:09.043840Z"
    }
   },
   "outputs": [
    {
     "name": "stdout",
     "output_type": "stream",
     "text": [
      "target is already computed\n",
      "delta is already computed\n"
     ]
    }
   ],
   "source": [
    "# Предобработка блоков для упрощения и ускорения ленивых расчётов\n",
    "precomputing(stack, station_number, window, distribution=np.random.uniform, value=0.03)"
   ]
  },
  {
   "cell_type": "code",
   "execution_count": 11,
   "id": "db1a34f9",
   "metadata": {
    "ExecuteTime": {
     "end_time": "2023-03-10T11:16:22.393336Z",
     "start_time": "2023-03-10T10:51:09.253796Z"
    },
    "scrolled": false
   },
   "outputs": [
    {
     "name": "stdout",
     "output_type": "stream",
     "text": [
      "Iteration: 0\n",
      "Iteration data is \n",
      " dask.array<reshape, shape=(48634656, 5, 5, 20), dtype=int32, chunksize=(1190896, 5, 5, 20), chunktype=numpy.ndarray>\n",
      "TF: false-(48613920,), true-(20736,)\n"
     ]
    },
    {
     "data": {
      "application/vnd.jupyter.widget-view+json": {
       "model_id": "0e4def5dda2242e283dec667d2211552",
       "version_major": 2,
       "version_minor": 0
      },
      "text/plain": [
       "  0%|          | 0/44 [00:00<?, ?it/s]"
      ]
     },
     "metadata": {},
     "output_type": "display_data"
    },
    {
     "name": "stdout",
     "output_type": "stream",
     "text": [
      "Remaining percent  = 3.0\n"
     ]
    },
    {
     "data": {
      "application/vnd.jupyter.widget-view+json": {
       "model_id": "4b4d0a13d5cc4f15a000d0fa49f3bcf7",
       "version_major": 2,
       "version_minor": 0
      },
      "text/plain": [
       "  0%|          | 0/44 [00:00<?, ?it/s]"
      ]
     },
     "metadata": {},
     "output_type": "display_data"
    },
    {
     "data": {
      "application/vnd.jupyter.widget-view+json": {
       "model_id": "2f50c01919be4eddbc070b54979abcf6",
       "version_major": 2,
       "version_minor": 0
      },
      "text/plain": [
       "  0%|          | 0/42 [00:00<?, ?it/s]"
      ]
     },
     "metadata": {},
     "output_type": "display_data"
    },
    {
     "name": "stdout",
     "output_type": "stream",
     "text": [
      "TF processed \n",
      " : false-(415462,), true-(19589,)\n",
      "Iteration result is \n",
      " dask.array<concatenate, shape=(435051, 5, 5, 20), dtype=int32, chunksize=(20824, 5, 5, 20), chunktype=numpy.ndarray>\n"
     ]
    },
    {
     "data": {
      "application/vnd.jupyter.widget-view+json": {
       "model_id": "a3bcd9742c494400932d9e4924abe933",
       "version_major": 2,
       "version_minor": 0
      },
      "text/plain": [
       "  0%|          | 0/86 [00:00<?, ?it/s]"
      ]
     },
     "metadata": {},
     "output_type": "display_data"
    },
    {
     "name": "stdout",
     "output_type": "stream",
     "text": [
      "Iteration: 1\n",
      "Iteration data is \n",
      " dask.array<reshape, shape=(48634656, 5, 5, 20), dtype=int32, chunksize=(1190896, 5, 5, 20), chunktype=numpy.ndarray>\n",
      "TF: false-(48624505,), true-(10151,)\n"
     ]
    },
    {
     "data": {
      "application/vnd.jupyter.widget-view+json": {
       "model_id": "9d3e4f85ee51450aaf6f87df5f8ccdaf",
       "version_major": 2,
       "version_minor": 0
      },
      "text/plain": [
       "  0%|          | 0/44 [00:00<?, ?it/s]"
      ]
     },
     "metadata": {},
     "output_type": "display_data"
    },
    {
     "name": "stdout",
     "output_type": "stream",
     "text": [
      "Remaining percent  = 3.0\n"
     ]
    },
    {
     "data": {
      "application/vnd.jupyter.widget-view+json": {
       "model_id": "06abdb06c38f443a9ec14773a870e7e3",
       "version_major": 2,
       "version_minor": 0
      },
      "text/plain": [
       "  0%|          | 0/44 [00:00<?, ?it/s]"
      ]
     },
     "metadata": {},
     "output_type": "display_data"
    },
    {
     "data": {
      "application/vnd.jupyter.widget-view+json": {
       "model_id": "368788bb954540f8bd8284c6646459d5",
       "version_major": 2,
       "version_minor": 0
      },
      "text/plain": [
       "  0%|          | 0/39 [00:00<?, ?it/s]"
      ]
     },
     "metadata": {},
     "output_type": "display_data"
    },
    {
     "name": "stdout",
     "output_type": "stream",
     "text": [
      "TF processed \n",
      " : false-(373040,), true-(9388,)\n",
      "Iteration result is \n",
      " dask.array<concatenate, shape=(382428, 5, 5, 20), dtype=int32, chunksize=(20448, 5, 5, 20), chunktype=numpy.ndarray>\n"
     ]
    },
    {
     "data": {
      "application/vnd.jupyter.widget-view+json": {
       "model_id": "5911e2d5538245168d721f282df0b408",
       "version_major": 2,
       "version_minor": 0
      },
      "text/plain": [
       "  0%|          | 0/83 [00:00<?, ?it/s]"
      ]
     },
     "metadata": {},
     "output_type": "display_data"
    },
    {
     "name": "stdout",
     "output_type": "stream",
     "text": [
      "CPU times: user 7min 1s, sys: 9min 28s, total: 16min 30s\n",
      "Wall time: 10min 36s\n"
     ]
    }
   ],
   "source": [
    "%%time\n",
    "# алгоритм сдвигающегося окна, реализованного на dask.\n",
    "window_data_filter(stack, split_value=1266, window=5, station_number=station_number)"
   ]
  },
  {
   "attachments": {},
   "cell_type": "markdown",
   "id": "765ffb52",
   "metadata": {},
   "source": [
    "***Здесь рекомендуется перезапустить ноутбук!***"
   ]
  },
  {
   "attachments": {},
   "cell_type": "markdown",
   "id": "b9492fc1",
   "metadata": {},
   "source": [
    "## Machine Learning preprocessing"
   ]
  },
  {
   "attachments": {},
   "cell_type": "markdown",
   "id": "b08c6ce8",
   "metadata": {},
   "source": [
    "Обработка данных для машинного обучения."
   ]
  },
  {
   "cell_type": "code",
   "execution_count": 1,
   "id": "d1fd014b",
   "metadata": {},
   "outputs": [],
   "source": [
    "from DWR_preprocess import *\n",
    "\n",
    "window_shape = 5\n",
    "station_number = 26061"
   ]
  },
  {
   "cell_type": "code",
   "execution_count": 2,
   "id": "203132b4",
   "metadata": {
    "ExecuteTime": {
     "end_time": "2023-03-10T14:21:06.587012Z",
     "start_time": "2023-03-10T14:19:32.120547Z"
    },
    "scrolled": true
   },
   "outputs": [
    {
     "name": "stderr",
     "output_type": "stream",
     "text": [
      "100%|██████████| 169/169 [00:00<00:00, 390.61it/s]\n",
      "/home/meteofurletov/iram/lightning/notebooks/DWR_preprocess.py:1441: RuntimeWarning: invalid value encountered in log\n",
      "  log_list.append(np.log(df[f\"Zmax_layer_{level_y[i]}\"][i]))\n",
      "/home/meteofurletov/iram/lightning/notebooks/DWR_preprocess.py:1441: RuntimeWarning: divide by zero encountered in log\n",
      "  log_list.append(np.log(df[f\"Zmax_layer_{level_y[i]}\"][i]))\n"
     ]
    }
   ],
   "source": [
    "df = from_windows_to_df(Paths.data + f'lightning_stack_{station_number}', 5, station_number)"
   ]
  },
  {
   "attachments": {},
   "cell_type": "markdown",
   "id": "970a0473",
   "metadata": {},
   "source": [
    "Сохраняет в Convective_cloud_windows_data"
   ]
  },
  {
   "attachments": {},
   "cell_type": "markdown",
   "id": "2f33d702",
   "metadata": {},
   "source": [
    "Описание колонок:\n",
    "- R(X,Y,Z) - Отражаемость в ячейке X, Y, (координаты в блоке) и на уровне Z\n",
    "- H(X,Y) - Максимальная высота радиоэха\n",
    "- iso22 - высота изотермы -22\n",
    "- iso0 - высота изотермы 0\n",
    "- date - дата в pd.datetime(['m'])\n",
    "- x_coor - координата ячейки на всём изображении\n",
    "- y_coor - координата ячейки на всём изображении\n",
    "- target - отметки грозопеленгатора\n",
    "- Zmax_layer_Z - Максимальная отражаемость на уровне Z\n",
    "- y_param - параметр y \n",
    "- H_Zmax - уровень максимальной отражаемости"
   ]
  },
  {
   "cell_type": "code",
   "execution_count": 67,
   "id": "60d84aed",
   "metadata": {},
   "outputs": [
    {
     "data": {
      "text/html": [
       "<div>\n",
       "<style scoped>\n",
       "    .dataframe tbody tr th:only-of-type {\n",
       "        vertical-align: middle;\n",
       "    }\n",
       "\n",
       "    .dataframe tbody tr th {\n",
       "        vertical-align: top;\n",
       "    }\n",
       "\n",
       "    .dataframe thead th {\n",
       "        text-align: right;\n",
       "    }\n",
       "</style>\n",
       "<table border=\"1\" class=\"dataframe\">\n",
       "  <thead>\n",
       "    <tr style=\"text-align: right;\">\n",
       "      <th></th>\n",
       "      <th>R(0,0,1)</th>\n",
       "      <th>R(0,0,2)</th>\n",
       "      <th>R(0,0,3)</th>\n",
       "      <th>R(0,0,4)</th>\n",
       "      <th>R(0,0,5)</th>\n",
       "      <th>R(0,0,6)</th>\n",
       "      <th>R(0,0,7)</th>\n",
       "      <th>R(0,0,8)</th>\n",
       "      <th>R(0,0,9)</th>\n",
       "      <th>R(0,0,10)</th>\n",
       "      <th>...</th>\n",
       "      <th>Zmax_layer_4</th>\n",
       "      <th>Zmax_layer_5</th>\n",
       "      <th>Zmax_layer_6</th>\n",
       "      <th>Zmax_layer_7</th>\n",
       "      <th>Zmax_layer_8</th>\n",
       "      <th>Zmax_layer_9</th>\n",
       "      <th>Zmax_layer_10</th>\n",
       "      <th>Zmax_layer_11</th>\n",
       "      <th>y_param</th>\n",
       "      <th>H_Zmax</th>\n",
       "    </tr>\n",
       "  </thead>\n",
       "  <tbody>\n",
       "    <tr>\n",
       "      <th>count</th>\n",
       "      <td>817479.000000</td>\n",
       "      <td>817479.000000</td>\n",
       "      <td>817479.000000</td>\n",
       "      <td>817479.000000</td>\n",
       "      <td>817479.000000</td>\n",
       "      <td>817479.000000</td>\n",
       "      <td>817479.000000</td>\n",
       "      <td>817479.000000</td>\n",
       "      <td>817479.000000</td>\n",
       "      <td>817479.000000</td>\n",
       "      <td>...</td>\n",
       "      <td>817479.000000</td>\n",
       "      <td>817479.000000</td>\n",
       "      <td>817479.000000</td>\n",
       "      <td>817479.000000</td>\n",
       "      <td>817479.000000</td>\n",
       "      <td>817479.000000</td>\n",
       "      <td>817479.000000</td>\n",
       "      <td>817479.000000</td>\n",
       "      <td>817479.000000</td>\n",
       "      <td>817479.000000</td>\n",
       "    </tr>\n",
       "    <tr>\n",
       "      <th>mean</th>\n",
       "      <td>-62.763680</td>\n",
       "      <td>-51.067234</td>\n",
       "      <td>-39.376440</td>\n",
       "      <td>-31.424970</td>\n",
       "      <td>-35.316812</td>\n",
       "      <td>-47.107411</td>\n",
       "      <td>-63.954861</td>\n",
       "      <td>-77.968808</td>\n",
       "      <td>-86.589936</td>\n",
       "      <td>-91.848725</td>\n",
       "      <td>...</td>\n",
       "      <td>2.431347</td>\n",
       "      <td>-2.952125</td>\n",
       "      <td>-17.288866</td>\n",
       "      <td>-39.761030</td>\n",
       "      <td>-62.356437</td>\n",
       "      <td>-77.524635</td>\n",
       "      <td>-86.252395</td>\n",
       "      <td>-92.172733</td>\n",
       "      <td>14.070105</td>\n",
       "      <td>3.417464</td>\n",
       "    </tr>\n",
       "    <tr>\n",
       "      <th>std</th>\n",
       "      <td>54.073047</td>\n",
       "      <td>57.494235</td>\n",
       "      <td>57.822216</td>\n",
       "      <td>55.683653</td>\n",
       "      <td>55.529271</td>\n",
       "      <td>55.713828</td>\n",
       "      <td>52.222115</td>\n",
       "      <td>44.710791</td>\n",
       "      <td>36.669327</td>\n",
       "      <td>29.370239</td>\n",
       "      <td>...</td>\n",
       "      <td>39.141341</td>\n",
       "      <td>42.419296</td>\n",
       "      <td>51.105623</td>\n",
       "      <td>56.757589</td>\n",
       "      <td>53.805403</td>\n",
       "      <td>45.830980</td>\n",
       "      <td>37.620137</td>\n",
       "      <td>29.276936</td>\n",
       "      <td>10.464507</td>\n",
       "      <td>1.792972</td>\n",
       "    </tr>\n",
       "    <tr>\n",
       "      <th>min</th>\n",
       "      <td>-100.000000</td>\n",
       "      <td>-100.000000</td>\n",
       "      <td>-100.000000</td>\n",
       "      <td>-100.000000</td>\n",
       "      <td>-100.000000</td>\n",
       "      <td>-100.000000</td>\n",
       "      <td>-100.000000</td>\n",
       "      <td>-100.000000</td>\n",
       "      <td>-100.000000</td>\n",
       "      <td>-100.000000</td>\n",
       "      <td>...</td>\n",
       "      <td>-100.000000</td>\n",
       "      <td>-100.000000</td>\n",
       "      <td>-100.000000</td>\n",
       "      <td>-100.000000</td>\n",
       "      <td>-100.000000</td>\n",
       "      <td>-100.000000</td>\n",
       "      <td>-100.000000</td>\n",
       "      <td>-100.000000</td>\n",
       "      <td>0.000000</td>\n",
       "      <td>1.000000</td>\n",
       "    </tr>\n",
       "    <tr>\n",
       "      <th>25%</th>\n",
       "      <td>-100.000000</td>\n",
       "      <td>-100.000000</td>\n",
       "      <td>-100.000000</td>\n",
       "      <td>-100.000000</td>\n",
       "      <td>-100.000000</td>\n",
       "      <td>-100.000000</td>\n",
       "      <td>-100.000000</td>\n",
       "      <td>-100.000000</td>\n",
       "      <td>-100.000000</td>\n",
       "      <td>-100.000000</td>\n",
       "      <td>...</td>\n",
       "      <td>7.000000</td>\n",
       "      <td>5.000000</td>\n",
       "      <td>-100.000000</td>\n",
       "      <td>-100.000000</td>\n",
       "      <td>-100.000000</td>\n",
       "      <td>-100.000000</td>\n",
       "      <td>-100.000000</td>\n",
       "      <td>-100.000000</td>\n",
       "      <td>7.000000</td>\n",
       "      <td>2.000000</td>\n",
       "    </tr>\n",
       "    <tr>\n",
       "      <th>50%</th>\n",
       "      <td>-100.000000</td>\n",
       "      <td>-100.000000</td>\n",
       "      <td>3.000000</td>\n",
       "      <td>5.000000</td>\n",
       "      <td>3.000000</td>\n",
       "      <td>-100.000000</td>\n",
       "      <td>-100.000000</td>\n",
       "      <td>-100.000000</td>\n",
       "      <td>-100.000000</td>\n",
       "      <td>-100.000000</td>\n",
       "      <td>...</td>\n",
       "      <td>13.000000</td>\n",
       "      <td>11.000000</td>\n",
       "      <td>8.000000</td>\n",
       "      <td>1.000000</td>\n",
       "      <td>-100.000000</td>\n",
       "      <td>-100.000000</td>\n",
       "      <td>-100.000000</td>\n",
       "      <td>-100.000000</td>\n",
       "      <td>14.000000</td>\n",
       "      <td>3.000000</td>\n",
       "    </tr>\n",
       "    <tr>\n",
       "      <th>75%</th>\n",
       "      <td>8.000000</td>\n",
       "      <td>13.000000</td>\n",
       "      <td>14.000000</td>\n",
       "      <td>14.000000</td>\n",
       "      <td>12.000000</td>\n",
       "      <td>9.000000</td>\n",
       "      <td>4.000000</td>\n",
       "      <td>-100.000000</td>\n",
       "      <td>-100.000000</td>\n",
       "      <td>-100.000000</td>\n",
       "      <td>...</td>\n",
       "      <td>21.000000</td>\n",
       "      <td>18.000000</td>\n",
       "      <td>15.000000</td>\n",
       "      <td>12.000000</td>\n",
       "      <td>6.000000</td>\n",
       "      <td>-100.000000</td>\n",
       "      <td>-100.000000</td>\n",
       "      <td>-100.000000</td>\n",
       "      <td>20.000000</td>\n",
       "      <td>5.000000</td>\n",
       "    </tr>\n",
       "    <tr>\n",
       "      <th>max</th>\n",
       "      <td>61.000000</td>\n",
       "      <td>58.000000</td>\n",
       "      <td>58.000000</td>\n",
       "      <td>56.000000</td>\n",
       "      <td>57.000000</td>\n",
       "      <td>56.000000</td>\n",
       "      <td>55.000000</td>\n",
       "      <td>54.000000</td>\n",
       "      <td>54.000000</td>\n",
       "      <td>54.000000</td>\n",
       "      <td>...</td>\n",
       "      <td>58.000000</td>\n",
       "      <td>58.000000</td>\n",
       "      <td>57.000000</td>\n",
       "      <td>64.000000</td>\n",
       "      <td>64.000000</td>\n",
       "      <td>56.000000</td>\n",
       "      <td>56.000000</td>\n",
       "      <td>55.000000</td>\n",
       "      <td>63.000000</td>\n",
       "      <td>11.000000</td>\n",
       "    </tr>\n",
       "  </tbody>\n",
       "</table>\n",
       "<p>8 rows × 322 columns</p>\n",
       "</div>"
      ],
      "text/plain": [
       "            R(0,0,1)       R(0,0,2)       R(0,0,3)       R(0,0,4)   \n",
       "count  817479.000000  817479.000000  817479.000000  817479.000000  \\\n",
       "mean      -62.763680     -51.067234     -39.376440     -31.424970   \n",
       "std        54.073047      57.494235      57.822216      55.683653   \n",
       "min      -100.000000    -100.000000    -100.000000    -100.000000   \n",
       "25%      -100.000000    -100.000000    -100.000000    -100.000000   \n",
       "50%      -100.000000    -100.000000       3.000000       5.000000   \n",
       "75%         8.000000      13.000000      14.000000      14.000000   \n",
       "max        61.000000      58.000000      58.000000      56.000000   \n",
       "\n",
       "            R(0,0,5)       R(0,0,6)       R(0,0,7)       R(0,0,8)   \n",
       "count  817479.000000  817479.000000  817479.000000  817479.000000  \\\n",
       "mean      -35.316812     -47.107411     -63.954861     -77.968808   \n",
       "std        55.529271      55.713828      52.222115      44.710791   \n",
       "min      -100.000000    -100.000000    -100.000000    -100.000000   \n",
       "25%      -100.000000    -100.000000    -100.000000    -100.000000   \n",
       "50%         3.000000    -100.000000    -100.000000    -100.000000   \n",
       "75%        12.000000       9.000000       4.000000    -100.000000   \n",
       "max        57.000000      56.000000      55.000000      54.000000   \n",
       "\n",
       "            R(0,0,9)      R(0,0,10)  ...   Zmax_layer_4   Zmax_layer_5   \n",
       "count  817479.000000  817479.000000  ...  817479.000000  817479.000000  \\\n",
       "mean      -86.589936     -91.848725  ...       2.431347      -2.952125   \n",
       "std        36.669327      29.370239  ...      39.141341      42.419296   \n",
       "min      -100.000000    -100.000000  ...    -100.000000    -100.000000   \n",
       "25%      -100.000000    -100.000000  ...       7.000000       5.000000   \n",
       "50%      -100.000000    -100.000000  ...      13.000000      11.000000   \n",
       "75%      -100.000000    -100.000000  ...      21.000000      18.000000   \n",
       "max        54.000000      54.000000  ...      58.000000      58.000000   \n",
       "\n",
       "        Zmax_layer_6   Zmax_layer_7   Zmax_layer_8   Zmax_layer_9   \n",
       "count  817479.000000  817479.000000  817479.000000  817479.000000  \\\n",
       "mean      -17.288866     -39.761030     -62.356437     -77.524635   \n",
       "std        51.105623      56.757589      53.805403      45.830980   \n",
       "min      -100.000000    -100.000000    -100.000000    -100.000000   \n",
       "25%      -100.000000    -100.000000    -100.000000    -100.000000   \n",
       "50%         8.000000       1.000000    -100.000000    -100.000000   \n",
       "75%        15.000000      12.000000       6.000000    -100.000000   \n",
       "max        57.000000      64.000000      64.000000      56.000000   \n",
       "\n",
       "       Zmax_layer_10  Zmax_layer_11        y_param         H_Zmax  \n",
       "count  817479.000000  817479.000000  817479.000000  817479.000000  \n",
       "mean      -86.252395     -92.172733      14.070105       3.417464  \n",
       "std        37.620137      29.276936      10.464507       1.792972  \n",
       "min      -100.000000    -100.000000       0.000000       1.000000  \n",
       "25%      -100.000000    -100.000000       7.000000       2.000000  \n",
       "50%      -100.000000    -100.000000      14.000000       3.000000  \n",
       "75%      -100.000000    -100.000000      20.000000       5.000000  \n",
       "max        56.000000      55.000000      63.000000      11.000000  \n",
       "\n",
       "[8 rows x 322 columns]"
      ]
     },
     "execution_count": 67,
     "metadata": {},
     "output_type": "execute_result"
    }
   ],
   "source": [
    "df.describe()"
   ]
  },
  {
   "attachments": {},
   "cell_type": "markdown",
   "id": "6d2cceff",
   "metadata": {},
   "source": [
    "## Filtering data"
   ]
  },
  {
   "attachments": {},
   "cell_type": "markdown",
   "id": "2e24e5c5",
   "metadata": {},
   "source": [
    "Фильтрация данных, сохраняет в df_filter_#####.ipynb"
   ]
  },
  {
   "cell_type": "code",
   "execution_count": 17,
   "id": "948afd12",
   "metadata": {},
   "outputs": [
    {
     "name": "stdout",
     "output_type": "stream",
     "text": [
      "Before: 0 - (788502,), 1 - (28977,)\n",
      "After:  0 - (741665,), 1 - (25233,)\n"
     ]
    }
   ],
   "source": [
    "df = true_data_filter(Paths.interim + f'{station_number}_Convective_cloud_windows_data.parquet',station_number)"
   ]
  },
  {
   "attachments": {},
   "cell_type": "markdown",
   "id": "e40b1869",
   "metadata": {
    "ExecuteTime": {
     "end_time": "2023-03-10T13:41:14.706755Z",
     "start_time": "2023-03-10T13:41:13.411429Z"
    }
   },
   "source": [
    "## RFE (Опционально)"
   ]
  },
  {
   "attachments": {},
   "cell_type": "markdown",
   "id": "57cdd192",
   "metadata": {},
   "source": [
    "Применение алгоритма рекурсивного удаления признаков для отбора. Использовать при генерации или получении новых признаков."
   ]
  },
  {
   "cell_type": "code",
   "execution_count": 18,
   "id": "505f9a74",
   "metadata": {},
   "outputs": [],
   "source": [
    "from DWR_preprocess import *\n",
    "window_shape = 5\n",
    "station_number = 26061"
   ]
  },
  {
   "cell_type": "code",
   "execution_count": 12,
   "id": "ead43a5e",
   "metadata": {},
   "outputs": [
    {
     "name": "stdout",
     "output_type": "stream",
     "text": [
      "(1932860, 14) (483216, 14) (1932860,) (483216,)\n",
      "Fitting pipeline\n",
      "Optimal number of features : 11\n"
     ]
    },
    {
     "data": {
      "image/png": "[encoded data removed]",
      "text/plain": [
       "<Figure size 800x550 with 1 Axes>"
      ]
     },
     "metadata": {},
     "output_type": "display_data"
    }
   ],
   "source": [
    "df_ranks, features = recursive_feature_elimination(Paths.interim + f'df_filter_{station_number}.parquet', station_number)"
   ]
  },
  {
   "attachments": {},
   "cell_type": "markdown",
   "id": "ac4bad56",
   "metadata": {},
   "source": [
    "### Подготовленные признаки"
   ]
  },
  {
   "cell_type": "code",
   "execution_count": 80,
   "id": "d3aae76f",
   "metadata": {},
   "outputs": [],
   "source": [
    "# Отобранные признаки для классификации\n",
    "features = ['Hmax',\n",
    " 'Zmax',\n",
    " 'Zmax_layer_6',\n",
    " 'Zmax_layer_7',\n",
    " 'Zmax_layer_8',\n",
    " 'Zmax_layer_9',\n",
    " 'Zmax_layer_10',\n",
    " 'H_Zmax',\n",
    " 'target']"
   ]
  },
  {
   "attachments": {},
   "cell_type": "markdown",
   "id": "a63d79b9",
   "metadata": {},
   "source": [
    "Сохраняет selected_df."
   ]
  },
  {
   "cell_type": "code",
   "execution_count": 81,
   "id": "110ff30a",
   "metadata": {},
   "outputs": [],
   "source": [
    "df_filter = pd.read_parquet(Paths.interim + f'df_filter_{station_number}.parquet')\n",
    "selected_df = df_filter[features]\n",
    "selected_df['target'] = np.where(selected_df['target'] > 0, 1, 0)\n",
    "selected_df.to_parquet(\n",
    "        Paths.interim + f'selected_df_{station_number}.parquet')"
   ]
  },
  {
   "attachments": {},
   "cell_type": "markdown",
   "id": "fd0616d2",
   "metadata": {},
   "source": [
    "## Oversampling\n",
    "\n",
    "Для решения задачи дисбаланса классов, случаи с грозой будут увеличены в оптимальное кол-во раз.\n",
    "Сохраняется в numpy_data"
   ]
  },
  {
   "cell_type": "code",
   "execution_count": 2,
   "id": "43a3b8ea",
   "metadata": {},
   "outputs": [
    {
     "name": "stdout",
     "output_type": "stream",
     "text": [
      "Scaler params: means [ 6.31458606e+03  1.78898724e+01 -1.72888661e+01 -3.97610299e+01\n",
      " -6.23564373e+01 -7.75246349e+01 -8.62523955e+01  3.41746393e+00], vars: [4.51566501e+06 1.16717871e+02 2.61178146e+03 3.22141998e+03\n",
      " 2.89501788e+03 2.10047618e+03 1.41527294e+03 3.21474548e+00]\n",
      "Original dataset shape Counter({0: 630921, 1: 23062})\n",
      "iteration: 0\n",
      "iteration: 1\n",
      "iteration: 2\n",
      "iteration: 3\n",
      "iteration: 4\n",
      "iteration: 5\n",
      "Best oversampling at 2 repeat with f1: 0.56\n",
      "Original dataset shape Counter({0: 630921, 1: 23062})\n",
      "Resampled dataset shape Counter({0: 630921, 1: 69186})\n",
      "Accuracy is 0.9665\n",
      "f1_score is 0.5614\n",
      "precision_score is 0.608\n",
      "recall_score is 0.5214\n",
      "roc_auc_score is 0.7938\n",
      "HSS is 0.5441\n",
      "ETS is 0.3737\n",
      "CSI is 0.3902\n",
      "sedi is 0.764\n"
     ]
    },
    {
     "data": {
      "image/png": "[encoded data removed]",
      "text/plain": [
       "<Figure size 640x480 with 2 Axes>"
      ]
     },
     "metadata": {},
     "output_type": "display_data"
    }
   ],
   "source": [
    "oversampler_and_scaler(Paths.interim + f'selected_df_{station_number}.parquet', station_number)"
   ]
  },
  {
   "attachments": {},
   "cell_type": "markdown",
   "id": "a4edcc4f",
   "metadata": {},
   "source": [
    "## Machine learning"
   ]
  },
  {
   "attachments": {},
   "cell_type": "markdown",
   "id": "15787fb3",
   "metadata": {},
   "source": [
    "Работа с моделями."
   ]
  },
  {
   "cell_type": "code",
   "execution_count": 1,
   "id": "3757ebe3",
   "metadata": {},
   "outputs": [],
   "source": [
    "import numpy as np\n",
    "import pandas as pd\n",
    "import matplotlib.pyplot as plt\n",
    "import matplotlib.patches as patches\n",
    "import seaborn as sns\n",
    "\n",
    "import torch\n",
    "from DWR_preprocess import *\n",
    "import sklearn\n",
    "from sklearn.ensemble import RandomForestClassifier\n",
    "from sklearn.linear_model import  SGDClassifier\n",
    "from sklearn.neighbors import KNeighborsClassifier\n",
    "\n",
    "import warnings\n",
    "warnings.filterwarnings(\"ignore\")\n",
    "\n",
    "station_number = 26061\n",
    "window = 5"
   ]
  },
  {
   "cell_type": "code",
   "execution_count": 2,
   "id": "3451ae62",
   "metadata": {},
   "outputs": [],
   "source": [
    "X_train =  np.load(Paths.data + f\"X_train_{station_number}.npy\")\n",
    "y_train =  np.load(Paths.data + f\"y_train_{station_number}.npy\")\n",
    "X_test =   np.load(Paths.data + f\"X_test_{station_number}.npy\")\n",
    "y_test =   np.load(Paths.data + f\"y_test_{station_number}.npy\")"
   ]
  },
  {
   "cell_type": "code",
   "execution_count": 3,
   "id": "dd12d531",
   "metadata": {},
   "outputs": [
    {
     "data": {
      "text/plain": [
       "(array([0, 1]), array([157730,   5766]))"
      ]
     },
     "execution_count": 3,
     "metadata": {},
     "output_type": "execute_result"
    }
   ],
   "source": [
    "# баланс классов на тесте\n",
    "np.unique(y_test, return_counts=True)"
   ]
  },
  {
   "cell_type": "code",
   "execution_count": 4,
   "id": "72cd10f0",
   "metadata": {},
   "outputs": [
    {
     "name": "stdout",
     "output_type": "stream",
     "text": [
      "Accuracy is 0.967\n",
      "f1_score is 0.5584\n",
      "precision_score is 0.5921\n",
      "recall_score is 0.5284\n",
      "roc_auc_score is 0.7864\n",
      "HSS is 0.5413\n",
      "ETS is 0.3711\n",
      "CSI is 0.3874\n",
      "sedi is 0.767\n",
      "CPU times: user 1.3 s, sys: 12.3 ms, total: 1.31 s\n",
      "Wall time: 1.31 s\n"
     ]
    },
    {
     "data": {
      "image/png": "[encoded data removed]",
      "text/plain": [
       "<Figure size 800x550 with 2 Axes>"
      ]
     },
     "metadata": {},
     "output_type": "display_data"
    }
   ],
   "source": [
    "%%time\n",
    "#classificator \n",
    "sgd = SGDClassifier(penalty='elasticnet',loss=\"log\", n_jobs = -1, random_state=4200) \n",
    "sgd.fit(X_train, y_train)\n",
    "sgd_pred = sgd.predict(X_test)\n",
    "\n",
    "\n",
    "# get scores\n",
    "sgd_res = scorer(y_test, sgd_pred)"
   ]
  },
  {
   "attachments": {},
   "cell_type": "markdown",
   "id": "7b58af6e",
   "metadata": {},
   "source": [
    "Получение коэффицентов ур-ия. Описание в файле -  классификация_гроз_коэффициенты.txt"
   ]
  },
  {
   "cell_type": "code",
   "execution_count": 5,
   "id": "4bb647cc",
   "metadata": {},
   "outputs": [
    {
     "data": {
      "text/plain": [
       "(array([[0.54266458, 0.93129322, 0.54403173, 0.41041373, 0.24945749,\n",
       "         0.19808833, 0.11543855, 0.29129233]]),\n",
       " array([-4.87668931]))"
      ]
     },
     "execution_count": 5,
     "metadata": {},
     "output_type": "execute_result"
    }
   ],
   "source": [
    "sgd.coef_, sgd.intercept_"
   ]
  },
  {
   "cell_type": "code",
   "execution_count": 6,
   "id": "0b487838",
   "metadata": {},
   "outputs": [],
   "source": [
    "features = ['Hmax',\n",
    " 'Zmax',\n",
    " 'Zmax_layer_6',\n",
    " 'Zmax_layer_7',\n",
    " 'Zmax_layer_8',\n",
    " 'Zmax_layer_9',\n",
    " 'Zmax_layer_10',\n",
    " 'H_Zmax']"
   ]
  },
  {
   "cell_type": "code",
   "execution_count": 7,
   "id": "30e7ee16",
   "metadata": {},
   "outputs": [],
   "source": [
    "result = np.dot(X_test,sgd.coef_.T)+sgd.intercept_"
   ]
  },
  {
   "cell_type": "code",
   "execution_count": 8,
   "id": "2c4d9690",
   "metadata": {},
   "outputs": [],
   "source": [
    "preds = np.where(result >= 0, 1,0)"
   ]
  },
  {
   "attachments": {},
   "cell_type": "markdown",
   "id": "abd110af",
   "metadata": {},
   "source": [
    "Использование различных алгортимов \"из коробки\"."
   ]
  },
  {
   "cell_type": "code",
   "execution_count": 42,
   "id": "df02fec2",
   "metadata": {},
   "outputs": [
    {
     "name": "stdout",
     "output_type": "stream",
     "text": [
      "Accuracy is 0.9723\n",
      "f1_score is 0.5977\n",
      "precision_score is 0.5831\n",
      "recall_score is 0.6132\n",
      "roc_auc_score is 0.7848\n",
      "HSS is 0.5834\n",
      "ETS is 0.4119\n",
      "CSI is 0.4263\n",
      "sedi is 0.8211\n",
      "CPU times: user 3min 2s, sys: 762 ms, total: 3min 3s\n",
      "Wall time: 18 s\n"
     ]
    },
    {
     "data": {
      "image/png": "[encoded data removed]",
      "text/plain": [
       "<Figure size 800x550 with 2 Axes>"
      ]
     },
     "metadata": {},
     "output_type": "display_data"
    }
   ],
   "source": [
    "%%time\n",
    "#classificator \n",
    "rf = RandomForestClassifier(n_jobs = -2) \n",
    "rf.fit(X_train, y_train)\n",
    "rf_pred = rf.predict(X_test)\n",
    "\n",
    "# get scores\n",
    "rf_res = scorer(y_test, rf_pred)"
   ]
  },
  {
   "cell_type": "code",
   "execution_count": 43,
   "id": "23bce887",
   "metadata": {},
   "outputs": [
    {
     "name": "stdout",
     "output_type": "stream",
     "text": [
      "Accuracy is 0.9622\n",
      "f1_score is 0.5569\n",
      "precision_score is 0.6738\n",
      "recall_score is 0.4746\n",
      "roc_auc_score is 0.8233\n",
      "HSS is 0.5378\n",
      "ETS is 0.3678\n",
      "CSI is 0.3859\n",
      "sedi is 0.7395\n",
      "CPU times: user 43.2 s, sys: 28.8 ms, total: 43.2 s\n",
      "Wall time: 8.08 s\n"
     ]
    },
    {
     "data": {
      "image/png": "[encoded data removed]",
      "text/plain": [
       "<Figure size 800x550 with 2 Axes>"
      ]
     },
     "metadata": {},
     "output_type": "display_data"
    }
   ],
   "source": [
    "%%time\n",
    "#classificator \n",
    "knn = KNeighborsClassifier(n_neighbors=9,leaf_size=5, n_jobs = -2) \n",
    "knn.fit(X_train, y_train)\n",
    "knn_pred = knn.predict(X_test)\n",
    "\n",
    "# get scores\n",
    "knn_res = scorer(y_test, knn_pred)"
   ]
  },
  {
   "cell_type": "code",
   "execution_count": 45,
   "id": "769d7a79",
   "metadata": {},
   "outputs": [],
   "source": [
    "from catboost import CatBoostClassifier"
   ]
  },
  {
   "cell_type": "code",
   "execution_count": 46,
   "id": "a3954d37",
   "metadata": {},
   "outputs": [
    {
     "name": "stdout",
     "output_type": "stream",
     "text": [
      "Accuracy is 0.9682\n",
      "f1_score is 0.5904\n",
      "precision_score is 0.6507\n",
      "recall_score is 0.5404\n",
      "roc_auc_score is 0.8152\n",
      "HSS is 0.574\n",
      "ETS is 0.4026\n",
      "CSI is 0.4189\n",
      "sedi is 0.7818\n",
      "CPU times: user 5min 7s, sys: 15 s, total: 5min 22s\n",
      "Wall time: 44.4 s\n"
     ]
    },
    {
     "data": {
      "image/png": "[encoded data removed]",
      "text/plain": [
       "<Figure size 800x550 with 2 Axes>"
      ]
     },
     "metadata": {},
     "output_type": "display_data"
    }
   ],
   "source": [
    "%%time\n",
    "#classificator \n",
    "catbc = CatBoostClassifier(verbose=0) \n",
    "catbc.fit(X_train, y_train)\n",
    "catbc_pred = catbc.predict(X_test)\n",
    "\n",
    "# get scores\n",
    "catbc_res = scorer(y_test, catbc_pred)"
   ]
  },
  {
   "attachments": {},
   "cell_type": "markdown",
   "id": "9b190af4",
   "metadata": {},
   "source": [
    "Итоговые таблицы метрик"
   ]
  },
  {
   "cell_type": "code",
   "execution_count": null,
   "id": "906a4705",
   "metadata": {},
   "outputs": [
    {
     "data": {
      "text/html": [
       "<div>\n",
       "<style scoped>\n",
       "    .dataframe tbody tr th:only-of-type {\n",
       "        vertical-align: middle;\n",
       "    }\n",
       "\n",
       "    .dataframe tbody tr th {\n",
       "        vertical-align: top;\n",
       "    }\n",
       "\n",
       "    .dataframe thead th {\n",
       "        text-align: right;\n",
       "    }\n",
       "</style>\n",
       "<table border=\"1\" class=\"dataframe\">\n",
       "  <thead>\n",
       "    <tr style=\"text-align: right;\">\n",
       "      <th>metrics</th>\n",
       "      <th>acc</th>\n",
       "      <th>f1</th>\n",
       "      <th>pre</th>\n",
       "      <th>rec</th>\n",
       "      <th>roc_auc</th>\n",
       "      <th>hss</th>\n",
       "      <th>ets</th>\n",
       "      <th>csi</th>\n",
       "      <th>sedi</th>\n",
       "    </tr>\n",
       "  </thead>\n",
       "  <tbody>\n",
       "    <tr>\n",
       "      <th>Y_param</th>\n",
       "      <td>0.999308</td>\n",
       "      <td>0.136207</td>\n",
       "      <td>0.160910</td>\n",
       "      <td>0.118080</td>\n",
       "      <td>0.580251</td>\n",
       "      <td>0.135869</td>\n",
       "      <td>0.072886</td>\n",
       "      <td>0.073081</td>\n",
       "      <td>0.590143</td>\n",
       "    </tr>\n",
       "    <tr>\n",
       "      <th>SGDClassifier</th>\n",
       "      <td>0.976412</td>\n",
       "      <td>0.620768</td>\n",
       "      <td>0.596602</td>\n",
       "      <td>0.646973</td>\n",
       "      <td>0.792858</td>\n",
       "      <td>0.608616</td>\n",
       "      <td>0.437418</td>\n",
       "      <td>0.450082</td>\n",
       "      <td>0.845137</td>\n",
       "    </tr>\n",
       "    <tr>\n",
       "      <th>KNeighborsClassifier</th>\n",
       "      <td>0.976135</td>\n",
       "      <td>0.653857</td>\n",
       "      <td>0.696557</td>\n",
       "      <td>0.616089</td>\n",
       "      <td>0.841021</td>\n",
       "      <td>0.641546</td>\n",
       "      <td>0.472262</td>\n",
       "      <td>0.485726</td>\n",
       "      <td>0.836171</td>\n",
       "    </tr>\n",
       "    <tr>\n",
       "      <th>CatBoostClassifier</th>\n",
       "      <td>0.978000</td>\n",
       "      <td>0.668328</td>\n",
       "      <td>0.684997</td>\n",
       "      <td>0.652452</td>\n",
       "      <td>0.836398</td>\n",
       "      <td>0.656958</td>\n",
       "      <td>0.489157</td>\n",
       "      <td>0.501872</td>\n",
       "      <td>0.855234</td>\n",
       "    </tr>\n",
       "    <tr>\n",
       "      <th>RandomForestClassifier</th>\n",
       "      <td>0.980525</td>\n",
       "      <td>0.684142</td>\n",
       "      <td>0.651785</td>\n",
       "      <td>0.719879</td>\n",
       "      <td>0.821652</td>\n",
       "      <td>0.674120</td>\n",
       "      <td>0.508432</td>\n",
       "      <td>0.519921</td>\n",
       "      <td>0.887839</td>\n",
       "    </tr>\n",
       "  </tbody>\n",
       "</table>\n",
       "</div>"
      ],
      "text/plain": [
       "metrics                      acc        f1       pre       rec   roc_auc  \\\n",
       "Y_param                 0.999308  0.136207  0.160910  0.118080  0.580251   \n",
       "SGDClassifier           0.976412  0.620768  0.596602  0.646973  0.792858   \n",
       "KNeighborsClassifier    0.976135  0.653857  0.696557  0.616089  0.841021   \n",
       "CatBoostClassifier      0.978000  0.668328  0.684997  0.652452  0.836398   \n",
       "RandomForestClassifier  0.980525  0.684142  0.651785  0.719879  0.821652   \n",
       "\n",
       "metrics                      hss       ets       csi      sedi  \n",
       "Y_param                 0.135869  0.072886  0.073081  0.590143  \n",
       "SGDClassifier           0.608616  0.437418  0.450082  0.845137  \n",
       "KNeighborsClassifier    0.641546  0.472262  0.485726  0.836171  \n",
       "CatBoostClassifier      0.656958  0.489157  0.501872  0.855234  \n",
       "RandomForestClassifier  0.674120  0.508432  0.519921  0.887839  "
      ]
     },
     "execution_count": 14,
     "metadata": {},
     "output_type": "execute_result"
    }
   ],
   "source": [
    "metrics = pd.Series(['acc', 'f1', 'pre', 'rec', 'roc_auc', 'hss', 'ets', 'csi', 'sedi'])\n",
    "df = pd.concat([Y_res, sgd_res, knn_res, catbc_res, rf_res, metrics],\n",
    "               axis=1,\n",
    "               keys=['Y_param', \"SGDClassifier\", 'KNeighborsClassifier', 'CatBoostClassifier','RandomForestClassifier', 'metrics']).set_index('metrics')\n",
    "df.T"
   ]
  },
  {
   "cell_type": "code",
   "execution_count": null,
   "id": "7f09e3a1",
   "metadata": {},
   "outputs": [
    {
     "data": {
      "text/html": [
       "<div>\n",
       "<style scoped>\n",
       "    .dataframe tbody tr th:only-of-type {\n",
       "        vertical-align: middle;\n",
       "    }\n",
       "\n",
       "    .dataframe tbody tr th {\n",
       "        vertical-align: top;\n",
       "    }\n",
       "\n",
       "    .dataframe thead th {\n",
       "        text-align: right;\n",
       "    }\n",
       "</style>\n",
       "<table border=\"1\" class=\"dataframe\">\n",
       "  <thead>\n",
       "    <tr style=\"text-align: right;\">\n",
       "      <th>metrics</th>\n",
       "      <th>acc</th>\n",
       "      <th>f1</th>\n",
       "      <th>pre</th>\n",
       "      <th>rec</th>\n",
       "      <th>roc_auc</th>\n",
       "      <th>hss</th>\n",
       "      <th>ets</th>\n",
       "      <th>csi</th>\n",
       "      <th>sedi</th>\n",
       "    </tr>\n",
       "  </thead>\n",
       "  <tbody>\n",
       "    <tr>\n",
       "      <th>Y_param</th>\n",
       "      <td>0.999308</td>\n",
       "      <td>0.136207</td>\n",
       "      <td>0.160910</td>\n",
       "      <td>0.118080</td>\n",
       "      <td>0.580251</td>\n",
       "      <td>0.135869</td>\n",
       "      <td>0.072886</td>\n",
       "      <td>0.073081</td>\n",
       "      <td>0.590143</td>\n",
       "    </tr>\n",
       "    <tr>\n",
       "      <th>SGDClassifier</th>\n",
       "      <td>0.974953</td>\n",
       "      <td>0.627989</td>\n",
       "      <td>0.653318</td>\n",
       "      <td>0.604551</td>\n",
       "      <td>0.819514</td>\n",
       "      <td>0.615050</td>\n",
       "      <td>0.444095</td>\n",
       "      <td>0.457714</td>\n",
       "      <td>0.825357</td>\n",
       "    </tr>\n",
       "    <tr>\n",
       "      <th>KNeighborsClassifier</th>\n",
       "      <td>0.975759</td>\n",
       "      <td>0.645339</td>\n",
       "      <td>0.681548</td>\n",
       "      <td>0.612783</td>\n",
       "      <td>0.833573</td>\n",
       "      <td>0.632826</td>\n",
       "      <td>0.462872</td>\n",
       "      <td>0.476384</td>\n",
       "      <td>0.832828</td>\n",
       "    </tr>\n",
       "    <tr>\n",
       "      <th>CatBoostClassifier</th>\n",
       "      <td>0.977371</td>\n",
       "      <td>0.658367</td>\n",
       "      <td>0.673820</td>\n",
       "      <td>0.643607</td>\n",
       "      <td>0.830671</td>\n",
       "      <td>0.646671</td>\n",
       "      <td>0.477838</td>\n",
       "      <td>0.490720</td>\n",
       "      <td>0.849451</td>\n",
       "    </tr>\n",
       "    <tr>\n",
       "      <th>RandomForestClassifier</th>\n",
       "      <td>0.979362</td>\n",
       "      <td>0.672461</td>\n",
       "      <td>0.654723</td>\n",
       "      <td>0.691187</td>\n",
       "      <td>0.822470</td>\n",
       "      <td>0.661815</td>\n",
       "      <td>0.494561</td>\n",
       "      <td>0.506547</td>\n",
       "      <td>0.873424</td>\n",
       "    </tr>\n",
       "  </tbody>\n",
       "</table>\n",
       "</div>"
      ],
      "text/plain": [
       "metrics                      acc        f1       pre       rec   roc_auc  \\\n",
       "Y_param                 0.999308  0.136207  0.160910  0.118080  0.580251   \n",
       "SGDClassifier           0.974953  0.627989  0.653318  0.604551  0.819514   \n",
       "KNeighborsClassifier    0.975759  0.645339  0.681548  0.612783  0.833573   \n",
       "CatBoostClassifier      0.977371  0.658367  0.673820  0.643607  0.830671   \n",
       "RandomForestClassifier  0.979362  0.672461  0.654723  0.691187  0.822470   \n",
       "\n",
       "metrics                      hss       ets       csi      sedi  \n",
       "Y_param                 0.135869  0.072886  0.073081  0.590143  \n",
       "SGDClassifier           0.615050  0.444095  0.457714  0.825357  \n",
       "KNeighborsClassifier    0.632826  0.462872  0.476384  0.832828  \n",
       "CatBoostClassifier      0.646671  0.477838  0.490720  0.849451  \n",
       "RandomForestClassifier  0.661815  0.494561  0.506547  0.873424  "
      ]
     },
     "metadata": {},
     "output_type": "display_data"
    }
   ],
   "source": [
    "metrics = pd.Series(['acc', 'f1', 'pre', 'rec', 'roc_auc', 'hss', 'ets', 'csi', 'sedi'])\n",
    "df = pd.concat([Y_res, sgd_res, knn_res, catbc_res, rf_res, metrics],\n",
    "               axis=1,\n",
    "               keys=['Y_param', \"SGDClassifier\", 'KNeighborsClassifier', 'CatBoostClassifier','RandomForestClassifier', 'metrics']).set_index('metrics')\n",
    "df.T"
   ]
  },
  {
   "cell_type": "code",
   "execution_count": null,
   "id": "619f3507",
   "metadata": {},
   "outputs": [],
   "source": []
  },
  {
   "attachments": {},
   "cell_type": "markdown",
   "id": "0ca49a6a",
   "metadata": {},
   "source": [
    "#### Нейронные сети\n",
    "Неоконченный проект"
   ]
  },
  {
   "cell_type": "code",
   "execution_count": 2,
   "id": "68b64d54",
   "metadata": {},
   "outputs": [],
   "source": [
    "from DWR_preprocess import *\n",
    "from matplotlib import cm\n",
    "import matplotlib.colors\n",
    "import plotly.graph_objects as go\n",
    "\n",
    "window_shape = 5\n",
    "station_number = 26061"
   ]
  },
  {
   "cell_type": "code",
   "execution_count": 3,
   "id": "00fb5af5",
   "metadata": {},
   "outputs": [
    {
     "name": "stderr",
     "output_type": "stream",
     "text": [
      "100%|██████████| 169/169 [00:01<00:00, 128.30it/s]\n"
     ]
    }
   ],
   "source": [
    "all_data = np.concatenate(get_npy_file(onlyfiles(Paths.data + f'lightning_stack_{station_number}')), axis=0)"
   ]
  },
  {
   "attachments": {},
   "cell_type": "markdown",
   "id": "befeb9da",
   "metadata": {},
   "source": [
    "11 layers of reflectivity, Hmax, phen, iso22, iso0, data, x, y, tropopause, target"
   ]
  },
  {
   "cell_type": "code",
   "execution_count": 4,
   "id": "c4b51613",
   "metadata": {},
   "outputs": [
    {
     "data": {
      "text/plain": [
       "(817479, 5, 5, 20)"
      ]
     },
     "execution_count": 4,
     "metadata": {},
     "output_type": "execute_result"
    }
   ],
   "source": [
    "all_data.shape"
   ]
  },
  {
   "cell_type": "code",
   "execution_count": 5,
   "id": "e996e064",
   "metadata": {},
   "outputs": [],
   "source": [
    "labels = all_data[:, all_data.shape[1] // 2, all_data.shape[1] // 2, -1].reshape(\n",
    "        all_data.shape[0], -1\n",
    "    )\n",
    "binary_labels = np.where(labels>0,1,0)"
   ]
  },
  {
   "cell_type": "code",
   "execution_count": 6,
   "id": "f307ae19",
   "metadata": {},
   "outputs": [
    {
     "data": {
      "text/plain": [
       "((array([ 0,  1,  2,  3,  4,  5,  6,  7,  8,  9, 10, 11, 14, 20],\n",
       "        dtype=int32),\n",
       "  array([788502,  24564,   3256,    805,    202,     91,     31,     13,\n",
       "              4,      6,      1,      1,      2,      1])),\n",
       " (array([0, 1]), array([788502,  28977])))"
      ]
     },
     "execution_count": 6,
     "metadata": {},
     "output_type": "execute_result"
    }
   ],
   "source": [
    "np.unique(labels, return_counts=True), np.unique(binary_labels, return_counts=True)"
   ]
  },
  {
   "cell_type": "code",
   "execution_count": 7,
   "id": "0fbc0e95",
   "metadata": {},
   "outputs": [
    {
     "data": {
      "text/plain": [
       "(array([0, 1]), array([    0, 47672]))"
      ]
     },
     "execution_count": 7,
     "metadata": {},
     "output_type": "execute_result"
    }
   ],
   "source": [
    "np.unique(binary_labels, return_index=True)"
   ]
  },
  {
   "cell_type": "code",
   "execution_count": 8,
   "id": "22f10df6",
   "metadata": {},
   "outputs": [],
   "source": [
    "data_to_plot = all_data[:, :, :, :11].mean(axis=0)"
   ]
  },
  {
   "cell_type": "code",
   "execution_count": 9,
   "id": "3f847563",
   "metadata": {},
   "outputs": [],
   "source": [
    "X, Y, Z =  np.indices(np.array(data_to_plot.shape) + 1).astype(float)"
   ]
  },
  {
   "attachments": {},
   "cell_type": "markdown",
   "id": "99fb52a1",
   "metadata": {},
   "source": [
    "fig = go.Figure(data=go.Volume(\n",
    "    x=X.flatten(),\n",
    "    y=Y.flatten(),\n",
    "    z=Z.flatten(),\n",
    "    value=data_to_plot.flatten(),\n",
    "    opacity=0.5,\n",
    "    ))\n",
    "fig.show()"
   ]
  },
  {
   "cell_type": "code",
   "execution_count": 10,
   "id": "2fca1d4c",
   "metadata": {},
   "outputs": [
    {
     "name": "stderr",
     "output_type": "stream",
     "text": [
      "/tmp/ipykernel_4644/4060969970.py:11: MatplotlibDeprecationWarning: Unable to determine Axes to steal space for Colorbar. Using gca(), but will raise in the future. Either provide the *cax* argument to use as the Axes for the Colorbar, provide the *ax* argument to steal space from it, or add *mappable* to an Axes.\n",
      "  plt.colorbar(m, shrink=0.5)\n"
     ]
    },
    {
     "data": {
      "image/png": "[encoded data removed]",
      "text/plain": [
       "<Figure size 900x1600 with 2 Axes>"
      ]
     },
     "metadata": {},
     "output_type": "display_data"
    }
   ],
   "source": [
    "\n",
    "\n",
    "x, y, z =  np.indices(np.array(data_to_plot.shape) + 1).astype(float)\n",
    "ax = plt.figure(figsize=(9,16)).add_subplot(projection='3d')\n",
    "\n",
    "colors = plt.cm.plasma(data_to_plot)\n",
    "norm = matplotlib.colors.Normalize(vmin=-100, vmax=100)\n",
    "\n",
    "ax.voxels(x, y, z, data_to_plot, alpha=0.3,facecolors=plt.cm.jet(norm(data_to_plot)))\n",
    "\n",
    "m = cm.ScalarMappable(cmap=plt.cm.plasma, norm=norm)\n",
    "m.set_array([])\n",
    "plt.colorbar(m, shrink=0.5)\n",
    "plt.title('Mean reflectivity')\n",
    "ax.set_aspect('equal')"
   ]
  },
  {
   "cell_type": "code",
   "execution_count": 11,
   "id": "87cea3af",
   "metadata": {},
   "outputs": [
    {
     "name": "stdout",
     "output_type": "stream",
     "text": [
      "torch.Size([817479, 5, 5, 20])\n"
     ]
    }
   ],
   "source": [
    "data = all_data\n",
    "# Assuming you have a 3D data array named 'data' with shape (depth, height, width)\n",
    "# Normalize the data by subtracting the mean and dividing by the standard deviation\n",
    "mean = np.mean(data, axis= (0,1,2))\n",
    "std = np.std(data, axis= (0,1,2))\n",
    "normalized_data = (data - mean) / std\n",
    "\n",
    "# Convert the normalized data to a PyTorch tensor\n",
    "tensor_data = torch.from_numpy(normalized_data)\n",
    "\n",
    "# Print the shape of the tensor to verify\n",
    "print(tensor_data.shape)\n"
   ]
  },
  {
   "cell_type": "code",
   "execution_count": null,
   "id": "c4295d2a",
   "metadata": {},
   "outputs": [],
   "source": []
  },
  {
   "cell_type": "code",
   "execution_count": 12,
   "id": "88ff7c3c",
   "metadata": {},
   "outputs": [
    {
     "name": "stdout",
     "output_type": "stream",
     "text": [
      "torch.Size([817479, 5, 5, 14])\n"
     ]
    }
   ],
   "source": [
    "# Assuming your tensor_data has shape torch.Size([817479, 5, 5, 20])\n",
    "indices_to_delete = [14, 15, 16, 17, 18, 19]  # Example indices to delete\n",
    "\n",
    "## Оставляем только отражаемость, максимальную высоту, явление, высота изотермы -22\n",
    "\n",
    "# Create a boolean mask to identify the arrays to keep\n",
    "mask = torch.ones(tensor_data.shape[-1], dtype=torch.bool)\n",
    "mask[indices_to_delete] = 0\n",
    "\n",
    "# Use the mask to select and keep the desired arrays along the last dimension\n",
    "sliced_tensor_data = tensor_data[..., mask]\n",
    "\n",
    "# Print the shape of the sliced tensor to verify\n",
    "print(sliced_tensor_data.shape)"
   ]
  },
  {
   "cell_type": "code",
   "execution_count": 13,
   "id": "be203422",
   "metadata": {},
   "outputs": [
    {
     "data": {
      "text/plain": [
       "torch.Size([817479, 14, 5, 5])"
      ]
     },
     "execution_count": 13,
     "metadata": {},
     "output_type": "execute_result"
    }
   ],
   "source": [
    "tensor_data = sliced_tensor_data.permute(0, 3, 1, 2)\n",
    "tensor_data.shape"
   ]
  },
  {
   "cell_type": "code",
   "execution_count": 14,
   "id": "a1af2190",
   "metadata": {},
   "outputs": [],
   "source": [
    "cuda0 = torch.device('cuda:0')"
   ]
  },
  {
   "cell_type": "code",
   "execution_count": 15,
   "id": "369cc310",
   "metadata": {},
   "outputs": [],
   "source": [
    "from torch.utils.data import TensorDataset, DataLoader\n",
    "dataset = TensorDataset(tensor_data.to(dtype=torch.float32), torch.from_numpy(binary_labels.reshape(-1)).to(dtype=torch.int64))"
   ]
  },
  {
   "cell_type": "code",
   "execution_count": 37,
   "id": "8ce01384",
   "metadata": {},
   "outputs": [
    {
     "name": "stdout",
     "output_type": "stream",
     "text": [
      "Network(\n",
      "  (conv1): Conv2d(14, 32, kernel_size=(3, 3), stride=(1, 1))\n",
      "  (conv2): Conv2d(32, 64, kernel_size=(3, 3), stride=(1, 1))\n",
      "  (conv3): Conv2d(64, 128, kernel_size=(3, 3), stride=(1, 1))\n",
      "  (conv4): Conv2d(128, 256, kernel_size=(3, 3), stride=(1, 1))\n",
      "  (fc1): Linear(in_features=6400, out_features=100, bias=True)\n",
      "  (fc2): Linear(in_features=100, out_features=2, bias=True)\n",
      ")\n"
     ]
    }
   ],
   "source": [
    "import torch\n",
    "import torch.nn as nn\n",
    "import torch.optim as optim\n",
    "import torch.nn.functional as F\n",
    "\n",
    "# Define your CNN model\n",
    "class Network(nn.Module):\n",
    "    \n",
    "    # Network Initialisation\n",
    "    def __init__(self):\n",
    "        \n",
    "        super(Network, self).__init__()\n",
    "        Cin = 14\n",
    "        init_f = 32\n",
    "        h = 5\n",
    "        w = 5\n",
    "        num_fc1 = 100\n",
    "        num_classes = 2\n",
    "        # Convolution Layers\n",
    "        self.conv1 = nn.Conv2d(Cin, init_f, kernel_size=3)\n",
    "        self.conv2 = nn.Conv2d(init_f, 2*init_f, kernel_size=3)\n",
    "        self.conv3 = nn.Conv2d(2*init_f, 4*init_f, kernel_size=3)\n",
    "        self.conv4 = nn.Conv2d(4*init_f, 8*init_f, kernel_size=3)\n",
    "        \n",
    "        # compute the flatten size\n",
    "        self.num_flatten=h*w*8*init_f\n",
    "        self.fc1 = nn.Linear(self.num_flatten, num_fc1)\n",
    "        self.fc2 = nn.Linear(num_fc1, num_classes)\n",
    "\n",
    "    def forward(self,X):\n",
    "        \n",
    "        # Convolution & Pool Layers\n",
    "        X = F.relu(self.conv1(X)); \n",
    "        X = F.max_pool2d(X, 2, 2)\n",
    "        X = F.relu(self.conv2(X))\n",
    "        X = F.max_pool2d(X, 2, 2)\n",
    "        X = F.relu(self.conv3(X))\n",
    "        X = F.max_pool2d(X, 2, 2)\n",
    "        X = F.relu(self.conv4(X))\n",
    "        X = F.max_pool2d(X, 2, 2)\n",
    "\n",
    "        X = X.view(-1, self.num_flatten)\n",
    "        \n",
    "        X = F.relu(self.fc1(X))\n",
    "        X=F.dropout(X, self.dropout_rate)\n",
    "        X = self.fc2(X)\n",
    "        return F.log_softmax(X, dim=1)\n",
    "\n",
    "# Instantiate your SimpleCNN model\n",
    "model = Network()\n",
    "\n",
    "# Print the model architecture\n",
    "print(model)\n"
   ]
  },
  {
   "cell_type": "code",
   "execution_count": 38,
   "id": "2b5b1c0d",
   "metadata": {},
   "outputs": [],
   "source": [
    "batch_size = 32\n",
    "\n",
    "train_size = int(0.8 * len(dataset))\n",
    "test_size = len(dataset) - train_size\n",
    "train_dataset, test_dataset = torch.utils.data.random_split(dataset, [train_size, test_size])\n",
    "\n",
    "train_dataloader = DataLoader(train_dataset, batch_size=batch_size)\n",
    "test_dataloader  = DataLoader(test_dataset, batch_size=batch_size)\n"
   ]
  },
  {
   "cell_type": "code",
   "execution_count": 50,
   "id": "f9b92d40",
   "metadata": {},
   "outputs": [
    {
     "ename": "RuntimeError",
     "evalue": "Calculated padded input size per channel: (1 x 1). Kernel size: (3 x 3). Kernel size can't be greater than actual input size",
     "output_type": "error",
     "traceback": [
      "\u001b[0;31m---------------------------------------------------------------------------\u001b[0m",
      "\u001b[0;31mRuntimeError\u001b[0m                              Traceback (most recent call last)",
      "Cell \u001b[0;32mIn[50], line 30\u001b[0m\n\u001b[1;32m     27\u001b[0m optimizer\u001b[39m.\u001b[39mzero_grad()\n\u001b[1;32m     29\u001b[0m \u001b[39m# Forward pass\u001b[39;00m\n\u001b[0;32m---> 30\u001b[0m outputs \u001b[39m=\u001b[39m model(batch_data)\n\u001b[1;32m     32\u001b[0m \u001b[39m# Compute the loss\u001b[39;00m\n\u001b[1;32m     33\u001b[0m loss \u001b[39m=\u001b[39m criterion(outputs, batch_labels\u001b[39m.\u001b[39mreshape(\u001b[39m-\u001b[39m\u001b[39m1\u001b[39m,\u001b[39m1\u001b[39m)\u001b[39m.\u001b[39mto(dtype\u001b[39m=\u001b[39mtorch\u001b[39m.\u001b[39mfloat32))\n",
      "File \u001b[0;32m~/anaconda3/envs/lightning/lib/python3.11/site-packages/torch/nn/modules/module.py:1501\u001b[0m, in \u001b[0;36mModule._call_impl\u001b[0;34m(self, *args, **kwargs)\u001b[0m\n\u001b[1;32m   1496\u001b[0m \u001b[39m# If we don't have any hooks, we want to skip the rest of the logic in\u001b[39;00m\n\u001b[1;32m   1497\u001b[0m \u001b[39m# this function, and just call forward.\u001b[39;00m\n\u001b[1;32m   1498\u001b[0m \u001b[39mif\u001b[39;00m \u001b[39mnot\u001b[39;00m (\u001b[39mself\u001b[39m\u001b[39m.\u001b[39m_backward_hooks \u001b[39mor\u001b[39;00m \u001b[39mself\u001b[39m\u001b[39m.\u001b[39m_backward_pre_hooks \u001b[39mor\u001b[39;00m \u001b[39mself\u001b[39m\u001b[39m.\u001b[39m_forward_hooks \u001b[39mor\u001b[39;00m \u001b[39mself\u001b[39m\u001b[39m.\u001b[39m_forward_pre_hooks\n\u001b[1;32m   1499\u001b[0m         \u001b[39mor\u001b[39;00m _global_backward_pre_hooks \u001b[39mor\u001b[39;00m _global_backward_hooks\n\u001b[1;32m   1500\u001b[0m         \u001b[39mor\u001b[39;00m _global_forward_hooks \u001b[39mor\u001b[39;00m _global_forward_pre_hooks):\n\u001b[0;32m-> 1501\u001b[0m     \u001b[39mreturn\u001b[39;00m forward_call(\u001b[39m*\u001b[39;49margs, \u001b[39m*\u001b[39;49m\u001b[39m*\u001b[39;49mkwargs)\n\u001b[1;32m   1502\u001b[0m \u001b[39m# Do not call functions when jit is used\u001b[39;00m\n\u001b[1;32m   1503\u001b[0m full_backward_hooks, non_full_backward_hooks \u001b[39m=\u001b[39m [], []\n",
      "Cell \u001b[0;32mIn[37], line 35\u001b[0m, in \u001b[0;36mNetwork.forward\u001b[0;34m(self, X)\u001b[0m\n\u001b[1;32m     33\u001b[0m X \u001b[39m=\u001b[39m F\u001b[39m.\u001b[39mrelu(\u001b[39mself\u001b[39m\u001b[39m.\u001b[39mconv1(X)); \n\u001b[1;32m     34\u001b[0m X \u001b[39m=\u001b[39m F\u001b[39m.\u001b[39mmax_pool2d(X, \u001b[39m2\u001b[39m, \u001b[39m2\u001b[39m)\n\u001b[0;32m---> 35\u001b[0m X \u001b[39m=\u001b[39m F\u001b[39m.\u001b[39mrelu(\u001b[39mself\u001b[39;49m\u001b[39m.\u001b[39;49mconv2(X))\n\u001b[1;32m     36\u001b[0m X \u001b[39m=\u001b[39m F\u001b[39m.\u001b[39mmax_pool2d(X, \u001b[39m2\u001b[39m, \u001b[39m2\u001b[39m)\n\u001b[1;32m     37\u001b[0m X \u001b[39m=\u001b[39m F\u001b[39m.\u001b[39mrelu(\u001b[39mself\u001b[39m\u001b[39m.\u001b[39mconv3(X))\n",
      "File \u001b[0;32m~/anaconda3/envs/lightning/lib/python3.11/site-packages/torch/nn/modules/module.py:1501\u001b[0m, in \u001b[0;36mModule._call_impl\u001b[0;34m(self, *args, **kwargs)\u001b[0m\n\u001b[1;32m   1496\u001b[0m \u001b[39m# If we don't have any hooks, we want to skip the rest of the logic in\u001b[39;00m\n\u001b[1;32m   1497\u001b[0m \u001b[39m# this function, and just call forward.\u001b[39;00m\n\u001b[1;32m   1498\u001b[0m \u001b[39mif\u001b[39;00m \u001b[39mnot\u001b[39;00m (\u001b[39mself\u001b[39m\u001b[39m.\u001b[39m_backward_hooks \u001b[39mor\u001b[39;00m \u001b[39mself\u001b[39m\u001b[39m.\u001b[39m_backward_pre_hooks \u001b[39mor\u001b[39;00m \u001b[39mself\u001b[39m\u001b[39m.\u001b[39m_forward_hooks \u001b[39mor\u001b[39;00m \u001b[39mself\u001b[39m\u001b[39m.\u001b[39m_forward_pre_hooks\n\u001b[1;32m   1499\u001b[0m         \u001b[39mor\u001b[39;00m _global_backward_pre_hooks \u001b[39mor\u001b[39;00m _global_backward_hooks\n\u001b[1;32m   1500\u001b[0m         \u001b[39mor\u001b[39;00m _global_forward_hooks \u001b[39mor\u001b[39;00m _global_forward_pre_hooks):\n\u001b[0;32m-> 1501\u001b[0m     \u001b[39mreturn\u001b[39;00m forward_call(\u001b[39m*\u001b[39;49margs, \u001b[39m*\u001b[39;49m\u001b[39m*\u001b[39;49mkwargs)\n\u001b[1;32m   1502\u001b[0m \u001b[39m# Do not call functions when jit is used\u001b[39;00m\n\u001b[1;32m   1503\u001b[0m full_backward_hooks, non_full_backward_hooks \u001b[39m=\u001b[39m [], []\n",
      "File \u001b[0;32m~/anaconda3/envs/lightning/lib/python3.11/site-packages/torch/nn/modules/conv.py:463\u001b[0m, in \u001b[0;36mConv2d.forward\u001b[0;34m(self, input)\u001b[0m\n\u001b[1;32m    462\u001b[0m \u001b[39mdef\u001b[39;00m \u001b[39mforward\u001b[39m(\u001b[39mself\u001b[39m, \u001b[39minput\u001b[39m: Tensor) \u001b[39m-\u001b[39m\u001b[39m>\u001b[39m Tensor:\n\u001b[0;32m--> 463\u001b[0m     \u001b[39mreturn\u001b[39;00m \u001b[39mself\u001b[39;49m\u001b[39m.\u001b[39;49m_conv_forward(\u001b[39minput\u001b[39;49m, \u001b[39mself\u001b[39;49m\u001b[39m.\u001b[39;49mweight, \u001b[39mself\u001b[39;49m\u001b[39m.\u001b[39;49mbias)\n",
      "File \u001b[0;32m~/anaconda3/envs/lightning/lib/python3.11/site-packages/torch/nn/modules/conv.py:459\u001b[0m, in \u001b[0;36mConv2d._conv_forward\u001b[0;34m(self, input, weight, bias)\u001b[0m\n\u001b[1;32m    455\u001b[0m \u001b[39mif\u001b[39;00m \u001b[39mself\u001b[39m\u001b[39m.\u001b[39mpadding_mode \u001b[39m!=\u001b[39m \u001b[39m'\u001b[39m\u001b[39mzeros\u001b[39m\u001b[39m'\u001b[39m:\n\u001b[1;32m    456\u001b[0m     \u001b[39mreturn\u001b[39;00m F\u001b[39m.\u001b[39mconv2d(F\u001b[39m.\u001b[39mpad(\u001b[39minput\u001b[39m, \u001b[39mself\u001b[39m\u001b[39m.\u001b[39m_reversed_padding_repeated_twice, mode\u001b[39m=\u001b[39m\u001b[39mself\u001b[39m\u001b[39m.\u001b[39mpadding_mode),\n\u001b[1;32m    457\u001b[0m                     weight, bias, \u001b[39mself\u001b[39m\u001b[39m.\u001b[39mstride,\n\u001b[1;32m    458\u001b[0m                     _pair(\u001b[39m0\u001b[39m), \u001b[39mself\u001b[39m\u001b[39m.\u001b[39mdilation, \u001b[39mself\u001b[39m\u001b[39m.\u001b[39mgroups)\n\u001b[0;32m--> 459\u001b[0m \u001b[39mreturn\u001b[39;00m F\u001b[39m.\u001b[39;49mconv2d(\u001b[39minput\u001b[39;49m, weight, bias, \u001b[39mself\u001b[39;49m\u001b[39m.\u001b[39;49mstride,\n\u001b[1;32m    460\u001b[0m                 \u001b[39mself\u001b[39;49m\u001b[39m.\u001b[39;49mpadding, \u001b[39mself\u001b[39;49m\u001b[39m.\u001b[39;49mdilation, \u001b[39mself\u001b[39;49m\u001b[39m.\u001b[39;49mgroups)\n",
      "\u001b[0;31mRuntimeError\u001b[0m: Calculated padded input size per channel: (1 x 1). Kernel size: (3 x 3). Kernel size can't be greater than actual input size"
     ]
    }
   ],
   "source": [
    "# Instantiate your SimpleCNN model\n",
    "model = Network()\n",
    "\n",
    "# Define the loss function and optimizer\n",
    "criterion = nn.NLLLoss()\n",
    "optimizer = optim.Adam(model.parameters(), lr=0.001)\n",
    "\n",
    "# Set the device for training\n",
    "device = torch.device(\"cuda\" if torch.cuda.is_available() else \"cpu\")\n",
    "model.to(device)\n",
    "\n",
    "# Define the number of training epochs\n",
    "num_epochs = 10\n",
    "\n",
    "# Training loop\n",
    "for epoch in range(num_epochs):\n",
    "    # Set model in training mode\n",
    "    model.train()\n",
    "\n",
    "    # Iterate over the dataloader for each batch\n",
    "    for batch_data, batch_labels in train_dataloader:\n",
    "        # Move the batch data and labels to the device\n",
    "        batch_data = batch_data.to(device)\n",
    "        batch_labels = batch_labels.to(device)\n",
    "\n",
    "        # Zero the gradients\n",
    "        optimizer.zero_grad()\n",
    "\n",
    "        # Forward pass\n",
    "        outputs = model(batch_data)\n",
    "\n",
    "        # Compute the loss\n",
    "        loss = criterion(outputs, batch_labels.reshape(-1,1).to(dtype=torch.float32))\n",
    "\n",
    "        # Backward pass and optimization\n",
    "        loss.backward()\n",
    "        optimizer.step()\n",
    "\n",
    "    # Print the loss for monitoring the training progress\n",
    "    print(f\"Epoch [{epoch+1}/{num_epochs}], Loss: {loss.item()}\")\n",
    "\n",
    "# Save the trained model\n",
    "torch.save(model.state_dict(), \"simple_cnn_model.pth\")"
   ]
  },
  {
   "cell_type": "code",
   "execution_count": 40,
   "id": "9b23a96a",
   "metadata": {},
   "outputs": [],
   "source": [
    "# Make predictions\n",
    "all_predictions = []\n",
    "\n",
    "with torch.no_grad():\n",
    "    for batch_data, _ in test_dataloader:\n",
    "        # Move the batch data to the device\n",
    "        batch_data = batch_data.to(device)\n",
    "\n",
    "        # Forward pass\n",
    "        predictions = model(batch_data)\n",
    "\n",
    "        # Get the predicted class labels\n",
    "        predicted_labels = predictions#predictions.argmax(dim=1)\n",
    "\n",
    "        # Convert the predicted labels to a numpy array\n",
    "        predicted_labels = predicted_labels.cpu().numpy()\n",
    "\n",
    "        # Collect all predictions\n",
    "        all_predictions.extend(predicted_labels.tolist())\n"
   ]
  },
  {
   "cell_type": "code",
   "execution_count": 44,
   "id": "23051654",
   "metadata": {},
   "outputs": [
    {
     "name": "stdout",
     "output_type": "stream",
     "text": [
      "Accuracy is 0.0595\n",
      "f1_score is 0.1123\n",
      "precision_score is 1.0\n",
      "recall_score is 0.0595\n",
      "roc_auc_score is 0.5\n",
      "HSS is 0.0\n",
      "ETS is 0.0\n",
      "CSI is 0.0595\n",
      "sedi is nan\n"
     ]
    },
    {
     "name": "stderr",
     "output_type": "stream",
     "text": [
      "/home/meteofurletov/iram/lightning/notebooks/DWR_preprocess.py:360: RuntimeWarning: invalid value encountered in long_scalars\n",
      "  f = misses / (misses + correctnegatives)\n"
     ]
    },
    {
     "data": {
      "text/plain": [
       "0    0.059482\n",
       "1    0.112284\n",
       "2    1.000000\n",
       "3    0.059482\n",
       "4    0.500000\n",
       "5    0.000000\n",
       "6    0.000000\n",
       "7    0.059482\n",
       "8         NaN\n",
       "dtype: float64"
      ]
     },
     "execution_count": 44,
     "metadata": {},
     "output_type": "execute_result"
    },
    {
     "data": {
      "image/png": "[encoded data removed]",
      "text/plain": [
       "<Figure size 640x480 with 2 Axes>"
      ]
     },
     "metadata": {},
     "output_type": "display_data"
    }
   ],
   "source": [
    "scorer(binary_labels[int(0.8*binary_labels.shape[0]):].reshape(-1), np.where(np.array(all_predictions) > 0.5, 1, 0))"
   ]
  },
  {
   "cell_type": "code",
   "execution_count": null,
   "id": "0670fd47",
   "metadata": {},
   "outputs": [],
   "source": []
  }
 ],
 "metadata": {
  "kernelspec": {
   "display_name": "Python 3 (ipykernel)",
   "language": "python",
   "name": "python3"
  },
  "language_info": {
   "codemirror_mode": {
    "name": "ipython",
    "version": 3
   },
   "file_extension": ".py",
   "mimetype": "text/x-python",
   "name": "python",
   "nbconvert_exporter": "python",
   "pygments_lexer": "ipython3",
   "version": "3.11.3"
  },
  "toc": {
   "base_numbering": 1,
   "nav_menu": {},
   "number_sections": true,
   "sideBar": true,
   "skip_h1_title": false,
   "title_cell": "Table of Contents",
   "title_sidebar": "Contents",
   "toc_cell": false,
   "toc_position": {
    "height": "calc(100% - 180px)",
    "left": "10px",
    "top": "150px",
    "width": "369.188px"
   },
   "toc_section_display": true,
   "toc_window_display": false
  },
  "varInspector": {
   "cols": {
    "lenName": 16,
    "lenType": 16,
    "lenVar": 40
   },
   "kernels_config": {
    "python": {
     "delete_cmd_postfix": "",
     "delete_cmd_prefix": "del ",
     "library": "var_list.py",
     "varRefreshCmd": "print(var_dic_list())"
    },
    "r": {
     "delete_cmd_postfix": ") ",
     "delete_cmd_prefix": "rm(",
     "library": "var_list.r",
     "varRefreshCmd": "cat(var_dic_list()) "
    }
   },
   "position": {
    "height": "234.844px",
    "left": "479px",
    "right": "20px",
    "top": "120px",
    "width": "424px"
   },
   "types_to_exclude": [
    "module",
    "function",
    "builtin_function_or_method",
    "instance",
    "_Feature"
   ],
   "window_display": false
  }
 },
 "nbformat": 4,
 "nbformat_minor": 5
}
