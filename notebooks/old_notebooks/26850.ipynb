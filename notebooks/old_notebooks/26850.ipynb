{
 "cells": [
  {
   "cell_type": "markdown",
   "id": "25eeeac4",
   "metadata": {},
   "source": [
    "## Data Processing"
   ]
  },
  {
   "cell_type": "code",
   "execution_count": 1,
   "id": "f5c0ecf4",
   "metadata": {
    "ExecuteTime": {
     "end_time": "2023-03-10T07:19:56.804072Z",
     "start_time": "2023-03-10T07:19:54.619803Z"
    }
   },
   "outputs": [],
   "source": [
    "from DWR_preprocess import *\n",
    "\n",
    "station_number = 26850\n",
    "year_regex = '2020'"
   ]
  },
  {
   "cell_type": "code",
   "execution_count": 2,
   "id": "4c8f0e68",
   "metadata": {
    "ExecuteTime": {
     "end_time": "2023-03-09T14:10:24.879699Z",
     "start_time": "2023-03-09T14:10:17.123654Z"
    },
    "scrolled": false
   },
   "outputs": [
    {
     "name": "stdout",
     "output_type": "stream",
     "text": [
      "Latitude is 53.86583, Longitude is 28.04028\n",
      "Converting data from .json to pd.DataFrame\n"
     ]
    },
    {
     "name": "stderr",
     "output_type": "stream",
     "text": [
      "100%|██████████| 130156/130156 [13:03<00:00, 166.16it/s] \n"
     ]
    },
    {
     "name": "stdout",
     "output_type": "stream",
     "text": [
      "Number of blitzortung cases is: 26765244\n",
      "Array shape is: (4534, 200, 200)\n"
     ]
    }
   ],
   "source": [
    "blitzortung_array = blitzortung_preprocessing(station_number, matrix_shape=200, year_regex=year_regex)"
   ]
  },
  {
   "cell_type": "code",
   "execution_count": 5,
   "id": "4d2db337",
   "metadata": {
    "ExecuteTime": {
     "end_time": "2023-03-09T14:11:39.269222Z",
     "start_time": "2023-03-09T14:10:27.986174Z"
    },
    "scrolled": true
   },
   "outputs": [
    {
     "name": "stdout",
     "output_type": "stream",
     "text": [
      "N of matched files is 4534\n",
      "N of non-lightning cases: 1000\n",
      "Converting phen\n"
     ]
    },
    {
     "name": "stderr",
     "output_type": "stream",
     "text": [
      "100%|██████████| 5401/5401 [02:08<00:00, 42.08it/s] \n"
     ]
    },
    {
     "name": "stdout",
     "output_type": "stream",
     "text": [
      "Converting echo_top\n"
     ]
    },
    {
     "name": "stderr",
     "output_type": "stream",
     "text": [
      "100%|██████████| 5401/5401 [02:05<00:00, 42.92it/s] \n"
     ]
    },
    {
     "name": "stdout",
     "output_type": "stream",
     "text": [
      "Converting reflectivity\n"
     ]
    },
    {
     "name": "stderr",
     "output_type": "stream",
     "text": [
      "100%|██████████| 5401/5401 [06:29<00:00, 13.86it/s] \n"
     ]
    },
    {
     "name": "stdout",
     "output_type": "stream",
     "text": [
      "Converting properties\n"
     ]
    },
    {
     "name": "stderr",
     "output_type": "stream",
     "text": [
      "100%|██████████| 5401/5401 [00:08<00:00, 610.97it/s]\n"
     ]
    },
    {
     "name": "stdout",
     "output_type": "stream",
     "text": [
      "Converting to numpy\n"
     ]
    },
    {
     "name": "stderr",
     "output_type": "stream",
     "text": [
      "100%|██████████| 5401/5401 [00:03<00:00, 1635.14it/s]\n",
      "100%|██████████| 5401/5401 [00:02<00:00, 2521.10it/s]\n",
      "100%|██████████| 5401/5401 [00:09<00:00, 540.17it/s]\n",
      "100%|██████████| 5401/5401 [00:04<00:00, 1094.00it/s]\n"
     ]
    },
    {
     "name": "stdout",
     "output_type": "stream",
     "text": [
      "Shape of radar array: (5401, 200, 200, 18)\n"
     ]
    }
   ],
   "source": [
    "radar_array = radar_preprocessing(station_number, 1000, year_regex=year_regex)"
   ]
  },
  {
   "cell_type": "code",
   "execution_count": 6,
   "id": "4d7d0041",
   "metadata": {
    "ExecuteTime": {
     "end_time": "2023-03-09T14:12:31.633929Z",
     "start_time": "2023-03-09T14:11:43.192280Z"
    },
    "scrolled": false
   },
   "outputs": [
    {
     "name": "stdout",
     "output_type": "stream",
     "text": [
      "All data converted and saved!\n"
     ]
    }
   ],
   "source": [
    "stack = concatenate_data(radar_array, blitzortung_array, station_number, year_regex=year_regex)"
   ]
  },
  {
   "cell_type": "markdown",
   "id": "dc78a59d",
   "metadata": {},
   "source": [
    "## Sliding Window "
   ]
  },
  {
   "cell_type": "code",
   "execution_count": 1,
   "id": "7bd00300",
   "metadata": {
    "ExecuteTime": {
     "end_time": "2023-03-10T10:50:58.382176Z",
     "start_time": "2023-03-10T10:50:56.615703Z"
    }
   },
   "outputs": [],
   "source": [
    "import numpy as np\n",
    "from DWR_preprocess import *\n",
    "import warnings\n",
    "warnings.filterwarnings(\"ignore\")\n",
    "\n",
    "station_number = 26850\n",
    "window = 5"
   ]
  },
  {
   "cell_type": "code",
   "execution_count": 6,
   "id": "e04a4923",
   "metadata": {
    "ExecuteTime": {
     "end_time": "2023-03-10T10:51:08.808093Z",
     "start_time": "2023-03-10T10:50:58.467603Z"
    },
    "scrolled": true
   },
   "outputs": [
    {
     "data": {
      "text/plain": [
       "(5400, 200, 200, 19)"
      ]
     },
     "execution_count": 6,
     "metadata": {},
     "output_type": "execute_result"
    }
   ],
   "source": [
    "stack = np.load(Paths.interim + f'stack_{station_number}.npy')\n",
    "stack = np.delete(stack, 1, axis=0)\n",
    "stack.shape"
   ]
  },
  {
   "cell_type": "code",
   "execution_count": 7,
   "id": "5f077279",
   "metadata": {
    "scrolled": true
   },
   "outputs": [
    {
     "data": {
      "text/plain": [
       "{1,\n",
       " 2,\n",
       " 3,\n",
       " 4,\n",
       " 5,\n",
       " 6,\n",
       " 8,\n",
       " 9,\n",
       " 10,\n",
       " 12,\n",
       " 15,\n",
       " 18,\n",
       " 20,\n",
       " 24,\n",
       " 25,\n",
       " 27,\n",
       " 30,\n",
       " 36,\n",
       " 40,\n",
       " 45,\n",
       " 50,\n",
       " 54,\n",
       " 60,\n",
       " 72,\n",
       " 75,\n",
       " 90,\n",
       " 100,\n",
       " 108,\n",
       " 120,\n",
       " 135,\n",
       " 150,\n",
       " 180,\n",
       " 200,\n",
       " 216,\n",
       " 225,\n",
       " 270,\n",
       " 300,\n",
       " 360,\n",
       " 450,\n",
       " 540,\n",
       " 600,\n",
       " 675,\n",
       " 900,\n",
       " 1080,\n",
       " 1350,\n",
       " 1800,\n",
       " 2700,\n",
       " 5400}"
      ]
     },
     "execution_count": 7,
     "metadata": {},
     "output_type": "execute_result"
    }
   ],
   "source": [
    "factors(stack.shape[0])\n",
    "#stack = np.delete(stack, (np.arange(amount_to_delete)), 0)"
   ]
  },
  {
   "cell_type": "code",
   "execution_count": 8,
   "id": "ee222f04",
   "metadata": {
    "ExecuteTime": {
     "end_time": "2023-03-10T10:51:09.049480Z",
     "start_time": "2023-03-10T10:51:09.043840Z"
    }
   },
   "outputs": [
    {
     "name": "stdout",
     "output_type": "stream",
     "text": [
      "precomputing \"target\"\n",
      "precomputing \"delta\"\n"
     ]
    },
    {
     "data": {
      "application/vnd.jupyter.widget-view+json": {
       "model_id": "fe8fed91253c47d8868124edfa2641a9",
       "version_major": 2,
       "version_minor": 0
      },
      "text/plain": [
       "  0%|          | 0/180 [00:00<?, ?it/s]"
      ]
     },
     "metadata": {},
     "output_type": "display_data"
    },
    {
     "name": "stdout",
     "output_type": "stream",
     "text": [
      "success\n"
     ]
    }
   ],
   "source": [
    "precomputing(stack, station_number, window, distribution=np.random.uniform, value=0.03)"
   ]
  },
  {
   "cell_type": "code",
   "execution_count": 9,
   "id": "a5856fbc",
   "metadata": {},
   "outputs": [
    {
     "data": {
      "text/plain": [
       "(array([ 0,  1,  2,  3,  4,  5,  6,  7,  8,  9, 10, 11, 12, 13, 14, 15, 16,\n",
       "        17, 19, 20], dtype=int32),\n",
       " array([207319411,    101353,     16834,      5190,      1904,       823,\n",
       "              392,       189,       104,        74,        39,        27,\n",
       "               19,        12,        10,         9,         4,         3,\n",
       "                1,         2]))"
      ]
     },
     "execution_count": 9,
     "metadata": {},
     "output_type": "execute_result"
    }
   ],
   "source": [
    "np.unique(np.load(Paths.interim + \"target_26850.npy\"), return_counts=True)"
   ]
  },
  {
   "cell_type": "code",
   "execution_count": 10,
   "id": "db1a34f9",
   "metadata": {
    "ExecuteTime": {
     "end_time": "2023-03-10T11:16:22.393336Z",
     "start_time": "2023-03-10T10:51:09.253796Z"
    },
    "scrolled": false
   },
   "outputs": [
    {
     "name": "stdout",
     "output_type": "stream",
     "text": [
      "Iteration: 0\n",
      "Iteration data is \n",
      " dask.array<reshape, shape=(41489280, 5, 5, 19), dtype=int32, chunksize=(1152480, 5, 5, 19), chunktype=numpy.ndarray>\n",
      "TF: false-(41481001,), true-(8279,)\n"
     ]
    },
    {
     "data": {
      "application/vnd.jupyter.widget-view+json": {
       "model_id": "63f51c69dcc145fab957dfe5e3813449",
       "version_major": 2,
       "version_minor": 0
      },
      "text/plain": [
       "  0%|          | 0/36 [00:00<?, ?it/s]"
      ]
     },
     "metadata": {},
     "output_type": "display_data"
    },
    {
     "name": "stdout",
     "output_type": "stream",
     "text": [
      "Remaining percent  = 3.0\n"
     ]
    },
    {
     "data": {
      "application/vnd.jupyter.widget-view+json": {
       "model_id": "69ca746480a74fe0b349ec772ee15482",
       "version_major": 2,
       "version_minor": 0
      },
      "text/plain": [
       "  0%|          | 0/36 [00:00<?, ?it/s]"
      ]
     },
     "metadata": {},
     "output_type": "display_data"
    },
    {
     "data": {
      "application/vnd.jupyter.widget-view+json": {
       "model_id": "37907dd79277414a821dd68736e25147",
       "version_major": 2,
       "version_minor": 0
      },
      "text/plain": [
       "  0%|          | 0/34 [00:00<?, ?it/s]"
      ]
     },
     "metadata": {},
     "output_type": "display_data"
    },
    {
     "name": "stdout",
     "output_type": "stream",
     "text": [
      "TF processed \n",
      " : false-(574257,), true-(8007,)\n",
      "Iteration result is \n",
      " dask.array<concatenate, shape=(582264, 5, 5, 19), dtype=int32, chunksize=(27882, 5, 5, 19), chunktype=numpy.ndarray>\n"
     ]
    },
    {
     "data": {
      "application/vnd.jupyter.widget-view+json": {
       "model_id": "4b296a9b62444d61b5adee30e622dd9b",
       "version_major": 2,
       "version_minor": 0
      },
      "text/plain": [
       "  0%|          | 0/70 [00:00<?, ?it/s]"
      ]
     },
     "metadata": {},
     "output_type": "display_data"
    },
    {
     "name": "stdout",
     "output_type": "stream",
     "text": [
      "Iteration: 1\n",
      "Iteration data is \n",
      " dask.array<reshape, shape=(41489280, 5, 5, 19), dtype=int32, chunksize=(1152480, 5, 5, 19), chunktype=numpy.ndarray>\n",
      "TF: false-(41439690,), true-(49590,)\n"
     ]
    },
    {
     "data": {
      "application/vnd.jupyter.widget-view+json": {
       "model_id": "680fa297407c4b168187985e58518896",
       "version_major": 2,
       "version_minor": 0
      },
      "text/plain": [
       "  0%|          | 0/36 [00:00<?, ?it/s]"
      ]
     },
     "metadata": {},
     "output_type": "display_data"
    },
    {
     "name": "stdout",
     "output_type": "stream",
     "text": [
      "Remaining percent  = 3.0\n"
     ]
    },
    {
     "data": {
      "application/vnd.jupyter.widget-view+json": {
       "model_id": "a9aea2fab9094676a6c9f39e4a25ccb0",
       "version_major": 2,
       "version_minor": 0
      },
      "text/plain": [
       "  0%|          | 0/36 [00:00<?, ?it/s]"
      ]
     },
     "metadata": {},
     "output_type": "display_data"
    },
    {
     "data": {
      "application/vnd.jupyter.widget-view+json": {
       "model_id": "204f8b50725c4f28a258d122830ee2a9",
       "version_major": 2,
       "version_minor": 0
      },
      "text/plain": [
       "  0%|          | 0/36 [00:00<?, ?it/s]"
      ]
     },
     "metadata": {},
     "output_type": "display_data"
    },
    {
     "name": "stdout",
     "output_type": "stream",
     "text": [
      "TF processed \n",
      " : false-(315746,), true-(49079,)\n",
      "Iteration result is \n",
      " dask.array<concatenate, shape=(364825, 5, 5, 19), dtype=int32, chunksize=(17341, 5, 5, 19), chunktype=numpy.ndarray>\n"
     ]
    },
    {
     "data": {
      "application/vnd.jupyter.widget-view+json": {
       "model_id": "5fb1b1ad35cc4a208cac06d0be9b515e",
       "version_major": 2,
       "version_minor": 0
      },
      "text/plain": [
       "  0%|          | 0/72 [00:00<?, ?it/s]"
      ]
     },
     "metadata": {},
     "output_type": "display_data"
    },
    {
     "name": "stdout",
     "output_type": "stream",
     "text": [
      "Iteration: 2\n",
      "Iteration data is \n",
      " dask.array<reshape, shape=(41489280, 5, 5, 19), dtype=int32, chunksize=(1152480, 5, 5, 19), chunktype=numpy.ndarray>\n",
      "TF: false-(41454296,), true-(34984,)\n"
     ]
    },
    {
     "data": {
      "application/vnd.jupyter.widget-view+json": {
       "model_id": "96e5a51850c04a6598f1b6c20ee0a463",
       "version_major": 2,
       "version_minor": 0
      },
      "text/plain": [
       "  0%|          | 0/36 [00:00<?, ?it/s]"
      ]
     },
     "metadata": {},
     "output_type": "display_data"
    },
    {
     "name": "stdout",
     "output_type": "stream",
     "text": [
      "Remaining percent  = 3.0\n"
     ]
    },
    {
     "data": {
      "application/vnd.jupyter.widget-view+json": {
       "model_id": "71818d9d27af4881952868be135f42a8",
       "version_major": 2,
       "version_minor": 0
      },
      "text/plain": [
       "  0%|          | 0/36 [00:00<?, ?it/s]"
      ]
     },
     "metadata": {},
     "output_type": "display_data"
    },
    {
     "data": {
      "application/vnd.jupyter.widget-view+json": {
       "model_id": "64274db09b304a0cbca7e933d7c76e05",
       "version_major": 2,
       "version_minor": 0
      },
      "text/plain": [
       "  0%|          | 0/35 [00:00<?, ?it/s]"
      ]
     },
     "metadata": {},
     "output_type": "display_data"
    },
    {
     "name": "stdout",
     "output_type": "stream",
     "text": [
      "TF processed \n",
      " : false-(412025,), true-(33959,)\n",
      "Iteration result is \n",
      " dask.array<concatenate, shape=(445984, 5, 5, 19), dtype=int32, chunksize=(23630, 5, 5, 19), chunktype=numpy.ndarray>\n"
     ]
    },
    {
     "data": {
      "application/vnd.jupyter.widget-view+json": {
       "model_id": "604ae30430954c749b8d4b1f57417001",
       "version_major": 2,
       "version_minor": 0
      },
      "text/plain": [
       "  0%|          | 0/71 [00:00<?, ?it/s]"
      ]
     },
     "metadata": {},
     "output_type": "display_data"
    },
    {
     "name": "stdout",
     "output_type": "stream",
     "text": [
      "Iteration: 3\n",
      "Iteration data is \n",
      " dask.array<reshape, shape=(41489280, 5, 5, 19), dtype=int32, chunksize=(1152480, 5, 5, 19), chunktype=numpy.ndarray>\n",
      "TF: false-(41469161,), true-(20119,)\n"
     ]
    },
    {
     "data": {
      "application/vnd.jupyter.widget-view+json": {
       "model_id": "cd5c84cfee4c42c8a30df1b2bc1f2923",
       "version_major": 2,
       "version_minor": 0
      },
      "text/plain": [
       "  0%|          | 0/36 [00:00<?, ?it/s]"
      ]
     },
     "metadata": {},
     "output_type": "display_data"
    },
    {
     "name": "stdout",
     "output_type": "stream",
     "text": [
      "Remaining percent  = 3.0\n"
     ]
    },
    {
     "data": {
      "application/vnd.jupyter.widget-view+json": {
       "model_id": "d6cbe33430e24ad9b1dff76cdbf0ee83",
       "version_major": 2,
       "version_minor": 0
      },
      "text/plain": [
       "  0%|          | 0/36 [00:00<?, ?it/s]"
      ]
     },
     "metadata": {},
     "output_type": "display_data"
    },
    {
     "data": {
      "application/vnd.jupyter.widget-view+json": {
       "model_id": "34a625f01c514a648fe32cf6ec5a9157",
       "version_major": 2,
       "version_minor": 0
      },
      "text/plain": [
       "  0%|          | 0/35 [00:00<?, ?it/s]"
      ]
     },
     "metadata": {},
     "output_type": "display_data"
    },
    {
     "name": "stdout",
     "output_type": "stream",
     "text": [
      "TF processed \n",
      " : false-(386922,), true-(19635,)\n",
      "Iteration result is \n",
      " dask.array<concatenate, shape=(406557, 5, 5, 19), dtype=int32, chunksize=(23368, 5, 5, 19), chunktype=numpy.ndarray>\n"
     ]
    },
    {
     "data": {
      "application/vnd.jupyter.widget-view+json": {
       "model_id": "2108810988aa4cc0b832c15b88cc3569",
       "version_major": 2,
       "version_minor": 0
      },
      "text/plain": [
       "  0%|          | 0/71 [00:00<?, ?it/s]"
      ]
     },
     "metadata": {},
     "output_type": "display_data"
    },
    {
     "name": "stdout",
     "output_type": "stream",
     "text": [
      "Iteration: 4\n",
      "Iteration data is \n",
      " dask.array<reshape, shape=(41489280, 5, 5, 19), dtype=int32, chunksize=(1152480, 5, 5, 19), chunktype=numpy.ndarray>\n",
      "TF: false-(41475263,), true-(14017,)\n"
     ]
    },
    {
     "data": {
      "application/vnd.jupyter.widget-view+json": {
       "model_id": "1d8192759cab490bb45ce393abdc72c1",
       "version_major": 2,
       "version_minor": 0
      },
      "text/plain": [
       "  0%|          | 0/36 [00:00<?, ?it/s]"
      ]
     },
     "metadata": {},
     "output_type": "display_data"
    },
    {
     "name": "stdout",
     "output_type": "stream",
     "text": [
      "Remaining percent  = 3.0\n"
     ]
    },
    {
     "data": {
      "application/vnd.jupyter.widget-view+json": {
       "model_id": "95c370a937b044aa8b9ed7fdd9de1e27",
       "version_major": 2,
       "version_minor": 0
      },
      "text/plain": [
       "  0%|          | 0/36 [00:00<?, ?it/s]"
      ]
     },
     "metadata": {},
     "output_type": "display_data"
    },
    {
     "data": {
      "application/vnd.jupyter.widget-view+json": {
       "model_id": "c7aecaafc7824818ad94caf4761e7904",
       "version_major": 2,
       "version_minor": 0
      },
      "text/plain": [
       "  0%|          | 0/26 [00:00<?, ?it/s]"
      ]
     },
     "metadata": {},
     "output_type": "display_data"
    },
    {
     "name": "stdout",
     "output_type": "stream",
     "text": [
      "TF processed \n",
      " : false-(615396,), true-(13749,)\n",
      "Iteration result is \n",
      " dask.array<concatenate, shape=(629145, 5, 5, 19), dtype=int32, chunksize=(27733, 5, 5, 19), chunktype=numpy.ndarray>\n"
     ]
    },
    {
     "data": {
      "application/vnd.jupyter.widget-view+json": {
       "model_id": "0895c46544794a2090f4401828c5be5f",
       "version_major": 2,
       "version_minor": 0
      },
      "text/plain": [
       "  0%|          | 0/62 [00:00<?, ?it/s]"
      ]
     },
     "metadata": {},
     "output_type": "display_data"
    },
    {
     "name": "stdout",
     "output_type": "stream",
     "text": [
      "CPU times: user 14min 37s, sys: 20min 22s, total: 34min 59s\n",
      "Wall time: 21min 23s\n"
     ]
    }
   ],
   "source": [
    "%%time\n",
    "window_data_filter(stack, split_value=1080, window=5, station_number=26850)"
   ]
  },
  {
   "cell_type": "markdown",
   "id": "b9492fc1",
   "metadata": {},
   "source": [
    "## Machine Learning preprocessing"
   ]
  },
  {
   "cell_type": "code",
   "execution_count": 11,
   "id": "d27b121b",
   "metadata": {},
   "outputs": [],
   "source": [
    "from DWR_preprocess import *\n",
    "\n",
    "window_shape = 5\n",
    "station_number = 26850"
   ]
  },
  {
   "cell_type": "code",
   "execution_count": 13,
   "id": "203132b4",
   "metadata": {
    "ExecuteTime": {
     "end_time": "2023-03-10T14:21:06.587012Z",
     "start_time": "2023-03-10T14:19:32.120547Z"
    },
    "scrolled": true
   },
   "outputs": [
    {
     "name": "stderr",
     "output_type": "stream",
     "text": [
      "100%|██████████| 346/346 [00:01<00:00, 305.39it/s]\n"
     ]
    }
   ],
   "source": [
    "df = from_windows_to_df(Paths.data + f'lightning_stack_{station_number}', 5, station_number)"
   ]
  },
  {
   "cell_type": "code",
   "execution_count": 16,
   "id": "de0a2f9e",
   "metadata": {},
   "outputs": [
    {
     "data": {
      "text/plain": [
       "(array([ 0,  1,  2,  3,  4,  5,  6,  7,  8,  9, 10, 11, 12, 13, 14, 15, 16,\n",
       "        17, 19, 20], dtype=int32),\n",
       " array([2304346,   99045,   16653,    5138,    1889,     820,     392,\n",
       "            188,     104,      74,      39,      27,      19,      12,\n",
       "             10,       9,       4,       3,       1,       2]))"
      ]
     },
     "execution_count": 16,
     "metadata": {},
     "output_type": "execute_result"
    }
   ],
   "source": [
    "np.unique(df.target, return_counts=True)"
   ]
  },
  {
   "cell_type": "markdown",
   "id": "6d2cceff",
   "metadata": {},
   "source": [
    "## Filtering data"
   ]
  },
  {
   "cell_type": "code",
   "execution_count": 1,
   "id": "f1a99f9a",
   "metadata": {
    "ExecuteTime": {
     "end_time": "2023-03-10T14:21:32.589437Z",
     "start_time": "2023-03-10T14:21:30.568128Z"
    }
   },
   "outputs": [],
   "source": [
    "from DWR_preprocess import *\n",
    "\n",
    "window_shape = 5\n",
    "station_number = 26850"
   ]
  },
  {
   "cell_type": "code",
   "execution_count": 146,
   "id": "948afd12",
   "metadata": {},
   "outputs": [
    {
     "name": "stdout",
     "output_type": "stream",
     "text": [
      "Before: 0 - (2304346,), 1 - (124429,)\n",
      "After:  0 - (2095204,), 1 - (108369,)\n"
     ]
    }
   ],
   "source": [
    "df = true_data_filter(Paths.interim + f'{station_number}_Convective_cloud_windows_data.parquet',station_number)"
   ]
  },
  {
   "cell_type": "code",
   "execution_count": 147,
   "id": "049ea625",
   "metadata": {},
   "outputs": [],
   "source": [
    "import numpy as np\n",
    "import pandas as pd\n",
    "import matplotlib.pyplot as plt\n",
    "import matplotlib.patches as patches\n",
    "import seaborn as sns\n",
    "\n",
    "import torch\n",
    "from DWR_preprocess import *\n",
    "import sklearn\n",
    "from sklearn.ensemble import RandomForestClassifier\n",
    "from sklearn.linear_model import  SGDClassifier, LogisticRegression\n",
    "from sklearn.neighbors import KNeighborsClassifier\n",
    "\n",
    "import warnings\n",
    "warnings.filterwarnings(\"ignore\")\n",
    "\n",
    "station_number = 26850\n",
    "window = 5"
   ]
  },
  {
   "cell_type": "code",
   "execution_count": 148,
   "id": "1c05d7de",
   "metadata": {},
   "outputs": [
    {
     "data": {
      "text/plain": [
       "Index(['target', 'Hmax', 'Zmax', 'delta_iso22', 'Zmax_layer_1', 'Zmax_layer_2',\n",
       "       'Zmax_layer_3', 'Zmax_layer_4', 'Zmax_layer_5', 'Zmax_layer_6',\n",
       "       'Zmax_layer_7', 'Zmax_layer_8', 'Zmax_layer_9', 'Zmax_layer_10',\n",
       "       'Zmax_layer_11', 'y_param', 'H_Zmax'],\n",
       "      dtype='object')"
      ]
     },
     "execution_count": 148,
     "metadata": {},
     "output_type": "execute_result"
    }
   ],
   "source": [
    "df_filter = df.filter(regex='max|target|param|delta')\n",
    "df_filter.columns"
   ]
  },
  {
   "cell_type": "code",
   "execution_count": 149,
   "id": "db75e4f9",
   "metadata": {},
   "outputs": [],
   "source": [
    "X = df_filter.loc[:, df_filter.columns != 'target']\n",
    "y = df_filter.loc[:, 'target']\n",
    "y = np.where(y>=1,1,0)\n",
    "scaler = StandardScaler().fit(X)\n",
    "X_scaled = scaler.transform(X)\n",
    "X_train, X_test, y_train, y_test = train_test_split(\n",
    "        X_scaled, y, test_size=0.2, shuffle=True, random_state=42)"
   ]
  },
  {
   "cell_type": "code",
   "execution_count": 90,
   "id": "64f3d9ce",
   "metadata": {},
   "outputs": [
    {
     "name": "stdout",
     "output_type": "stream",
     "text": [
      "Accuracy is 0.9662\n",
      "f1_score is 0.5819\n",
      "precision_score is 0.4801\n",
      "recall_score is 0.7384\n",
      "roc_auc_score is 0.7357\n",
      "HSS is 0.5651\n",
      "ETS is 0.3938\n",
      "CSI is 0.4103\n",
      "sedi is 0.8757\n",
      "CPU times: user 3.27 s, sys: 4.08 ms, total: 3.27 s\n",
      "Wall time: 3.27 s\n"
     ]
    },
    {
     "data": {
      "image/png": "[encoded data removed]",
      "text/plain": [
       "<Figure size 800x550 with 2 Axes>"
      ]
     },
     "metadata": {},
     "output_type": "display_data"
    }
   ],
   "source": [
    "%%time\n",
    "#classificator \n",
    "sgd = SGDClassifier(loss=\"log_loss\", n_jobs = -1, random_state=42) \n",
    "sgd.fit(X_train, y_train)\n",
    "sgd_pred = sgd.predict(X_test)\n",
    "\n",
    "\n",
    "# get scores\n",
    "sgd_res = scorer(y_test, sgd_pred)"
   ]
  },
  {
   "cell_type": "code",
   "execution_count": 114,
   "id": "1f99ac37",
   "metadata": {},
   "outputs": [],
   "source": [
    "feat_df = pd.DataFrame({'feature':X.columns[sorted_idx],'coef':np.abs(sgd.coef_.reshape(16)[sorted_idx])})\n",
    "best_features = list(feat_df.sort_values('coef', ascending=False).feature[:5])"
   ]
  },
  {
   "cell_type": "code",
   "execution_count": 115,
   "id": "5f745841",
   "metadata": {},
   "outputs": [
    {
     "data": {
      "text/plain": [
       "(array([[-1.24967036,  0.32327964,  1.40748645,  0.05120694, -0.05061402,\n",
       "          0.00940444, -0.00492467,  0.88764246,  1.84841903,  0.97554946,\n",
       "          0.34245044,  0.00215042,  0.1266373 ,  0.11550033,  0.2557315 ,\n",
       "          0.0048341 ]]),\n",
       " array([-6.76680811]))"
      ]
     },
     "execution_count": 115,
     "metadata": {},
     "output_type": "execute_result"
    }
   ],
   "source": [
    "sgd.coef_, sgd.intercept_"
   ]
  },
  {
   "cell_type": "code",
   "execution_count": 19,
   "id": "1247adba",
   "metadata": {},
   "outputs": [
    {
     "data": {
      "text/plain": [
       "Text(0.5, 0, 'Linear Regression Coef')"
      ]
     },
     "execution_count": 19,
     "metadata": {},
     "output_type": "execute_result"
    },
    {
     "data": {
      "image/png": "[encoded data removed]",
      "text/plain": [
       "<Figure size 500x1000 with 1 Axes>"
      ]
     },
     "metadata": {},
     "output_type": "display_data"
    }
   ],
   "source": [
    "plt.figure(figsize=(5,10))\n",
    "sorted_idx = np.abs(sgd.coef_).reshape(16).argsort()\n",
    "plt.barh(X.columns[sorted_idx], sgd.coef_.reshape(16)[sorted_idx])\n",
    "plt.xlabel(\"Linear Regression Coef\")"
   ]
  },
  {
   "cell_type": "code",
   "execution_count": 76,
   "id": "c9b1b128",
   "metadata": {},
   "outputs": [
    {
     "name": "stdout",
     "output_type": "stream",
     "text": [
      "Accuracy is 0.9731\n",
      "f1_score is 0.7122\n",
      "precision_score is 0.6792\n",
      "recall_score is 0.7486\n",
      "roc_auc_score is 0.8337\n",
      "HSS is 0.6981\n",
      "ETS is 0.5363\n",
      "CSI is 0.553\n",
      "sedi is 0.8943\n",
      "CPU times: user 20min 35s, sys: 5.01 s, total: 20min 40s\n",
      "Wall time: 2min 1s\n"
     ]
    },
    {
     "data": {
      "image/png": "[encoded data removed]",
      "text/plain": [
       "<Figure size 800x550 with 2 Axes>"
      ]
     },
     "metadata": {},
     "output_type": "display_data"
    }
   ],
   "source": [
    "%%time\n",
    "#classificator \n",
    "rf = RandomForestClassifier(n_jobs = -2) \n",
    "rf.fit(X_train, y_train)\n",
    "rf_pred = rf.predict(X_test)\n",
    "\n",
    "# get scores\n",
    "rf_res = scorer(y_test, rf_pred)"
   ]
  },
  {
   "cell_type": "code",
   "execution_count": 89,
   "id": "129db4ac",
   "metadata": {},
   "outputs": [
    {
     "data": {
      "text/plain": [
       "Text(0.5, 0, 'Random Forest Feature Importance')"
      ]
     },
     "execution_count": 89,
     "metadata": {},
     "output_type": "execute_result"
    },
    {
     "data": {
      "image/png": "[encoded data removed]",
      "text/plain": [
       "<Figure size 500x1000 with 1 Axes>"
      ]
     },
     "metadata": {},
     "output_type": "display_data"
    }
   ],
   "source": [
    "plt.figure(figsize=(5,10))\n",
    "sorted_idx = rf.feature_importances_.argsort()\n",
    "plt.barh(X.columns[sorted_idx], rf.feature_importances_[sorted_idx])\n",
    "plt.xlabel(\"Random Forest Feature Importance\")"
   ]
  },
  {
   "attachments": {},
   "cell_type": "markdown",
   "id": "93bb74c1",
   "metadata": {},
   "source": [
    "### feature set 0"
   ]
  },
  {
   "cell_type": "code",
   "execution_count": 122,
   "id": "d7e87207",
   "metadata": {},
   "outputs": [],
   "source": [
    "features_set_0 = ['Hmax', 'Zmax', 'H_Zmax', 'delta_iso22', 'y_param','Zmax_layer_6', 'Zmax_layer_7', 'Zmax_layer_8',\n",
    "       'Zmax_layer_9', 'Zmax_layer_10']"
   ]
  },
  {
   "cell_type": "code",
   "execution_count": 123,
   "id": "3ec6df1f",
   "metadata": {},
   "outputs": [
    {
     "data": {
      "text/plain": [
       "Index(['Hmax', 'Zmax', 'delta_iso22', 'Zmax_layer_1', 'Zmax_layer_2',\n",
       "       'Zmax_layer_3', 'Zmax_layer_4', 'Zmax_layer_5', 'Zmax_layer_6',\n",
       "       'Zmax_layer_7', 'Zmax_layer_8', 'Zmax_layer_9', 'Zmax_layer_10',\n",
       "       'Zmax_layer_11', 'y_param', 'H_Zmax'],\n",
       "      dtype='object')"
      ]
     },
     "execution_count": 123,
     "metadata": {},
     "output_type": "execute_result"
    }
   ],
   "source": [
    "X.columns"
   ]
  },
  {
   "cell_type": "code",
   "execution_count": 124,
   "id": "b8e16caa",
   "metadata": {},
   "outputs": [
    {
     "data": {
      "text/plain": [
       "array([ 0,  1, 15,  2, 14,  8,  9, 10, 11, 12])"
      ]
     },
     "execution_count": 124,
     "metadata": {},
     "output_type": "execute_result"
    }
   ],
   "source": [
    "feature_indices_0 = []\n",
    "for feature in features_set_0:\n",
    "    feature_indices_0.append(np.argwhere(np.array(X.columns) == feature))\n",
    "feature_indices_0 = np.array(feature_indices_0).reshape(np.array(feature_indices_0).shape[0])\n",
    "feature_indices_0\n"
   ]
  },
  {
   "cell_type": "code",
   "execution_count": null,
   "id": "dadbaa41",
   "metadata": {},
   "outputs": [],
   "source": []
  },
  {
   "cell_type": "code",
   "execution_count": 125,
   "id": "14d85aec",
   "metadata": {},
   "outputs": [],
   "source": [
    "X_train_set_0 = X_train[:, feature_indices_0]\n",
    "X_test_set_0 = X_test[:, feature_indices_0]"
   ]
  },
  {
   "cell_type": "code",
   "execution_count": 126,
   "id": "e544631a",
   "metadata": {},
   "outputs": [
    {
     "name": "stdout",
     "output_type": "stream",
     "text": [
      "Accuracy is 0.9678\n",
      "f1_score is 0.632\n",
      "precision_score is 0.5652\n",
      "recall_score is 0.7168\n",
      "roc_auc_score is 0.7768\n",
      "HSS is 0.6154\n",
      "ETS is 0.4445\n",
      "CSI is 0.462\n",
      "sedi is 0.869\n",
      "CPU times: user 12.6 s, sys: 52.1 ms, total: 12.7 s\n",
      "Wall time: 12.7 s\n"
     ]
    },
    {
     "data": {
      "image/png": "[encoded data removed]",
      "text/plain": [
       "<Figure size 800x550 with 2 Axes>"
      ]
     },
     "metadata": {},
     "output_type": "display_data"
    }
   ],
   "source": [
    "%%time\n",
    "#classificator \n",
    "sgd = LogisticRegression(solver=\"saga\", n_jobs = -1, random_state=42) \n",
    "sgd.fit(X_train_set_0, y_train)\n",
    "sgd_pred_0 = sgd.predict(X_test_set_0)\n",
    "\n",
    "\n",
    "# get scores\n",
    "sgd_res = scorer(y_test, sgd_pred_0)"
   ]
  },
  {
   "cell_type": "code",
   "execution_count": 127,
   "id": "28e9a9a9",
   "metadata": {},
   "outputs": [],
   "source": [
    "coef_set_0 = sgd.coef_.tolist()[0]\n",
    "inter_set_0 = sgd.intercept_.tolist()[0]"
   ]
  },
  {
   "cell_type": "code",
   "execution_count": 128,
   "id": "906c5fd4",
   "metadata": {},
   "outputs": [
    {
     "data": {
      "text/plain": [
       "([-1.4594827779422352,\n",
       "  0.3038427733259509,\n",
       "  -0.025024611716539403,\n",
       "  1.7895984359913326,\n",
       "  0.20528146861255284,\n",
       "  3.607158324022024,\n",
       "  0.426577777982917,\n",
       "  0.31166985925677027,\n",
       "  0.017550715701096165,\n",
       "  0.2528106437870482],\n",
       " -6.858261682081707)"
      ]
     },
     "execution_count": 128,
     "metadata": {},
     "output_type": "execute_result"
    }
   ],
   "source": [
    "coef_set_0, inter_set_0"
   ]
  },
  {
   "attachments": {},
   "cell_type": "markdown",
   "id": "f135d5bb",
   "metadata": {},
   "source": [
    "### feature set 1\n"
   ]
  },
  {
   "cell_type": "code",
   "execution_count": 63,
   "id": "7baa1a05",
   "metadata": {},
   "outputs": [],
   "source": [
    "features_set_1 = ['Hmax', 'Zmax', 'Zmax_layer_6', 'Zmax_layer_7', 'Zmax_layer_8',\n",
    "       'Zmax_layer_9', 'Zmax_layer_10']"
   ]
  },
  {
   "cell_type": "code",
   "execution_count": 64,
   "id": "af85f93f",
   "metadata": {},
   "outputs": [
    {
     "data": {
      "text/plain": [
       "array([ 0,  1,  8,  9, 10, 11, 12])"
      ]
     },
     "execution_count": 64,
     "metadata": {},
     "output_type": "execute_result"
    }
   ],
   "source": [
    "feature_indices_1 = []\n",
    "for feature in features_set_1:\n",
    "    feature_indices_1.append(np.argwhere(np.array(X.columns) == feature))\n",
    "feature_indices_1 = np.array(feature_indices_1).reshape(np.array(feature_indices_1).shape[0])\n",
    "feature_indices_1"
   ]
  },
  {
   "cell_type": "code",
   "execution_count": 65,
   "id": "4e1cbb3e",
   "metadata": {},
   "outputs": [],
   "source": [
    "X_train_set_1 = X_train[:, feature_indices_1]\n",
    "X_test_set_1 = X_test[:, feature_indices_1]"
   ]
  },
  {
   "cell_type": "code",
   "execution_count": 66,
   "id": "6d50fe00",
   "metadata": {},
   "outputs": [
    {
     "name": "stdout",
     "output_type": "stream",
     "text": [
      "Accuracy is 0.9674\n",
      "f1_score is 0.626\n",
      "precision_score is 0.5565\n",
      "recall_score is 0.7153\n",
      "roc_auc_score is 0.7725\n",
      "HSS is 0.6092\n",
      "ETS is 0.438\n",
      "CSI is 0.4556\n",
      "sedi is 0.8675\n",
      "CPU times: user 11.3 s, sys: 13.1 ms, total: 11.3 s\n",
      "Wall time: 11.3 s\n"
     ]
    },
    {
     "data": {
      "image/png": "[encoded data removed]",
      "text/plain": [
       "<Figure size 800x550 with 2 Axes>"
      ]
     },
     "metadata": {},
     "output_type": "display_data"
    }
   ],
   "source": [
    "%%time\n",
    "#classificator \n",
    "sgd = LogisticRegression(solver=\"saga\", n_jobs = -1, random_state=42) \n",
    "sgd.fit(X_train_set_1, y_train)\n",
    "sgd_pred_1 = sgd.predict(X_test_set_1)\n",
    "\n",
    "\n",
    "# get scores\n",
    "sgd_res = scorer(y_test, sgd_pred_1)"
   ]
  },
  {
   "cell_type": "code",
   "execution_count": 67,
   "id": "6eaf3805",
   "metadata": {},
   "outputs": [
    {
     "data": {
      "text/plain": [
       "([0.5220189466853136,\n",
       "  0.3377176035847147,\n",
       "  3.560569627037875,\n",
       "  0.6449981238438588,\n",
       "  0.2341070674058443,\n",
       "  -0.06187678202646707,\n",
       "  0.17414138353595862],\n",
       " -6.853331074126327)"
      ]
     },
     "execution_count": 67,
     "metadata": {},
     "output_type": "execute_result"
    }
   ],
   "source": [
    "coef_set_1 = sgd.coef_.tolist()[0]\n",
    "inter_set_1 = sgd.intercept_.tolist()[0]\n",
    "coef_set_1, inter_set_1"
   ]
  },
  {
   "attachments": {},
   "cell_type": "markdown",
   "id": "6af2dbd7",
   "metadata": {},
   "source": [
    "### feature set 2\n"
   ]
  },
  {
   "cell_type": "code",
   "execution_count": 68,
   "id": "705a39d9",
   "metadata": {},
   "outputs": [],
   "source": [
    "features_set_2 = ['Hmax', 'Zmax', 'H_Zmax','Zmax_layer_6', 'Zmax_layer_7', 'Zmax_layer_8',\n",
    "       'Zmax_layer_9', 'Zmax_layer_10']"
   ]
  },
  {
   "cell_type": "code",
   "execution_count": 69,
   "id": "e7da6caa",
   "metadata": {},
   "outputs": [
    {
     "data": {
      "text/plain": [
       "array([ 0,  1, 15,  8,  9, 10, 11, 12])"
      ]
     },
     "execution_count": 69,
     "metadata": {},
     "output_type": "execute_result"
    }
   ],
   "source": [
    "feature_indices_2 = []\n",
    "for feature in features_set_2:\n",
    "    feature_indices_2.append(np.argwhere(np.array(X.columns) == feature))\n",
    "feature_indices_2 = np.array(feature_indices_2).reshape(np.array(feature_indices_2).shape[0])\n",
    "feature_indices_2\n"
   ]
  },
  {
   "cell_type": "code",
   "execution_count": 70,
   "id": "dd775d21",
   "metadata": {},
   "outputs": [],
   "source": [
    "X_train_set_2 = X_train[:, feature_indices_2]\n",
    "X_test_set_2 = X_test[:, feature_indices_2]"
   ]
  },
  {
   "cell_type": "code",
   "execution_count": 71,
   "id": "74972e7f",
   "metadata": {},
   "outputs": [
    {
     "name": "stdout",
     "output_type": "stream",
     "text": [
      "Accuracy is 0.9675\n",
      "f1_score is 0.6268\n",
      "precision_score is 0.5573\n",
      "recall_score is 0.7161\n",
      "roc_auc_score is 0.773\n",
      "HSS is 0.6101\n",
      "ETS is 0.4389\n",
      "CSI is 0.4564\n",
      "sedi is 0.8681\n",
      "CPU times: user 10.6 s, sys: 25.1 ms, total: 10.7 s\n",
      "Wall time: 10.7 s\n"
     ]
    },
    {
     "data": {
      "image/png": "[encoded data removed]",
      "text/plain": [
       "<Figure size 800x550 with 2 Axes>"
      ]
     },
     "metadata": {},
     "output_type": "display_data"
    }
   ],
   "source": [
    "%%time\n",
    "#classificator \n",
    "sgd = LogisticRegression(solver=\"saga\", n_jobs = -1, random_state=42) \n",
    "sgd.fit(X_train_set_2, y_train)\n",
    "sgd_pred_2 = sgd.predict(X_test_set_2)\n",
    "\n",
    "\n",
    "# get scores\n",
    "sgd_res = scorer(y_test, sgd_pred_2)"
   ]
  },
  {
   "cell_type": "code",
   "execution_count": 72,
   "id": "5594573d",
   "metadata": {},
   "outputs": [
    {
     "data": {
      "text/plain": [
       "([0.5306182839979463,\n",
       "  0.2891731844368553,\n",
       "  -0.04342169255620947,\n",
       "  3.6253875723382154,\n",
       "  0.6876408783001258,\n",
       "  0.2350264290893089,\n",
       "  -0.06199361383474736,\n",
       "  0.17136197174108023],\n",
       " -6.880728067655704)"
      ]
     },
     "execution_count": 72,
     "metadata": {},
     "output_type": "execute_result"
    }
   ],
   "source": [
    "coef_set_2 = sgd.coef_.tolist()[0]\n",
    "inter_set_2 = sgd.intercept_.tolist()[0]\n",
    "coef_set_2, inter_set_2"
   ]
  },
  {
   "attachments": {},
   "cell_type": "markdown",
   "id": "d5de644f",
   "metadata": {},
   "source": [
    "### feature set X"
   ]
  },
  {
   "cell_type": "code",
   "execution_count": 113,
   "id": "c123298d",
   "metadata": {},
   "outputs": [
    {
     "data": {
      "text/plain": [
       "[]"
      ]
     },
     "execution_count": 113,
     "metadata": {},
     "output_type": "execute_result"
    }
   ],
   "source": [
    "best_features"
   ]
  },
  {
   "cell_type": "code",
   "execution_count": 116,
   "id": "58576e7f",
   "metadata": {},
   "outputs": [
    {
     "data": {
      "text/plain": [
       "array([8, 2, 0, 9, 7])"
      ]
     },
     "execution_count": 116,
     "metadata": {},
     "output_type": "execute_result"
    }
   ],
   "source": [
    "best_indices = []\n",
    "for feature in best_features:\n",
    "    best_indices.append(np.argwhere(np.array(X.columns) == feature))\n",
    "best_indices = np.array(best_indices).reshape(np.array(best_indices).shape[0])\n",
    "best_indices"
   ]
  },
  {
   "cell_type": "code",
   "execution_count": 117,
   "id": "44fc7362",
   "metadata": {},
   "outputs": [],
   "source": [
    "X_train_best = X_train[:, best_indices]\n",
    "X_test_best = X_test[:, best_indices]"
   ]
  },
  {
   "cell_type": "code",
   "execution_count": 118,
   "id": "b047a895",
   "metadata": {},
   "outputs": [
    {
     "name": "stdout",
     "output_type": "stream",
     "text": [
      "Accuracy is 0.9677\n",
      "f1_score is 0.6313\n",
      "precision_score is 0.5637\n",
      "recall_score is 0.7174\n",
      "roc_auc_score is 0.7761\n",
      "HSS is 0.6147\n",
      "ETS is 0.4437\n",
      "CSI is 0.4613\n",
      "sedi is 0.8692\n",
      "CPU times: user 10.9 s, sys: 20.2 ms, total: 10.9 s\n",
      "Wall time: 10.9 s\n"
     ]
    },
    {
     "data": {
      "image/png": "[encoded data removed]",
      "text/plain": [
       "<Figure size 800x550 with 2 Axes>"
      ]
     },
     "metadata": {},
     "output_type": "display_data"
    }
   ],
   "source": [
    "%%time\n",
    "#classificator \n",
    "sgd = LogisticRegression(solver=\"saga\", n_jobs = -1, random_state=42) \n",
    "sgd.fit(X_train_best, y_train)\n",
    "sgd_pred_best = sgd.predict(X_test_best)\n",
    "\n",
    "\n",
    "# get scores\n",
    "sgd_res = scorer(y_test, sgd_pred_best)"
   ]
  },
  {
   "cell_type": "code",
   "execution_count": 121,
   "id": "2793f2a0",
   "metadata": {},
   "outputs": [
    {
     "data": {
      "text/plain": [
       "['Zmax_layer_6', 'delta_iso22', 'Hmax', 'Zmax_layer_7', 'Zmax_layer_5']"
      ]
     },
     "execution_count": 121,
     "metadata": {},
     "output_type": "execute_result"
    }
   ],
   "source": [
    "best_features"
   ]
  },
  {
   "cell_type": "code",
   "execution_count": 120,
   "id": "c525c645",
   "metadata": {},
   "outputs": [
    {
     "data": {
      "text/plain": [
       "([3.160543534084005,\n",
       "  1.6870320598580848,\n",
       "  -1.0403047725177343,\n",
       "  0.9530215860754212,\n",
       "  1.0434140635450233],\n",
       " -6.921818874698915)"
      ]
     },
     "execution_count": 120,
     "metadata": {},
     "output_type": "execute_result"
    }
   ],
   "source": [
    "coef_set_best = sgd.coef_.tolist()[0]\n",
    "inter_set_best = sgd.intercept_.tolist()[0]\n",
    "coef_set_best, inter_set_best"
   ]
  },
  {
   "cell_type": "code",
   "execution_count": 150,
   "id": "18c9de55",
   "metadata": {},
   "outputs": [
    {
     "data": {
      "text/html": [
       "<div>\n",
       "<style scoped>\n",
       "    .dataframe tbody tr th:only-of-type {\n",
       "        vertical-align: middle;\n",
       "    }\n",
       "\n",
       "    .dataframe tbody tr th {\n",
       "        vertical-align: top;\n",
       "    }\n",
       "\n",
       "    .dataframe thead th {\n",
       "        text-align: right;\n",
       "    }\n",
       "</style>\n",
       "<table border=\"1\" class=\"dataframe\">\n",
       "  <thead>\n",
       "    <tr style=\"text-align: right;\">\n",
       "      <th></th>\n",
       "      <th>Hmax</th>\n",
       "      <th>Zmax</th>\n",
       "      <th>delta_iso22</th>\n",
       "      <th>Zmax_layer_1</th>\n",
       "      <th>Zmax_layer_2</th>\n",
       "      <th>Zmax_layer_3</th>\n",
       "      <th>Zmax_layer_4</th>\n",
       "      <th>Zmax_layer_5</th>\n",
       "      <th>Zmax_layer_6</th>\n",
       "      <th>Zmax_layer_7</th>\n",
       "      <th>Zmax_layer_8</th>\n",
       "      <th>Zmax_layer_9</th>\n",
       "      <th>Zmax_layer_10</th>\n",
       "      <th>Zmax_layer_11</th>\n",
       "      <th>y_param</th>\n",
       "      <th>H_Zmax</th>\n",
       "    </tr>\n",
       "  </thead>\n",
       "  <tbody>\n",
       "    <tr>\n",
       "      <th>0</th>\n",
       "      <td>9250.0</td>\n",
       "      <td>32.0</td>\n",
       "      <td>2177.0</td>\n",
       "      <td>24.0</td>\n",
       "      <td>27.0</td>\n",
       "      <td>30.0</td>\n",
       "      <td>32.0</td>\n",
       "      <td>26.0</td>\n",
       "      <td>16.0</td>\n",
       "      <td>10.0</td>\n",
       "      <td>5.0</td>\n",
       "      <td>1.0</td>\n",
       "      <td>-3.0</td>\n",
       "      <td>-100.0</td>\n",
       "      <td>25.0</td>\n",
       "      <td>4.0</td>\n",
       "    </tr>\n",
       "    <tr>\n",
       "      <th>1</th>\n",
       "      <td>9250.0</td>\n",
       "      <td>22.0</td>\n",
       "      <td>2296.0</td>\n",
       "      <td>18.0</td>\n",
       "      <td>20.0</td>\n",
       "      <td>22.0</td>\n",
       "      <td>22.0</td>\n",
       "      <td>19.0</td>\n",
       "      <td>16.0</td>\n",
       "      <td>11.0</td>\n",
       "      <td>7.0</td>\n",
       "      <td>3.0</td>\n",
       "      <td>-1.0</td>\n",
       "      <td>-100.0</td>\n",
       "      <td>27.0</td>\n",
       "      <td>3.0</td>\n",
       "    </tr>\n",
       "    <tr>\n",
       "      <th>2</th>\n",
       "      <td>4750.0</td>\n",
       "      <td>9.0</td>\n",
       "      <td>27.0</td>\n",
       "      <td>9.0</td>\n",
       "      <td>9.0</td>\n",
       "      <td>9.0</td>\n",
       "      <td>9.0</td>\n",
       "      <td>5.0</td>\n",
       "      <td>-100.0</td>\n",
       "      <td>-100.0</td>\n",
       "      <td>-100.0</td>\n",
       "      <td>-100.0</td>\n",
       "      <td>-100.0</td>\n",
       "      <td>-100.0</td>\n",
       "      <td>10.0</td>\n",
       "      <td>1.0</td>\n",
       "    </tr>\n",
       "    <tr>\n",
       "      <th>3</th>\n",
       "      <td>9500.0</td>\n",
       "      <td>30.0</td>\n",
       "      <td>3505.0</td>\n",
       "      <td>24.0</td>\n",
       "      <td>27.0</td>\n",
       "      <td>30.0</td>\n",
       "      <td>25.0</td>\n",
       "      <td>16.0</td>\n",
       "      <td>14.0</td>\n",
       "      <td>10.0</td>\n",
       "      <td>6.0</td>\n",
       "      <td>2.0</td>\n",
       "      <td>-2.0</td>\n",
       "      <td>-100.0</td>\n",
       "      <td>30.0</td>\n",
       "      <td>3.0</td>\n",
       "    </tr>\n",
       "    <tr>\n",
       "      <th>4</th>\n",
       "      <td>5750.0</td>\n",
       "      <td>21.0</td>\n",
       "      <td>-949.0</td>\n",
       "      <td>-100.0</td>\n",
       "      <td>-100.0</td>\n",
       "      <td>-100.0</td>\n",
       "      <td>19.0</td>\n",
       "      <td>20.0</td>\n",
       "      <td>21.0</td>\n",
       "      <td>-100.0</td>\n",
       "      <td>-100.0</td>\n",
       "      <td>-100.0</td>\n",
       "      <td>-100.0</td>\n",
       "      <td>-100.0</td>\n",
       "      <td>17.0</td>\n",
       "      <td>6.0</td>\n",
       "    </tr>\n",
       "    <tr>\n",
       "      <th>...</th>\n",
       "      <td>...</td>\n",
       "      <td>...</td>\n",
       "      <td>...</td>\n",
       "      <td>...</td>\n",
       "      <td>...</td>\n",
       "      <td>...</td>\n",
       "      <td>...</td>\n",
       "      <td>...</td>\n",
       "      <td>...</td>\n",
       "      <td>...</td>\n",
       "      <td>...</td>\n",
       "      <td>...</td>\n",
       "      <td>...</td>\n",
       "      <td>...</td>\n",
       "      <td>...</td>\n",
       "      <td>...</td>\n",
       "    </tr>\n",
       "    <tr>\n",
       "      <th>440710</th>\n",
       "      <td>5500.0</td>\n",
       "      <td>28.0</td>\n",
       "      <td>12.0</td>\n",
       "      <td>20.0</td>\n",
       "      <td>25.0</td>\n",
       "      <td>28.0</td>\n",
       "      <td>15.0</td>\n",
       "      <td>0.0</td>\n",
       "      <td>-4.0</td>\n",
       "      <td>-100.0</td>\n",
       "      <td>-100.0</td>\n",
       "      <td>-100.0</td>\n",
       "      <td>-100.0</td>\n",
       "      <td>-100.0</td>\n",
       "      <td>14.0</td>\n",
       "      <td>3.0</td>\n",
       "    </tr>\n",
       "    <tr>\n",
       "      <th>440711</th>\n",
       "      <td>3500.0</td>\n",
       "      <td>19.0</td>\n",
       "      <td>-3387.0</td>\n",
       "      <td>15.0</td>\n",
       "      <td>15.0</td>\n",
       "      <td>16.0</td>\n",
       "      <td>19.0</td>\n",
       "      <td>-100.0</td>\n",
       "      <td>-100.0</td>\n",
       "      <td>-100.0</td>\n",
       "      <td>-100.0</td>\n",
       "      <td>-100.0</td>\n",
       "      <td>-100.0</td>\n",
       "      <td>-100.0</td>\n",
       "      <td>0.0</td>\n",
       "      <td>4.0</td>\n",
       "    </tr>\n",
       "    <tr>\n",
       "      <th>440712</th>\n",
       "      <td>8500.0</td>\n",
       "      <td>9.0</td>\n",
       "      <td>1531.0</td>\n",
       "      <td>-100.0</td>\n",
       "      <td>-100.0</td>\n",
       "      <td>-100.0</td>\n",
       "      <td>-100.0</td>\n",
       "      <td>-100.0</td>\n",
       "      <td>-100.0</td>\n",
       "      <td>9.0</td>\n",
       "      <td>9.0</td>\n",
       "      <td>7.0</td>\n",
       "      <td>-100.0</td>\n",
       "      <td>-100.0</td>\n",
       "      <td>0.0</td>\n",
       "      <td>7.0</td>\n",
       "    </tr>\n",
       "    <tr>\n",
       "      <th>440713</th>\n",
       "      <td>8250.0</td>\n",
       "      <td>11.0</td>\n",
       "      <td>2565.0</td>\n",
       "      <td>9.0</td>\n",
       "      <td>9.0</td>\n",
       "      <td>9.0</td>\n",
       "      <td>10.0</td>\n",
       "      <td>11.0</td>\n",
       "      <td>9.0</td>\n",
       "      <td>5.0</td>\n",
       "      <td>1.0</td>\n",
       "      <td>-3.0</td>\n",
       "      <td>-100.0</td>\n",
       "      <td>-100.0</td>\n",
       "      <td>18.0</td>\n",
       "      <td>5.0</td>\n",
       "    </tr>\n",
       "    <tr>\n",
       "      <th>440714</th>\n",
       "      <td>8000.0</td>\n",
       "      <td>8.0</td>\n",
       "      <td>2664.0</td>\n",
       "      <td>8.0</td>\n",
       "      <td>8.0</td>\n",
       "      <td>8.0</td>\n",
       "      <td>8.0</td>\n",
       "      <td>8.0</td>\n",
       "      <td>8.0</td>\n",
       "      <td>6.0</td>\n",
       "      <td>-1.0</td>\n",
       "      <td>-5.0</td>\n",
       "      <td>-100.0</td>\n",
       "      <td>-100.0</td>\n",
       "      <td>16.0</td>\n",
       "      <td>1.0</td>\n",
       "    </tr>\n",
       "  </tbody>\n",
       "</table>\n",
       "<p>440715 rows × 16 columns</p>\n",
       "</div>"
      ],
      "text/plain": [
       "          Hmax  Zmax  delta_iso22  Zmax_layer_1  Zmax_layer_2  Zmax_layer_3  \\\n",
       "0       9250.0  32.0       2177.0          24.0          27.0          30.0   \n",
       "1       9250.0  22.0       2296.0          18.0          20.0          22.0   \n",
       "2       4750.0   9.0         27.0           9.0           9.0           9.0   \n",
       "3       9500.0  30.0       3505.0          24.0          27.0          30.0   \n",
       "4       5750.0  21.0       -949.0        -100.0        -100.0        -100.0   \n",
       "...        ...   ...          ...           ...           ...           ...   \n",
       "440710  5500.0  28.0         12.0          20.0          25.0          28.0   \n",
       "440711  3500.0  19.0      -3387.0          15.0          15.0          16.0   \n",
       "440712  8500.0   9.0       1531.0        -100.0        -100.0        -100.0   \n",
       "440713  8250.0  11.0       2565.0           9.0           9.0           9.0   \n",
       "440714  8000.0   8.0       2664.0           8.0           8.0           8.0   \n",
       "\n",
       "        Zmax_layer_4  Zmax_layer_5  Zmax_layer_6  Zmax_layer_7  Zmax_layer_8  \\\n",
       "0               32.0          26.0          16.0          10.0           5.0   \n",
       "1               22.0          19.0          16.0          11.0           7.0   \n",
       "2                9.0           5.0        -100.0        -100.0        -100.0   \n",
       "3               25.0          16.0          14.0          10.0           6.0   \n",
       "4               19.0          20.0          21.0        -100.0        -100.0   \n",
       "...              ...           ...           ...           ...           ...   \n",
       "440710          15.0           0.0          -4.0        -100.0        -100.0   \n",
       "440711          19.0        -100.0        -100.0        -100.0        -100.0   \n",
       "440712        -100.0        -100.0        -100.0           9.0           9.0   \n",
       "440713          10.0          11.0           9.0           5.0           1.0   \n",
       "440714           8.0           8.0           8.0           6.0          -1.0   \n",
       "\n",
       "        Zmax_layer_9  Zmax_layer_10  Zmax_layer_11  y_param  H_Zmax  \n",
       "0                1.0           -3.0         -100.0     25.0     4.0  \n",
       "1                3.0           -1.0         -100.0     27.0     3.0  \n",
       "2             -100.0         -100.0         -100.0     10.0     1.0  \n",
       "3                2.0           -2.0         -100.0     30.0     3.0  \n",
       "4             -100.0         -100.0         -100.0     17.0     6.0  \n",
       "...              ...            ...            ...      ...     ...  \n",
       "440710        -100.0         -100.0         -100.0     14.0     3.0  \n",
       "440711        -100.0         -100.0         -100.0      0.0     4.0  \n",
       "440712           7.0         -100.0         -100.0      0.0     7.0  \n",
       "440713          -3.0         -100.0         -100.0     18.0     5.0  \n",
       "440714          -5.0         -100.0         -100.0     16.0     1.0  \n",
       "\n",
       "[440715 rows x 16 columns]"
      ]
     },
     "execution_count": 150,
     "metadata": {},
     "output_type": "execute_result"
    }
   ],
   "source": [
    "X_test_reversed = pd.DataFrame(scaler.inverse_transform(X_test), columns=X.columns)\n",
    "X_test_reversed"
   ]
  },
  {
   "cell_type": "code",
   "execution_count": 156,
   "id": "3e30156b",
   "metadata": {},
   "outputs": [
    {
     "data": {
      "text/html": [
       "<div>\n",
       "<style scoped>\n",
       "    .dataframe tbody tr th:only-of-type {\n",
       "        vertical-align: middle;\n",
       "    }\n",
       "\n",
       "    .dataframe tbody tr th {\n",
       "        vertical-align: top;\n",
       "    }\n",
       "\n",
       "    .dataframe thead th {\n",
       "        text-align: right;\n",
       "    }\n",
       "</style>\n",
       "<table border=\"1\" class=\"dataframe\">\n",
       "  <thead>\n",
       "    <tr style=\"text-align: right;\">\n",
       "      <th></th>\n",
       "      <th>Hmax</th>\n",
       "      <th>Zmax</th>\n",
       "      <th>H_Zmax</th>\n",
       "      <th>delta_iso22</th>\n",
       "      <th>y_param</th>\n",
       "      <th>Zmax_layer_6</th>\n",
       "      <th>Zmax_layer_7</th>\n",
       "      <th>Zmax_layer_8</th>\n",
       "      <th>Zmax_layer_9</th>\n",
       "      <th>Zmax_layer_10</th>\n",
       "    </tr>\n",
       "  </thead>\n",
       "  <tbody>\n",
       "    <tr>\n",
       "      <th>8</th>\n",
       "      <td>10750</td>\n",
       "      <td>33</td>\n",
       "      <td>4</td>\n",
       "      <td>3871</td>\n",
       "      <td>37</td>\n",
       "      <td>29</td>\n",
       "      <td>25</td>\n",
       "      <td>20</td>\n",
       "      <td>15</td>\n",
       "      <td>11</td>\n",
       "    </tr>\n",
       "    <tr>\n",
       "      <th>9</th>\n",
       "      <td>10750</td>\n",
       "      <td>31</td>\n",
       "      <td>3</td>\n",
       "      <td>3871</td>\n",
       "      <td>36</td>\n",
       "      <td>29</td>\n",
       "      <td>25</td>\n",
       "      <td>18</td>\n",
       "      <td>13</td>\n",
       "      <td>9</td>\n",
       "    </tr>\n",
       "    <tr>\n",
       "      <th>10</th>\n",
       "      <td>10750</td>\n",
       "      <td>33</td>\n",
       "      <td>4</td>\n",
       "      <td>3871</td>\n",
       "      <td>37</td>\n",
       "      <td>28</td>\n",
       "      <td>24</td>\n",
       "      <td>20</td>\n",
       "      <td>16</td>\n",
       "      <td>12</td>\n",
       "    </tr>\n",
       "    <tr>\n",
       "      <th>11</th>\n",
       "      <td>10500</td>\n",
       "      <td>35</td>\n",
       "      <td>1</td>\n",
       "      <td>3621</td>\n",
       "      <td>37</td>\n",
       "      <td>33</td>\n",
       "      <td>28</td>\n",
       "      <td>23</td>\n",
       "      <td>19</td>\n",
       "      <td>15</td>\n",
       "    </tr>\n",
       "    <tr>\n",
       "      <th>12</th>\n",
       "      <td>10750</td>\n",
       "      <td>39</td>\n",
       "      <td>1</td>\n",
       "      <td>3871</td>\n",
       "      <td>39</td>\n",
       "      <td>36</td>\n",
       "      <td>30</td>\n",
       "      <td>24</td>\n",
       "      <td>19</td>\n",
       "      <td>15</td>\n",
       "    </tr>\n",
       "    <tr>\n",
       "      <th>...</th>\n",
       "      <td>...</td>\n",
       "      <td>...</td>\n",
       "      <td>...</td>\n",
       "      <td>...</td>\n",
       "      <td>...</td>\n",
       "      <td>...</td>\n",
       "      <td>...</td>\n",
       "      <td>...</td>\n",
       "      <td>...</td>\n",
       "      <td>...</td>\n",
       "    </tr>\n",
       "    <tr>\n",
       "      <th>294870</th>\n",
       "      <td>4500</td>\n",
       "      <td>18</td>\n",
       "      <td>1</td>\n",
       "      <td>-2602</td>\n",
       "      <td>10</td>\n",
       "      <td>-100</td>\n",
       "      <td>-100</td>\n",
       "      <td>-100</td>\n",
       "      <td>-100</td>\n",
       "      <td>-100</td>\n",
       "    </tr>\n",
       "    <tr>\n",
       "      <th>260062</th>\n",
       "      <td>4750</td>\n",
       "      <td>14</td>\n",
       "      <td>3</td>\n",
       "      <td>-2190</td>\n",
       "      <td>11</td>\n",
       "      <td>-100</td>\n",
       "      <td>-100</td>\n",
       "      <td>-100</td>\n",
       "      <td>-100</td>\n",
       "      <td>-100</td>\n",
       "    </tr>\n",
       "    <tr>\n",
       "      <th>1268723</th>\n",
       "      <td>4000</td>\n",
       "      <td>-5</td>\n",
       "      <td>5</td>\n",
       "      <td>-3135</td>\n",
       "      <td>0</td>\n",
       "      <td>-100</td>\n",
       "      <td>-100</td>\n",
       "      <td>-100</td>\n",
       "      <td>-100</td>\n",
       "      <td>-100</td>\n",
       "    </tr>\n",
       "    <tr>\n",
       "      <th>122358</th>\n",
       "      <td>8000</td>\n",
       "      <td>3</td>\n",
       "      <td>8</td>\n",
       "      <td>1113</td>\n",
       "      <td>0</td>\n",
       "      <td>1</td>\n",
       "      <td>1</td>\n",
       "      <td>3</td>\n",
       "      <td>2</td>\n",
       "      <td>-100</td>\n",
       "    </tr>\n",
       "    <tr>\n",
       "      <th>1268726</th>\n",
       "      <td>3000</td>\n",
       "      <td>-6</td>\n",
       "      <td>4</td>\n",
       "      <td>-4135</td>\n",
       "      <td>0</td>\n",
       "      <td>-100</td>\n",
       "      <td>-100</td>\n",
       "      <td>-100</td>\n",
       "      <td>-100</td>\n",
       "      <td>-100</td>\n",
       "    </tr>\n",
       "  </tbody>\n",
       "</table>\n",
       "<p>2203573 rows × 10 columns</p>\n",
       "</div>"
      ],
      "text/plain": [
       "          Hmax  Zmax  H_Zmax  delta_iso22  y_param  Zmax_layer_6  \\\n",
       "8        10750    33       4         3871       37            29   \n",
       "9        10750    31       3         3871       36            29   \n",
       "10       10750    33       4         3871       37            28   \n",
       "11       10500    35       1         3621       37            33   \n",
       "12       10750    39       1         3871       39            36   \n",
       "...        ...   ...     ...          ...      ...           ...   \n",
       "294870    4500    18       1        -2602       10          -100   \n",
       "260062    4750    14       3        -2190       11          -100   \n",
       "1268723   4000    -5       5        -3135        0          -100   \n",
       "122358    8000     3       8         1113        0             1   \n",
       "1268726   3000    -6       4        -4135        0          -100   \n",
       "\n",
       "         Zmax_layer_7  Zmax_layer_8  Zmax_layer_9  Zmax_layer_10  \n",
       "8                  25            20            15             11  \n",
       "9                  25            18            13              9  \n",
       "10                 24            20            16             12  \n",
       "11                 28            23            19             15  \n",
       "12                 30            24            19             15  \n",
       "...               ...           ...           ...            ...  \n",
       "294870           -100          -100          -100           -100  \n",
       "260062           -100          -100          -100           -100  \n",
       "1268723          -100          -100          -100           -100  \n",
       "122358              1             3             2           -100  \n",
       "1268726          -100          -100          -100           -100  \n",
       "\n",
       "[2203573 rows x 10 columns]"
      ]
     },
     "execution_count": 156,
     "metadata": {},
     "output_type": "execute_result"
    }
   ],
   "source": [
    "X_test_set_0 = X.iloc[:, feature_indices_0]\n",
    "X_test_set_0"
   ]
  },
  {
   "cell_type": "code",
   "execution_count": 157,
   "id": "61723c3b",
   "metadata": {},
   "outputs": [],
   "source": [
    "means_set_0 = np.array([ 5.98662914e+03,  1.78991575e+01,  3.14036697e+00, -2.06321075e+02,\n",
    "         1.36515097e+01, -2.33044556e+01, -4.81705255e+01, -7.04111569e+01,\n",
    "        -8.30101943e+01, -8.93225769e+01])\n",
    "vars_set_0 = np.array([4.33835841e+06, 1.09650570e+02, 2.97509535e+00, 3.76658406e+06,\n",
    "        9.69965597e+01, 2.84090042e+03, 3.19889549e+03, 2.53062474e+03,\n",
    "        1.70629585e+03, 1.15425153e+03])"
   ]
  },
  {
   "cell_type": "code",
   "execution_count": 158,
   "id": "98a709b3",
   "metadata": {},
   "outputs": [],
   "source": [
    "coef_set_0 = [-0.639243663937659,\n",
    "  0.8551190949277104,\n",
    "  0.245417349603466,\n",
    "  1.5591457486408773,\n",
    "  -0.12700607806288347,\n",
    "  0.5169288478384069,\n",
    "  0.4678676340456219,\n",
    "  0.2950420877671173,\n",
    "  0.18817580602393275,\n",
    "  0.09371182694775773]\n",
    "inter_set_0 = -6.725828009609889"
   ]
  },
  {
   "cell_type": "code",
   "execution_count": 160,
   "id": "b9ff7bde",
   "metadata": {},
   "outputs": [
    {
     "name": "stdout",
     "output_type": "stream",
     "text": [
      "Accuracy is 0.9566\n",
      "f1_score is 0.6502\n",
      "precision_score is 0.8197\n",
      "recall_score is 0.5388\n",
      "roc_auc_score is 0.8917\n",
      "HSS is 0.6281\n",
      "ETS is 0.4579\n",
      "CSI is 0.4817\n",
      "sedi is 0.7924\n"
     ]
    },
    {
     "data": {
      "text/plain": [
       "0    0.956625\n",
       "1    0.650190\n",
       "2    0.819662\n",
       "3    0.538790\n",
       "4    0.891686\n",
       "5    0.628120\n",
       "6    0.457853\n",
       "7    0.481690\n",
       "8    0.792356\n",
       "dtype: float64"
      ]
     },
     "execution_count": 160,
     "metadata": {},
     "output_type": "execute_result"
    },
    {
     "data": {
      "image/png": "[encoded data removed]",
      "text/plain": [
       "<Figure size 800x550 with 2 Axes>"
      ]
     },
     "metadata": {},
     "output_type": "display_data"
    }
   ],
   "source": [
    "scaled_df = (np.subtract(X_test_set_0,means_set_0))/np.sqrt(vars_set_0)\n",
    "dot_prod = np.dot(scaled_df, coef_set_0)+inter_set_0\n",
    "res_preds_0 = np.where(dot_prod >= 0, 1,0)\n",
    "scorer(y, res_preds_0)"
   ]
  },
  {
   "cell_type": "code",
   "execution_count": null,
   "id": "33b1d18a",
   "metadata": {},
   "outputs": [],
   "source": []
  },
  {
   "attachments": {},
   "cell_type": "markdown",
   "id": "d5bf026f",
   "metadata": {},
   "source": [
    "### get coefs"
   ]
  },
  {
   "cell_type": "code",
   "execution_count": 133,
   "metadata": {},
   "outputs": [
    {
     "data": {
      "text/plain": [
       "(array([ 8.33179330e+03,  2.41869337e+01,  3.35110477e+00,  1.91723360e+03,\n",
       "         2.27546494e+01,  7.64304064e+00, -2.50841883e+00, -1.81673450e+01,\n",
       "        -3.95604094e+01, -5.86931275e+01]),\n",
       " array([6.11829165e+06, 1.91041161e+02, 3.14338962e+00, 5.12933410e+06,\n",
       "        1.54771159e+02, 1.14374303e+03, 1.74410089e+03, 2.56571620e+03,\n",
       "        3.14130236e+03, 2.95329772e+03]))"
      ]
     },
     "execution_count": 133,
     "metadata": {},
     "output_type": "execute_result"
    }
   ],
   "source": [
    "means[feature_indices_0], vars[feature_indices_0]"
   ]
  },
  {
   "cell_type": "code",
   "execution_count": 73,
   "id": "bdd3d94a",
   "metadata": {},
   "outputs": [
    {
     "data": {
      "text/plain": [
       "(['((Hmax + -8331.793296614182) / 2473.518071000451)*-1.4594827779422352',\n",
       "  '((Zmax + -24.18693367544438) / 13.82176402764326)*0.3038427733259509',\n",
       "  '((H_Zmax + -3.3511047739285242) / 1.7729606943110328)*-0.025024611716539403',\n",
       "  '((delta_iso22 + -1917.233601972796) / 2264.8033238624084)*1.7895984359913326',\n",
       "  '((y_param + -22.75464938080109) / 12.440705737188077)*0.20528146861255284',\n",
       "  '((Zmax_layer_6 + -7.643040643536656) / 33.81927007791456)*3.607158324022024',\n",
       "  '((Zmax_layer_7 + 2.5084188270595074) / 41.76243390571039)*0.426577777982917',\n",
       "  '((Zmax_layer_8 + 18.16734503463239) / 50.652899178363974)*0.31166985925677027',\n",
       "  '((Zmax_layer_9 + 39.56040938965943) / 56.04732248263812)*0.017550715701096165',\n",
       "  '((Zmax_layer_10 + 58.693127479779434) / 54.34425191295293)*0.2528106437870482'],\n",
       " -6.858261682081707)"
      ]
     },
     "execution_count": 73,
     "metadata": {},
     "output_type": "execute_result"
    }
   ],
   "source": [
    "[f'(({features_set_0[i]} + {-means_set_0[i]}) / {np.sqrt(vars_set_0[i])})*{coef_set_0[i]}' for i in range(len(coef_set_0))],inter_set_0\n"
   ]
  },
  {
   "cell_type": "code",
   "execution_count": 74,
   "id": "61368ad2",
   "metadata": {},
   "outputs": [
    {
     "data": {
      "text/plain": [
       "(['((Hmax + -8331.793296614182) / 2473.518071000451)*0.5220189466853136',\n",
       "  '((Zmax + -24.18693367544438) / 13.82176402764326)*0.3377176035847147',\n",
       "  '((Zmax_layer_6 + -7.643040643536656) / 33.81927007791456)*3.560569627037875',\n",
       "  '((Zmax_layer_7 + 2.5084188270595074) / 41.76243390571039)*0.6449981238438588',\n",
       "  '((Zmax_layer_8 + 18.16734503463239) / 50.652899178363974)*0.2341070674058443',\n",
       "  '((Zmax_layer_9 + 39.56040938965943) / 56.04732248263812)*-0.06187678202646707',\n",
       "  '((Zmax_layer_10 + 58.693127479779434) / 54.34425191295293)*0.17414138353595862'],\n",
       " -6.853331074126327)"
      ]
     },
     "execution_count": 74,
     "metadata": {},
     "output_type": "execute_result"
    }
   ],
   "source": [
    "[f'(({features_set_1[i]} + {-means_set_1[i]}) / {np.sqrt(vars_set_1[i])})*{coef_set_1[i]}' for i in range(len(coef_set_1))],inter_set_1"
   ]
  },
  {
   "cell_type": "code",
   "execution_count": 75,
   "id": "d96a001e",
   "metadata": {},
   "outputs": [
    {
     "data": {
      "text/plain": [
       "(['((Hmax + -8331.793296614182) / 2473.518071000451)*0.5306182839979463',\n",
       "  '((Zmax + -24.18693367544438) / 13.82176402764326)*0.2891731844368553',\n",
       "  '((H_Zmax + -3.3511047739285242) / 1.7729606943110328)*-0.04342169255620947',\n",
       "  '((Zmax_layer_6 + -7.643040643536656) / 33.81927007791456)*3.6253875723382154',\n",
       "  '((Zmax_layer_7 + 2.5084188270595074) / 41.76243390571039)*0.6876408783001258',\n",
       "  '((Zmax_layer_8 + 18.16734503463239) / 50.652899178363974)*0.2350264290893089',\n",
       "  '((Zmax_layer_9 + 39.56040938965943) / 56.04732248263812)*-0.06199361383474736',\n",
       "  '((Zmax_layer_10 + 58.693127479779434) / 54.34425191295293)*0.17136197174108023'],\n",
       " -6.880728067655704)"
      ]
     },
     "execution_count": 75,
     "metadata": {},
     "output_type": "execute_result"
    }
   ],
   "source": [
    "[f'(({features_set_2[i]} + {-means_set_2[i]}) / {np.sqrt(vars_set_2[i])})*{coef_set_2[i]}' for i in range(len(coef_set_2))],inter_set_2"
   ]
  },
  {
   "cell_type": "code",
   "execution_count": null,
   "id": "fa15994c",
   "metadata": {},
   "outputs": [],
   "source": [
    "                                               # Уравнение для третьего варианта"
   ]
  },
  {
   "cell_type": "code",
   "execution_count": null,
   "id": "11d584a8",
   "metadata": {},
   "outputs": [],
   "source": [
    "                                                  \n",
    "\n",
    "\n",
    "x0 = ((Hmax + -6030.0154726600085) / 2115.9922844899693)*0.9899131219859455,               # Максимальная высота радиоэха, m\n",
    "x1 = ((Zmax + -17.94573080216485) / 10.416867445191416)*0.75400260700572,                  # Максимальная отражаемость, dbZ\n",
    "x2 = ((Zmax_layer_6 + 22.592478072133012) / 53.301569061973964)*0.3154611817917923,        # Отражаемость на уровне 6 км, dbZ \n",
    "x3 = ((Zmax_layer_7 + 47.45566322499165) / 56.83951905771273)*0.3147828342782613,          # Отражаемость на уровне 7 км, dbZ \n",
    "x4 = ((Zmax_layer_8 + 69.32080560321884) / 51.05159453896699)*0.2581372686875461,          # Отражаемость на уровне 8 км, dbZ \n",
    "x5 = ((Zmax_layer_9 + 82.09938249870234) / 42.29854135926742)*0.16879107285345113,         # Отражаемость на уровне 9 км, dbZ \n",
    "x6 = ((Zmax_layer_10 + 88.58071157705417) / 35.06562540138608)*0.09261709566768207         # Отражаемость на уровне 10 км, dbZ \n",
    "result = sum(xi) - 4.922595547112332                                                       # Уравнение для первого варианта\n",
    "\n",
    "\n",
    "x0 = ((Hmax + -6030.0154726600085) / 2115.9922844899693) * 0.8061940405488975,             # Максимальная высота радиоэха, m\n",
    "x1 = ((Zmax + -17.94573080216485) / 10.416867445191416) * 0.92157806119421,                # Максимальная отражаемость, dbZ\n",
    "x2 = ((H_Zmax + -3.1741566904376977) / 1.7496742083261316) * 0.297247741290093,            # Уровень максимальной отражаемости, km\n",
    "x3 = ((Zmax_layer_6 + 22.592478072133012) / 53.301569061973964) * 0.39599442698504855,     # Отражаемость на уровне 6 км, dbZ\n",
    "x4 = ((Zmax_layer_7 + 47.45566322499165) / 56.83951905771273) * 0.2587855889239227,        # Отражаемость на уровне 7 км, dbZ\n",
    "x5 = ((Zmax_layer_8 + 69.32080560321884) / 51.05159453896699) * 0.24677932074219924,       # Отражаемость на уровне 8 км, dbZ\n",
    "x6 = ((Zmax_layer_9 + 82.09938249870234) / 42.29854135926742) * 0.17081076184334903,       # Отражаемость на уровне 9 км, dbZ\n",
    "x7 = ((Zmax_layer_10 + 88.58071157705417) / 35.06562540138608) * 0.08962434980927239       # Отражаемость на уровне 10 км , dbZ\n",
    "result = sum(xi) - 4.959611610720029                                                       # Уравнение для второго варианта\n",
    "\n",
    "x0 = ((Hmax + -6030.0154726600085) / 2115.9922844899693) * -0.6402480239966041,            # Максимальная высота радиоэха, m\n",
    "x1 = ((Zmax + -17.94573080216485) / 10.416867445191416) * 0.8974503789334118,              # Максимальная отражаемость, dbZ\n",
    "x2 = ((H_Zmax + -3.1741566904376977) / 1.7496742083261316) * 0.29239410289074713,          # Уровень максимальной отражаемости, km\n",
    "x3 = ((delta_iso22 + 178.4893927146253) / 1969.9346958566946) * 1.5515382541144216,        # Разница Максимальной высоты радиоэха и Высоты изотермы -22°C, m\n",
    "x4 = ((y_param + -13.854570220419282) / 10.002661172354728) * -0.06722576052210379,        # Параметр Y\n",
    "x5 = ((Zmax_layer_6 + 22.592478072133012) / 53.301569061973964) * 0.40541207975864435,     # Отражаемость на уровне 6 км, dbZ\n",
    "x6 = ((Zmax_layer_7 + 47.45566322499165) / 56.83951905771273) * 0.3554628604022989,        # Отражаемость на уровне 7 км, dbZ\n",
    "x7 = ((Zmax_layer_8 + 69.32080560321884) / 51.05159453896699) * 0.2903414293829566,        # Отражаемость на уровне 8 км, dbZ\n",
    "x8 = ((Zmax_layer_9 + 82.09938249870234) / 42.29854135926742) * 0.1589323452929145,        # Отражаемость на уровне 9 км, dbZ\n",
    "x9 = ((Zmax_layer_10 + 88.58071157705417) / 35.06562540138608) * 0.08882231885804244       # Отражаемость на уровне 10 км , dbZ\n",
    "result = sum(xi) - 5.054243724161584                                                       # Уравнение для третьего варианта\n",
    "\n",
    "# Если result > 0 - гроза есть,\n",
    "#      result < 0 - грозы нет"
   ]
  },
  {
   "cell_type": "code",
   "execution_count": 177,
   "id": "d55947f0",
   "metadata": {},
   "outputs": [
    {
     "name": "stdout",
     "output_type": "stream",
     "text": [
      "Accuracy is 1.0\n",
      "f1_score is 1.0\n",
      "precision_score is 1.0\n",
      "recall_score is 1.0\n",
      "roc_auc_score is 1.0\n",
      "HSS is 1.0\n",
      "ETS is 1.0\n",
      "CSI is 1.0\n",
      "sedi is nan\n"
     ]
    },
    {
     "data": {
      "text/plain": [
       "0    1.0\n",
       "1    1.0\n",
       "2    1.0\n",
       "3    1.0\n",
       "4    1.0\n",
       "5    1.0\n",
       "6    1.0\n",
       "7    1.0\n",
       "8    NaN\n",
       "dtype: float64"
      ]
     },
     "execution_count": 177,
     "metadata": {},
     "output_type": "execute_result"
    },
    {
     "data": {
      "image/png": "[encoded data removed]",
      "text/plain": [
       "<Figure size 800x550 with 2 Axes>"
      ]
     },
     "metadata": {},
     "output_type": "display_data"
    }
   ],
   "source": [
    "scaled_df = (np.subtract(X_test_reversed_scaled_0,means_set_0))/np.sqrt(vars_set_0)\n",
    "dot_prod = np.dot(scaled_df, coef_set_0)+inter_set_0\n",
    "res_preds_0 = np.where(dot_prod >= 0, 1,0)\n",
    "scorer(sgd_pred_0, res_preds_0)"
   ]
  },
  {
   "cell_type": "code",
   "execution_count": 136,
   "id": "d509746c",
   "metadata": {},
   "outputs": [
    {
     "name": "stdout",
     "output_type": "stream",
     "text": [
      "Accuracy is 1.0\n",
      "f1_score is 1.0\n",
      "precision_score is 1.0\n",
      "recall_score is 1.0\n",
      "roc_auc_score is 1.0\n",
      "HSS is 1.0\n",
      "ETS is 1.0\n",
      "CSI is 1.0\n",
      "sedi is nan\n"
     ]
    },
    {
     "data": {
      "text/plain": [
       "0    1.0\n",
       "1    1.0\n",
       "2    1.0\n",
       "3    1.0\n",
       "4    1.0\n",
       "5    1.0\n",
       "6    1.0\n",
       "7    1.0\n",
       "8    NaN\n",
       "dtype: float64"
      ]
     },
     "execution_count": 136,
     "metadata": {},
     "output_type": "execute_result"
    },
    {
     "data": {
      "image/png": "[encoded data removed]",
      "text/plain": [
       "<Figure size 800x550 with 2 Axes>"
      ]
     },
     "metadata": {},
     "output_type": "display_data"
    }
   ],
   "source": [
    "result = np.dot(X_test_set_0, coef_set_0)+inter_set_0\n",
    "preds = np.where(result >= 0, 1,0)\n",
    "scorer(sgd_pred_0, preds)"
   ]
  },
  {
   "cell_type": "code",
   "execution_count": null,
   "id": "b7a15707",
   "metadata": {},
   "outputs": [],
   "source": []
  },
  {
   "cell_type": "code",
   "execution_count": null,
   "id": "938efc04",
   "metadata": {},
   "outputs": [],
   "source": []
  },
  {
   "cell_type": "code",
   "execution_count": 15,
   "id": "23bce887",
   "metadata": {},
   "outputs": [
    {
     "name": "stdout",
     "output_type": "stream",
     "text": [
      "Accuracy is 0.9751\n",
      "f1_score is 0.6357\n",
      "precision_score is 0.6691\n",
      "recall_score is 0.6054\n",
      "roc_auc_score is 0.8272\n",
      "HSS is 0.6228\n",
      "ETS is 0.4523\n",
      "CSI is 0.4659\n",
      "sedi is 0.8273\n",
      "CPU times: user 1min 52s, sys: 228 ms, total: 1min 52s\n",
      "Wall time: 22.6 s\n"
     ]
    },
    {
     "data": {
      "image/png": "[encoded data removed]",
      "text/plain": [
       "<Figure size 800x550 with 2 Axes>"
      ]
     },
     "metadata": {},
     "output_type": "display_data"
    }
   ],
   "source": [
    "%%time\n",
    "#classificator \n",
    "knn = KNeighborsClassifier(n_neighbors=9,leaf_size=5, n_jobs = -2) \n",
    "knn.fit(X_train, y_train)\n",
    "knn_pred = knn.predict(X_test)\n",
    "\n",
    "# get scores\n",
    "knn_res = scorer(y_test, knn_pred)"
   ]
  },
  {
   "cell_type": "code",
   "execution_count": 16,
   "id": "769d7a79",
   "metadata": {},
   "outputs": [],
   "source": [
    "from catboost import CatBoostClassifier"
   ]
  },
  {
   "cell_type": "code",
   "execution_count": 17,
   "id": "a3954d37",
   "metadata": {},
   "outputs": [
    {
     "name": "stdout",
     "output_type": "stream",
     "text": [
      "Accuracy is 0.9766\n",
      "f1_score is 0.6484\n",
      "precision_score is 0.6672\n",
      "recall_score is 0.6306\n",
      "roc_auc_score is 0.827\n",
      "HSS is 0.6363\n",
      "ETS is 0.4666\n",
      "CSI is 0.4797\n",
      "sedi is 0.8416\n",
      "CPU times: user 14min 23s, sys: 18.9 s, total: 14min 42s\n",
      "Wall time: 1min 43s\n"
     ]
    },
    {
     "data": {
      "image/png": "[encoded data removed]",
      "text/plain": [
       "<Figure size 800x550 with 2 Axes>"
      ]
     },
     "metadata": {},
     "output_type": "display_data"
    }
   ],
   "source": [
    "%%time\n",
    "#classificator \n",
    "catbc = CatBoostClassifier(verbose=0) \n",
    "catbc.fit(X_train, y_train)\n",
    "catbc_pred = catbc.predict(X_test)\n",
    "\n",
    "# get scores\n",
    "catbc_res = scorer(y_test, catbc_pred)"
   ]
  },
  {
   "cell_type": "code",
   "execution_count": 2,
   "id": "554e91d4",
   "metadata": {},
   "outputs": [
    {
     "name": "stdout",
     "output_type": "stream",
     "text": [
      "Accuracy is 0.999\n",
      "f1_score is 0.1721\n",
      "precision_score is 0.2015\n",
      "recall_score is 0.1503\n",
      "roc_auc_score is 0.6004\n",
      "HSS is 0.1716\n",
      "ETS is 0.0939\n",
      "CSI is 0.0942\n",
      "sedi is 0.6135\n"
     ]
    },
    {
     "data": {
      "image/png": "[encoded data removed]",
      "text/plain": [
       "<Figure size 640x480 with 2 Axes>"
      ]
     },
     "metadata": {},
     "output_type": "display_data"
    }
   ],
   "source": [
    "stack = np.load(Paths.interim + f'stack_{station_number}.npy')\n",
    "stack = np.delete(stack, (1,2), 0)\n",
    "phen = stack[0:1155,:,:,12]\n",
    "phen[phen != 26] = 0\n",
    "phen[phen == 26] = 1\n",
    "Y_res = scorer(stack[0:1155,:,:,-1].flatten(), phen.flatten())"
   ]
  },
  {
   "cell_type": "code",
   "execution_count": 14,
   "id": "906a4705",
   "metadata": {},
   "outputs": [
    {
     "data": {
      "text/html": [
       "<div>\n",
       "<style scoped>\n",
       "    .dataframe tbody tr th:only-of-type {\n",
       "        vertical-align: middle;\n",
       "    }\n",
       "\n",
       "    .dataframe tbody tr th {\n",
       "        vertical-align: top;\n",
       "    }\n",
       "\n",
       "    .dataframe thead th {\n",
       "        text-align: right;\n",
       "    }\n",
       "</style>\n",
       "<table border=\"1\" class=\"dataframe\">\n",
       "  <thead>\n",
       "    <tr style=\"text-align: right;\">\n",
       "      <th>metrics</th>\n",
       "      <th>acc</th>\n",
       "      <th>f1</th>\n",
       "      <th>pre</th>\n",
       "      <th>rec</th>\n",
       "      <th>roc_auc</th>\n",
       "      <th>hss</th>\n",
       "      <th>ets</th>\n",
       "      <th>csi</th>\n",
       "      <th>sedi</th>\n",
       "    </tr>\n",
       "  </thead>\n",
       "  <tbody>\n",
       "    <tr>\n",
       "      <th>Y_param</th>\n",
       "      <td>0.999308</td>\n",
       "      <td>0.136207</td>\n",
       "      <td>0.160910</td>\n",
       "      <td>0.118080</td>\n",
       "      <td>0.580251</td>\n",
       "      <td>0.135869</td>\n",
       "      <td>0.072886</td>\n",
       "      <td>0.073081</td>\n",
       "      <td>0.590143</td>\n",
       "    </tr>\n",
       "    <tr>\n",
       "      <th>SGDClassifier</th>\n",
       "      <td>0.976412</td>\n",
       "      <td>0.620768</td>\n",
       "      <td>0.596602</td>\n",
       "      <td>0.646973</td>\n",
       "      <td>0.792858</td>\n",
       "      <td>0.608616</td>\n",
       "      <td>0.437418</td>\n",
       "      <td>0.450082</td>\n",
       "      <td>0.845137</td>\n",
       "    </tr>\n",
       "    <tr>\n",
       "      <th>KNeighborsClassifier</th>\n",
       "      <td>0.976135</td>\n",
       "      <td>0.653857</td>\n",
       "      <td>0.696557</td>\n",
       "      <td>0.616089</td>\n",
       "      <td>0.841021</td>\n",
       "      <td>0.641546</td>\n",
       "      <td>0.472262</td>\n",
       "      <td>0.485726</td>\n",
       "      <td>0.836171</td>\n",
       "    </tr>\n",
       "    <tr>\n",
       "      <th>CatBoostClassifier</th>\n",
       "      <td>0.978000</td>\n",
       "      <td>0.668328</td>\n",
       "      <td>0.684997</td>\n",
       "      <td>0.652452</td>\n",
       "      <td>0.836398</td>\n",
       "      <td>0.656958</td>\n",
       "      <td>0.489157</td>\n",
       "      <td>0.501872</td>\n",
       "      <td>0.855234</td>\n",
       "    </tr>\n",
       "    <tr>\n",
       "      <th>RandomForestClassifier</th>\n",
       "      <td>0.980525</td>\n",
       "      <td>0.684142</td>\n",
       "      <td>0.651785</td>\n",
       "      <td>0.719879</td>\n",
       "      <td>0.821652</td>\n",
       "      <td>0.674120</td>\n",
       "      <td>0.508432</td>\n",
       "      <td>0.519921</td>\n",
       "      <td>0.887839</td>\n",
       "    </tr>\n",
       "  </tbody>\n",
       "</table>\n",
       "</div>"
      ],
      "text/plain": [
       "metrics                      acc        f1       pre       rec   roc_auc  \\\n",
       "Y_param                 0.999308  0.136207  0.160910  0.118080  0.580251   \n",
       "SGDClassifier           0.976412  0.620768  0.596602  0.646973  0.792858   \n",
       "KNeighborsClassifier    0.976135  0.653857  0.696557  0.616089  0.841021   \n",
       "CatBoostClassifier      0.978000  0.668328  0.684997  0.652452  0.836398   \n",
       "RandomForestClassifier  0.980525  0.684142  0.651785  0.719879  0.821652   \n",
       "\n",
       "metrics                      hss       ets       csi      sedi  \n",
       "Y_param                 0.135869  0.072886  0.073081  0.590143  \n",
       "SGDClassifier           0.608616  0.437418  0.450082  0.845137  \n",
       "KNeighborsClassifier    0.641546  0.472262  0.485726  0.836171  \n",
       "CatBoostClassifier      0.656958  0.489157  0.501872  0.855234  \n",
       "RandomForestClassifier  0.674120  0.508432  0.519921  0.887839  "
      ]
     },
     "execution_count": 14,
     "metadata": {},
     "output_type": "execute_result"
    }
   ],
   "source": [
    "metrics = pd.Series(['acc', 'f1', 'pre', 'rec', 'roc_auc', 'hss', 'ets', 'csi', 'sedi'])\n",
    "df = pd.concat([Y_res, sgd_res, knn_res, catbc_res, rf_res, metrics],\n",
    "               axis=1,\n",
    "               keys=['Y_param', \"SGDClassifier\", 'KNeighborsClassifier', 'CatBoostClassifier','RandomForestClassifier', 'metrics']).set_index('metrics')\n",
    "df.T"
   ]
  },
  {
   "cell_type": "code",
   "execution_count": null,
   "id": "7f09e3a1",
   "metadata": {},
   "outputs": [
    {
     "data": {
      "text/html": [
       "<div>\n",
       "<style scoped>\n",
       "    .dataframe tbody tr th:only-of-type {\n",
       "        vertical-align: middle;\n",
       "    }\n",
       "\n",
       "    .dataframe tbody tr th {\n",
       "        vertical-align: top;\n",
       "    }\n",
       "\n",
       "    .dataframe thead th {\n",
       "        text-align: right;\n",
       "    }\n",
       "</style>\n",
       "<table border=\"1\" class=\"dataframe\">\n",
       "  <thead>\n",
       "    <tr style=\"text-align: right;\">\n",
       "      <th>metrics</th>\n",
       "      <th>acc</th>\n",
       "      <th>f1</th>\n",
       "      <th>pre</th>\n",
       "      <th>rec</th>\n",
       "      <th>roc_auc</th>\n",
       "      <th>hss</th>\n",
       "      <th>ets</th>\n",
       "      <th>csi</th>\n",
       "      <th>sedi</th>\n",
       "    </tr>\n",
       "  </thead>\n",
       "  <tbody>\n",
       "    <tr>\n",
       "      <th>Y_param</th>\n",
       "      <td>0.999308</td>\n",
       "      <td>0.136207</td>\n",
       "      <td>0.160910</td>\n",
       "      <td>0.118080</td>\n",
       "      <td>0.580251</td>\n",
       "      <td>0.135869</td>\n",
       "      <td>0.072886</td>\n",
       "      <td>0.073081</td>\n",
       "      <td>0.590143</td>\n",
       "    </tr>\n",
       "    <tr>\n",
       "      <th>SGDClassifier</th>\n",
       "      <td>0.974953</td>\n",
       "      <td>0.627989</td>\n",
       "      <td>0.653318</td>\n",
       "      <td>0.604551</td>\n",
       "      <td>0.819514</td>\n",
       "      <td>0.615050</td>\n",
       "      <td>0.444095</td>\n",
       "      <td>0.457714</td>\n",
       "      <td>0.825357</td>\n",
       "    </tr>\n",
       "    <tr>\n",
       "      <th>KNeighborsClassifier</th>\n",
       "      <td>0.975759</td>\n",
       "      <td>0.645339</td>\n",
       "      <td>0.681548</td>\n",
       "      <td>0.612783</td>\n",
       "      <td>0.833573</td>\n",
       "      <td>0.632826</td>\n",
       "      <td>0.462872</td>\n",
       "      <td>0.476384</td>\n",
       "      <td>0.832828</td>\n",
       "    </tr>\n",
       "    <tr>\n",
       "      <th>CatBoostClassifier</th>\n",
       "      <td>0.977371</td>\n",
       "      <td>0.658367</td>\n",
       "      <td>0.673820</td>\n",
       "      <td>0.643607</td>\n",
       "      <td>0.830671</td>\n",
       "      <td>0.646671</td>\n",
       "      <td>0.477838</td>\n",
       "      <td>0.490720</td>\n",
       "      <td>0.849451</td>\n",
       "    </tr>\n",
       "    <tr>\n",
       "      <th>RandomForestClassifier</th>\n",
       "      <td>0.979362</td>\n",
       "      <td>0.672461</td>\n",
       "      <td>0.654723</td>\n",
       "      <td>0.691187</td>\n",
       "      <td>0.822470</td>\n",
       "      <td>0.661815</td>\n",
       "      <td>0.494561</td>\n",
       "      <td>0.506547</td>\n",
       "      <td>0.873424</td>\n",
       "    </tr>\n",
       "  </tbody>\n",
       "</table>\n",
       "</div>"
      ],
      "text/plain": [
       "metrics                      acc        f1       pre       rec   roc_auc  \\\n",
       "Y_param                 0.999308  0.136207  0.160910  0.118080  0.580251   \n",
       "SGDClassifier           0.974953  0.627989  0.653318  0.604551  0.819514   \n",
       "KNeighborsClassifier    0.975759  0.645339  0.681548  0.612783  0.833573   \n",
       "CatBoostClassifier      0.977371  0.658367  0.673820  0.643607  0.830671   \n",
       "RandomForestClassifier  0.979362  0.672461  0.654723  0.691187  0.822470   \n",
       "\n",
       "metrics                      hss       ets       csi      sedi  \n",
       "Y_param                 0.135869  0.072886  0.073081  0.590143  \n",
       "SGDClassifier           0.615050  0.444095  0.457714  0.825357  \n",
       "KNeighborsClassifier    0.632826  0.462872  0.476384  0.832828  \n",
       "CatBoostClassifier      0.646671  0.477838  0.490720  0.849451  \n",
       "RandomForestClassifier  0.661815  0.494561  0.506547  0.873424  "
      ]
     },
     "metadata": {},
     "output_type": "display_data"
    }
   ],
   "source": [
    "metrics = pd.Series(['acc', 'f1', 'pre', 'rec', 'roc_auc', 'hss', 'ets', 'csi', 'sedi'])\n",
    "df = pd.concat([Y_res, sgd_res, knn_res, catbc_res, rf_res, metrics],\n",
    "               axis=1,\n",
    "               keys=['Y_param', \"SGDClassifier\", 'KNeighborsClassifier', 'CatBoostClassifier','RandomForestClassifier', 'metrics']).set_index('metrics')\n",
    "df.T"
   ]
  }
 ],
 "metadata": {
  "kernelspec": {
   "display_name": "Python 3 (ipykernel)",
   "language": "python",
   "name": "python3"
  },
  "language_info": {
   "codemirror_mode": {
    "name": "ipython",
    "version": 3
   },
   "file_extension": ".py",
   "mimetype": "text/x-python",
   "name": "python",
   "nbconvert_exporter": "python",
   "pygments_lexer": "ipython3",
   "version": "3.9.16"
  },
  "toc": {
   "base_numbering": 1,
   "nav_menu": {},
   "number_sections": true,
   "sideBar": true,
   "skip_h1_title": false,
   "title_cell": "Table of Contents",
   "title_sidebar": "Contents",
   "toc_cell": false,
   "toc_position": {
    "height": "calc(100% - 180px)",
    "left": "10px",
    "top": "150px",
    "width": "369.188px"
   },
   "toc_section_display": true,
   "toc_window_display": false
  },
  "varInspector": {
   "cols": {
    "lenName": 16,
    "lenType": 16,
    "lenVar": 40
   },
   "kernels_config": {
    "python": {
     "delete_cmd_postfix": "",
     "delete_cmd_prefix": "del ",
     "library": "var_list.py",
     "varRefreshCmd": "print(var_dic_list())"
    },
    "r": {
     "delete_cmd_postfix": ") ",
     "delete_cmd_prefix": "rm(",
     "library": "var_list.r",
     "varRefreshCmd": "cat(var_dic_list()) "
    }
   },
   "position": {
    "height": "234.844px",
    "left": "479px",
    "right": "20px",
    "top": "120px",
    "width": "424px"
   },
   "types_to_exclude": [
    "module",
    "function",
    "builtin_function_or_method",
    "instance",
    "_Feature"
   ],
   "window_display": false
  }
 },
 "nbformat": 4,
 "nbformat_minor": 5
}
