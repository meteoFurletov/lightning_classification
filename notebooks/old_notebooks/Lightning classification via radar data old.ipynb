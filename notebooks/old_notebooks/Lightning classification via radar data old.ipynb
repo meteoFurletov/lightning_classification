{
 "cells": [
  {
   "cell_type": "markdown",
   "id": "25eeeac4",
   "metadata": {},
   "source": [
    "## Data Processing"
   ]
  },
  {
   "cell_type": "code",
   "execution_count": 1,
   "id": "f5c0ecf4",
   "metadata": {
    "ExecuteTime": {
     "end_time": "2023-03-10T07:19:56.804072Z",
     "start_time": "2023-03-10T07:19:54.619803Z"
    }
   },
   "outputs": [],
   "source": [
    "from DWR_preprocess import *\n",
    "\n",
    "station_number = 26850\n",
    "year_regex = '2021'"
   ]
  },
  {
   "cell_type": "code",
   "execution_count": 2,
   "id": "4c8f0e68",
   "metadata": {
    "ExecuteTime": {
     "end_time": "2023-03-09T14:10:24.879699Z",
     "start_time": "2023-03-09T14:10:17.123654Z"
    },
    "scrolled": false
   },
   "outputs": [
    {
     "name": "stdout",
     "output_type": "stream",
     "text": [
      "Latitude is 53.86583, Longitude is 28.04028\n",
      "Blitzortung data is already converted\n",
      "Array shape is: (3284, 200, 200)\n"
     ]
    }
   ],
   "source": [
    "blitzortung_array = blitzortung_preprocessing(station_number, matrix_shape=200, year_regex=year_regex)"
   ]
  },
  {
   "cell_type": "code",
   "execution_count": 4,
   "id": "4d2db337",
   "metadata": {
    "ExecuteTime": {
     "end_time": "2023-03-09T14:11:39.269222Z",
     "start_time": "2023-03-09T14:10:27.986174Z"
    },
    "scrolled": true
   },
   "outputs": [
    {
     "name": "stdout",
     "output_type": "stream",
     "text": [
      "N of matched files is 3284\n",
      "N of non-lightning cases: 500\n",
      "Converting phen\n"
     ]
    },
    {
     "name": "stderr",
     "output_type": "stream",
     "text": [
      "100%|██████████| 3758/3758 [01:20<00:00, 46.60it/s] \n"
     ]
    },
    {
     "name": "stdout",
     "output_type": "stream",
     "text": [
      "echo_top data is already converted\n",
      "reflectivity data is already converted\n",
      "prop data is already converted\n",
      "Converting to numpy\n"
     ]
    },
    {
     "name": "stderr",
     "output_type": "stream",
     "text": [
      "100%|██████████| 3758/3758 [00:00<00:00, 5426.60it/s]\n",
      "100%|██████████| 3758/3758 [00:00<00:00, 5221.58it/s]\n",
      "100%|██████████| 3758/3758 [00:02<00:00, 1336.07it/s]\n",
      "100%|██████████| 3758/3758 [00:01<00:00, 2147.32it/s]\n"
     ]
    },
    {
     "name": "stdout",
     "output_type": "stream",
     "text": [
      "Shape of radar array: (3758, 200, 200, 19)\n"
     ]
    }
   ],
   "source": [
    "radar_array = radar_preprocessing(station_number, 500, year_regex=year_regex)"
   ]
  },
  {
   "cell_type": "code",
   "execution_count": 5,
   "id": "4d7d0041",
   "metadata": {
    "ExecuteTime": {
     "end_time": "2023-03-09T14:12:31.633929Z",
     "start_time": "2023-03-09T14:11:43.192280Z"
    },
    "scrolled": false
   },
   "outputs": [
    {
     "name": "stdout",
     "output_type": "stream",
     "text": [
      "All data converted and saved!\n"
     ]
    }
   ],
   "source": [
    "stack = concatenate_data(radar_array, blitzortung_array, station_number, year_regex=year_regex)"
   ]
  },
  {
   "cell_type": "code",
   "execution_count": 6,
   "id": "039f985a",
   "metadata": {},
   "outputs": [
    {
     "data": {
      "text/plain": [
       "(3758, 200, 200, 20)"
      ]
     },
     "execution_count": 6,
     "metadata": {},
     "output_type": "execute_result"
    }
   ],
   "source": [
    "stack.shape"
   ]
  },
  {
   "cell_type": "markdown",
   "id": "dc78a59d",
   "metadata": {},
   "source": [
    "## Sliding Window "
   ]
  },
  {
   "cell_type": "code",
   "execution_count": 6,
   "id": "7bd00300",
   "metadata": {
    "ExecuteTime": {
     "end_time": "2023-03-10T10:50:58.382176Z",
     "start_time": "2023-03-10T10:50:56.615703Z"
    }
   },
   "outputs": [],
   "source": [
    "import numpy as np\n",
    "from DWR_preprocess import *\n",
    "import warnings\n",
    "warnings.filterwarnings(\"ignore\")\n",
    "\n",
    "station_number = 26061\n",
    "window = 5"
   ]
  },
  {
   "cell_type": "code",
   "execution_count": 2,
   "id": "e04a4923",
   "metadata": {
    "ExecuteTime": {
     "end_time": "2023-03-10T10:51:08.808093Z",
     "start_time": "2023-03-10T10:50:58.467603Z"
    },
    "scrolled": true
   },
   "outputs": [
    {
     "data": {
      "text/plain": [
       "(6685, 200, 200, 19)"
      ]
     },
     "execution_count": 2,
     "metadata": {},
     "output_type": "execute_result"
    }
   ],
   "source": [
    "stack = np.load(Paths.interim + f'stack_{station_number}.npy')\n",
    "stack.shape"
   ]
  },
  {
   "cell_type": "code",
   "execution_count": 3,
   "id": "5f077279",
   "metadata": {
    "scrolled": true
   },
   "outputs": [
    {
     "data": {
      "text/plain": [
       "{1, 5, 7, 35, 191, 955, 1337, 6685}"
      ]
     },
     "execution_count": 3,
     "metadata": {},
     "output_type": "execute_result"
    }
   ],
   "source": [
    "factors(stack.shape[0])\n",
    "#stack = np.delete(stack, (np.arange(amount_to_delete)), 0)"
   ]
  },
  {
   "cell_type": "code",
   "execution_count": 4,
   "id": "ee222f04",
   "metadata": {
    "ExecuteTime": {
     "end_time": "2023-03-10T10:51:09.049480Z",
     "start_time": "2023-03-10T10:51:09.043840Z"
    }
   },
   "outputs": [
    {
     "name": "stdout",
     "output_type": "stream",
     "text": [
      "target is already computed\n",
      "delta is already computed\n"
     ]
    }
   ],
   "source": [
    "precomputing(stack, station_number, window, distribution=np.random.uniform, value=0.03)"
   ]
  },
  {
   "cell_type": "code",
   "execution_count": 5,
   "id": "db1a34f9",
   "metadata": {
    "ExecuteTime": {
     "end_time": "2023-03-10T11:16:22.393336Z",
     "start_time": "2023-03-10T10:51:09.253796Z"
    },
    "scrolled": false
   },
   "outputs": [
    {
     "name": "stdout",
     "output_type": "stream",
     "text": [
      "Iteration: 0\n",
      "Iteration data is \n",
      " dask.array<reshape, shape=(51362192, 5, 5, 19), dtype=int32, chunksize=(1152480, 5, 5, 19), chunktype=numpy.ndarray>\n",
      "TF: false-(51334770,), true-(27422,)\n"
     ]
    },
    {
     "data": {
      "application/vnd.jupyter.widget-view+json": {
       "model_id": "e2986a89978e4529a5636943bf15ba0d",
       "version_major": 2,
       "version_minor": 0
      },
      "text/plain": [
       "  0%|          | 0/48 [00:00<?, ?it/s]"
      ]
     },
     "metadata": {},
     "output_type": "display_data"
    },
    {
     "name": "stdout",
     "output_type": "stream",
     "text": [
      "Remaining percent  = 3.0\n"
     ]
    },
    {
     "data": {
      "application/vnd.jupyter.widget-view+json": {
       "model_id": "dffaccef5f164d1b9d9846eb11a39142",
       "version_major": 2,
       "version_minor": 0
      },
      "text/plain": [
       "  0%|          | 0/48 [00:00<?, ?it/s]"
      ]
     },
     "metadata": {},
     "output_type": "display_data"
    },
    {
     "data": {
      "application/vnd.jupyter.widget-view+json": {
       "model_id": "cc3204b410eb45aaa7b3c5a962706846",
       "version_major": 2,
       "version_minor": 0
      },
      "text/plain": [
       "  0%|          | 0/37 [00:00<?, ?it/s]"
      ]
     },
     "metadata": {},
     "output_type": "display_data"
    },
    {
     "name": "stdout",
     "output_type": "stream",
     "text": [
      "TF processed \n",
      " : false-(493909,), true-(26389,)\n",
      "Iteration result is \n",
      " dask.array<concatenate, shape=(520298, 5, 5, 19), dtype=int32, chunksize=(21156, 5, 5, 19), chunktype=numpy.ndarray>\n"
     ]
    },
    {
     "data": {
      "application/vnd.jupyter.widget-view+json": {
       "model_id": "4b0b9b26d55447e0a1568f05acc88b14",
       "version_major": 2,
       "version_minor": 0
      },
      "text/plain": [
       "  0%|          | 0/84 [00:00<?, ?it/s]"
      ]
     },
     "metadata": {},
     "output_type": "display_data"
    },
    {
     "name": "stdout",
     "output_type": "stream",
     "text": [
      "Iteration: 1\n",
      "Iteration data is \n",
      " dask.array<reshape, shape=(51362192, 5, 5, 19), dtype=int32, chunksize=(1152480, 5, 5, 19), chunktype=numpy.ndarray>\n",
      "TF: false-(51352035,), true-(10157,)\n"
     ]
    },
    {
     "data": {
      "application/vnd.jupyter.widget-view+json": {
       "model_id": "fbcbdcb7f1304c5d9416b87afe803d9b",
       "version_major": 2,
       "version_minor": 0
      },
      "text/plain": [
       "  0%|          | 0/48 [00:00<?, ?it/s]"
      ]
     },
     "metadata": {},
     "output_type": "display_data"
    },
    {
     "name": "stdout",
     "output_type": "stream",
     "text": [
      "Remaining percent  = 3.0\n"
     ]
    },
    {
     "data": {
      "application/vnd.jupyter.widget-view+json": {
       "model_id": "b74cbd916b154df48e0715a9f0de214e",
       "version_major": 2,
       "version_minor": 0
      },
      "text/plain": [
       "  0%|          | 0/48 [00:00<?, ?it/s]"
      ]
     },
     "metadata": {},
     "output_type": "display_data"
    },
    {
     "data": {
      "application/vnd.jupyter.widget-view+json": {
       "model_id": "c92564f6ae33451e8c63d58361180823",
       "version_major": 2,
       "version_minor": 0
      },
      "text/plain": [
       "  0%|          | 0/41 [00:00<?, ?it/s]"
      ]
     },
     "metadata": {},
     "output_type": "display_data"
    },
    {
     "name": "stdout",
     "output_type": "stream",
     "text": [
      "TF processed \n",
      " : false-(436683,), true-(9442,)\n",
      "Iteration result is \n",
      " dask.array<concatenate, shape=(446125, 5, 5, 19), dtype=int32, chunksize=(21132, 5, 5, 19), chunktype=numpy.ndarray>\n"
     ]
    },
    {
     "data": {
      "application/vnd.jupyter.widget-view+json": {
       "model_id": "62cf9e19ec644bffa515f9728bfa0607",
       "version_major": 2,
       "version_minor": 0
      },
      "text/plain": [
       "  0%|          | 0/89 [00:00<?, ?it/s]"
      ]
     },
     "metadata": {},
     "output_type": "display_data"
    },
    {
     "name": "stdout",
     "output_type": "stream",
     "text": [
      "Iteration: 2\n",
      "Iteration data is \n",
      " dask.array<reshape, shape=(51362192, 5, 5, 19), dtype=int32, chunksize=(1152480, 5, 5, 19), chunktype=numpy.ndarray>\n",
      "TF: false-(51348734,), true-(13458,)\n"
     ]
    },
    {
     "data": {
      "application/vnd.jupyter.widget-view+json": {
       "model_id": "3c3241ccfc43414aae6ac3615928bf7e",
       "version_major": 2,
       "version_minor": 0
      },
      "text/plain": [
       "  0%|          | 0/48 [00:00<?, ?it/s]"
      ]
     },
     "metadata": {},
     "output_type": "display_data"
    },
    {
     "name": "stdout",
     "output_type": "stream",
     "text": [
      "Remaining percent  = 3.0\n"
     ]
    },
    {
     "data": {
      "application/vnd.jupyter.widget-view+json": {
       "model_id": "665d32b1c36c4c958b560d87ecea639e",
       "version_major": 2,
       "version_minor": 0
      },
      "text/plain": [
       "  0%|          | 0/48 [00:00<?, ?it/s]"
      ]
     },
     "metadata": {},
     "output_type": "display_data"
    },
    {
     "data": {
      "application/vnd.jupyter.widget-view+json": {
       "model_id": "bf01371235db4f1d8c846d07922aeec3",
       "version_major": 2,
       "version_minor": 0
      },
      "text/plain": [
       "  0%|          | 0/37 [00:00<?, ?it/s]"
      ]
     },
     "metadata": {},
     "output_type": "display_data"
    },
    {
     "name": "stdout",
     "output_type": "stream",
     "text": [
      "TF processed \n",
      " : false-(569975,), true-(12786,)\n",
      "Iteration result is \n",
      " dask.array<concatenate, shape=(582761, 5, 5, 19), dtype=int32, chunksize=(19631, 5, 5, 19), chunktype=numpy.ndarray>\n"
     ]
    },
    {
     "data": {
      "application/vnd.jupyter.widget-view+json": {
       "model_id": "4db64709704b4b6dbdedf976b0d7fccd",
       "version_major": 2,
       "version_minor": 0
      },
      "text/plain": [
       "  0%|          | 0/85 [00:00<?, ?it/s]"
      ]
     },
     "metadata": {},
     "output_type": "display_data"
    },
    {
     "name": "stdout",
     "output_type": "stream",
     "text": [
      "Iteration: 3\n",
      "Iteration data is \n",
      " dask.array<reshape, shape=(51362192, 5, 5, 19), dtype=int32, chunksize=(1152480, 5, 5, 19), chunktype=numpy.ndarray>\n",
      "TF: false-(51352205,), true-(9987,)\n"
     ]
    },
    {
     "data": {
      "application/vnd.jupyter.widget-view+json": {
       "model_id": "04230c9e32c44b19b06da8eef761a847",
       "version_major": 2,
       "version_minor": 0
      },
      "text/plain": [
       "  0%|          | 0/48 [00:00<?, ?it/s]"
      ]
     },
     "metadata": {},
     "output_type": "display_data"
    },
    {
     "name": "stdout",
     "output_type": "stream",
     "text": [
      "Remaining percent  = 3.0\n"
     ]
    },
    {
     "data": {
      "application/vnd.jupyter.widget-view+json": {
       "model_id": "3217e4988940496c8c934428bc6cf888",
       "version_major": 2,
       "version_minor": 0
      },
      "text/plain": [
       "  0%|          | 0/48 [00:00<?, ?it/s]"
      ]
     },
     "metadata": {},
     "output_type": "display_data"
    },
    {
     "data": {
      "application/vnd.jupyter.widget-view+json": {
       "model_id": "00177593700b4de390ddb5a423d78b2f",
       "version_major": 2,
       "version_minor": 0
      },
      "text/plain": [
       "  0%|          | 0/46 [00:00<?, ?it/s]"
      ]
     },
     "metadata": {},
     "output_type": "display_data"
    },
    {
     "name": "stdout",
     "output_type": "stream",
     "text": [
      "TF processed \n",
      " : false-(325336,), true-(9172,)\n",
      "Iteration result is \n",
      " dask.array<concatenate, shape=(334508, 5, 5, 19), dtype=int32, chunksize=(20490, 5, 5, 19), chunktype=numpy.ndarray>\n"
     ]
    },
    {
     "data": {
      "application/vnd.jupyter.widget-view+json": {
       "model_id": "6650ad5c94594558b902298087f6cbd2",
       "version_major": 2,
       "version_minor": 0
      },
      "text/plain": [
       "  0%|          | 0/94 [00:00<?, ?it/s]"
      ]
     },
     "metadata": {},
     "output_type": "display_data"
    },
    {
     "name": "stdout",
     "output_type": "stream",
     "text": [
      "Iteration: 4\n",
      "Iteration data is \n",
      " dask.array<reshape, shape=(51362192, 5, 5, 19), dtype=int32, chunksize=(1152480, 5, 5, 19), chunktype=numpy.ndarray>\n",
      "TF: false-(51354022,), true-(8170,)\n"
     ]
    },
    {
     "data": {
      "application/vnd.jupyter.widget-view+json": {
       "model_id": "648580a38aab4c849d6e13e234b3cf4f",
       "version_major": 2,
       "version_minor": 0
      },
      "text/plain": [
       "  0%|          | 0/48 [00:00<?, ?it/s]"
      ]
     },
     "metadata": {},
     "output_type": "display_data"
    },
    {
     "name": "stdout",
     "output_type": "stream",
     "text": [
      "Remaining percent  = 3.0\n"
     ]
    },
    {
     "data": {
      "application/vnd.jupyter.widget-view+json": {
       "model_id": "642c2b90655940659a5bcc8758ac577c",
       "version_major": 2,
       "version_minor": 0
      },
      "text/plain": [
       "  0%|          | 0/48 [00:00<?, ?it/s]"
      ]
     },
     "metadata": {},
     "output_type": "display_data"
    },
    {
     "data": {
      "application/vnd.jupyter.widget-view+json": {
       "model_id": "a3d8c584d24342229a91fb6d66c14582",
       "version_major": 2,
       "version_minor": 0
      },
      "text/plain": [
       "  0%|          | 0/38 [00:00<?, ?it/s]"
      ]
     },
     "metadata": {},
     "output_type": "display_data"
    },
    {
     "name": "stdout",
     "output_type": "stream",
     "text": [
      "TF processed \n",
      " : false-(517190,), true-(7510,)\n",
      "Iteration result is \n",
      " dask.array<concatenate, shape=(524700, 5, 5, 19), dtype=int32, chunksize=(20063, 5, 5, 19), chunktype=numpy.ndarray>\n"
     ]
    },
    {
     "data": {
      "application/vnd.jupyter.widget-view+json": {
       "model_id": "026fac54c7484315a525a393c4517fed",
       "version_major": 2,
       "version_minor": 0
      },
      "text/plain": [
       "  0%|          | 0/86 [00:00<?, ?it/s]"
      ]
     },
     "metadata": {},
     "output_type": "display_data"
    },
    {
     "name": "stdout",
     "output_type": "stream",
     "text": [
      "CPU times: user 18min 7s, sys: 24min 49s, total: 42min 57s\n",
      "Wall time: 26min 20s\n"
     ]
    }
   ],
   "source": [
    "%%time\n",
    "window_data_filter(stack, split_value=1337, window=5, station_number=26061)"
   ]
  },
  {
   "cell_type": "code",
   "execution_count": 8,
   "id": "ae497ccf",
   "metadata": {},
   "outputs": [],
   "source": [
    "target_np = np.load(Paths.interim + f'target_{station_number}.npy')"
   ]
  },
  {
   "cell_type": "code",
   "execution_count": 11,
   "id": "e6fcf1e4",
   "metadata": {},
   "outputs": [
    {
     "data": {
      "text/plain": [
       "(array([ 0,  1,  2,  3,  4,  5,  6,  7,  8,  9, 10, 11, 12, 13, 14, 15, 16,\n",
       "        20], dtype=int32),\n",
       " array([256728022,     69194,      9481,      2655,       858,       394,\n",
       "              168,        78,        41,        22,        18,        13,\n",
       "                5,         4,         1,         3,         1,         2]))"
      ]
     },
     "execution_count": 11,
     "metadata": {},
     "output_type": "execute_result"
    }
   ],
   "source": [
    "np.unique(target_np, return_counts=True)"
   ]
  },
  {
   "cell_type": "markdown",
   "id": "b9492fc1",
   "metadata": {},
   "source": [
    "## Machine Learning preprocessing"
   ]
  },
  {
   "cell_type": "code",
   "execution_count": 1,
   "id": "d27b121b",
   "metadata": {},
   "outputs": [],
   "source": [
    "from DWR_preprocess import *\n",
    "\n",
    "window_shape = 5\n",
    "station_number = 26061"
   ]
  },
  {
   "cell_type": "code",
   "execution_count": 2,
   "id": "203132b4",
   "metadata": {
    "ExecuteTime": {
     "end_time": "2023-03-10T14:21:06.587012Z",
     "start_time": "2023-03-10T14:19:32.120547Z"
    },
    "scrolled": true
   },
   "outputs": [
    {
     "name": "stderr",
     "output_type": "stream",
     "text": [
      "100%|██████████| 438/438 [00:03<00:00, 114.51it/s]\n",
      "/home/meteofurletov/ipynb/iram/lightning_classification/notebooks/DWR_preprocess.py:1192: RuntimeWarning: invalid value encountered in log\n",
      "  log_list.append(np.log(df[f'Zmax_layer_{level_y[i]}'][i]))\n",
      "/home/meteofurletov/ipynb/iram/lightning_classification/notebooks/DWR_preprocess.py:1192: RuntimeWarning: divide by zero encountered in log\n",
      "  log_list.append(np.log(df[f'Zmax_layer_{level_y[i]}'][i]))\n"
     ]
    }
   ],
   "source": [
    "df = from_windows_to_df(Paths.data + f'lightning_stack_{station_number}_classification', 5, station_number)"
   ]
  },
  {
   "cell_type": "code",
   "execution_count": null,
   "id": "de0a2f9e",
   "metadata": {},
   "outputs": [
    {
     "data": {
      "text/html": [
       "<div>\n",
       "<style scoped>\n",
       "    .dataframe tbody tr th:only-of-type {\n",
       "        vertical-align: middle;\n",
       "    }\n",
       "\n",
       "    .dataframe tbody tr th {\n",
       "        vertical-align: top;\n",
       "    }\n",
       "\n",
       "    .dataframe thead th {\n",
       "        text-align: right;\n",
       "    }\n",
       "</style>\n",
       "<table border=\"1\" class=\"dataframe\">\n",
       "  <thead>\n",
       "    <tr style=\"text-align: right;\">\n",
       "      <th></th>\n",
       "      <th>R(0,0,1)</th>\n",
       "      <th>R(0,0,2)</th>\n",
       "      <th>R(0,0,3)</th>\n",
       "      <th>R(0,0,4)</th>\n",
       "      <th>R(0,0,5)</th>\n",
       "      <th>R(0,0,6)</th>\n",
       "      <th>R(0,0,7)</th>\n",
       "      <th>R(0,0,8)</th>\n",
       "      <th>R(0,0,9)</th>\n",
       "      <th>R(0,0,10)</th>\n",
       "      <th>...</th>\n",
       "      <th>Zmax_layer_4</th>\n",
       "      <th>Zmax_layer_5</th>\n",
       "      <th>Zmax_layer_6</th>\n",
       "      <th>Zmax_layer_7</th>\n",
       "      <th>Zmax_layer_8</th>\n",
       "      <th>Zmax_layer_9</th>\n",
       "      <th>Zmax_layer_10</th>\n",
       "      <th>Zmax_layer_11</th>\n",
       "      <th>y_param</th>\n",
       "      <th>H_Zmax</th>\n",
       "    </tr>\n",
       "  </thead>\n",
       "  <tbody>\n",
       "    <tr>\n",
       "      <th>count</th>\n",
       "      <td>2.419752e+06</td>\n",
       "      <td>2.419752e+06</td>\n",
       "      <td>2.419752e+06</td>\n",
       "      <td>2.419752e+06</td>\n",
       "      <td>2.419752e+06</td>\n",
       "      <td>2.419752e+06</td>\n",
       "      <td>2.419752e+06</td>\n",
       "      <td>2.419752e+06</td>\n",
       "      <td>2.419752e+06</td>\n",
       "      <td>2.419752e+06</td>\n",
       "      <td>...</td>\n",
       "      <td>2.419752e+06</td>\n",
       "      <td>2.419752e+06</td>\n",
       "      <td>2.419752e+06</td>\n",
       "      <td>2.419752e+06</td>\n",
       "      <td>2.419752e+06</td>\n",
       "      <td>2.419752e+06</td>\n",
       "      <td>2.419752e+06</td>\n",
       "      <td>2.419752e+06</td>\n",
       "      <td>2.419752e+06</td>\n",
       "      <td>2.419752e+06</td>\n",
       "    </tr>\n",
       "    <tr>\n",
       "      <th>mean</th>\n",
       "      <td>-5.814771e+01</td>\n",
       "      <td>-4.514036e+01</td>\n",
       "      <td>-3.363161e+01</td>\n",
       "      <td>-2.773858e+01</td>\n",
       "      <td>-3.439420e+01</td>\n",
       "      <td>-4.950406e+01</td>\n",
       "      <td>-6.838375e+01</td>\n",
       "      <td>-8.197534e+01</td>\n",
       "      <td>-8.899375e+01</td>\n",
       "      <td>-9.280233e+01</td>\n",
       "      <td>...</td>\n",
       "      <td>3.839841e+00</td>\n",
       "      <td>-4.652320e+00</td>\n",
       "      <td>-2.259248e+01</td>\n",
       "      <td>-4.745566e+01</td>\n",
       "      <td>-6.932081e+01</td>\n",
       "      <td>-8.209938e+01</td>\n",
       "      <td>-8.858071e+01</td>\n",
       "      <td>-9.288958e+01</td>\n",
       "      <td>1.385457e+01</td>\n",
       "      <td>3.174157e+00</td>\n",
       "    </tr>\n",
       "    <tr>\n",
       "      <th>std</th>\n",
       "      <td>5.531203e+01</td>\n",
       "      <td>5.776784e+01</td>\n",
       "      <td>5.693946e+01</td>\n",
       "      <td>5.462584e+01</td>\n",
       "      <td>5.521353e+01</td>\n",
       "      <td>5.546910e+01</td>\n",
       "      <td>5.043180e+01</td>\n",
       "      <td>4.158829e+01</td>\n",
       "      <td>3.392862e+01</td>\n",
       "      <td>2.799605e+01</td>\n",
       "      <td>...</td>\n",
       "      <td>3.711904e+01</td>\n",
       "      <td>4.359484e+01</td>\n",
       "      <td>5.330158e+01</td>\n",
       "      <td>5.683953e+01</td>\n",
       "      <td>5.105161e+01</td>\n",
       "      <td>4.229855e+01</td>\n",
       "      <td>3.506563e+01</td>\n",
       "      <td>2.832025e+01</td>\n",
       "      <td>1.000266e+01</td>\n",
       "      <td>1.749675e+00</td>\n",
       "    </tr>\n",
       "    <tr>\n",
       "      <th>min</th>\n",
       "      <td>-1.000000e+02</td>\n",
       "      <td>-1.000000e+02</td>\n",
       "      <td>-1.000000e+02</td>\n",
       "      <td>-1.000000e+02</td>\n",
       "      <td>-1.000000e+02</td>\n",
       "      <td>-1.000000e+02</td>\n",
       "      <td>-1.000000e+02</td>\n",
       "      <td>-1.000000e+02</td>\n",
       "      <td>-1.000000e+02</td>\n",
       "      <td>-1.000000e+02</td>\n",
       "      <td>...</td>\n",
       "      <td>-1.000000e+02</td>\n",
       "      <td>-1.000000e+02</td>\n",
       "      <td>-1.000000e+02</td>\n",
       "      <td>-1.000000e+02</td>\n",
       "      <td>-1.000000e+02</td>\n",
       "      <td>-1.000000e+02</td>\n",
       "      <td>-1.000000e+02</td>\n",
       "      <td>-1.000000e+02</td>\n",
       "      <td>0.000000e+00</td>\n",
       "      <td>1.000000e+00</td>\n",
       "    </tr>\n",
       "    <tr>\n",
       "      <th>25%</th>\n",
       "      <td>-1.000000e+02</td>\n",
       "      <td>-1.000000e+02</td>\n",
       "      <td>-1.000000e+02</td>\n",
       "      <td>-1.000000e+02</td>\n",
       "      <td>-1.000000e+02</td>\n",
       "      <td>-1.000000e+02</td>\n",
       "      <td>-1.000000e+02</td>\n",
       "      <td>-1.000000e+02</td>\n",
       "      <td>-1.000000e+02</td>\n",
       "      <td>-1.000000e+02</td>\n",
       "      <td>...</td>\n",
       "      <td>8.000000e+00</td>\n",
       "      <td>4.000000e+00</td>\n",
       "      <td>-1.000000e+02</td>\n",
       "      <td>-1.000000e+02</td>\n",
       "      <td>-1.000000e+02</td>\n",
       "      <td>-1.000000e+02</td>\n",
       "      <td>-1.000000e+02</td>\n",
       "      <td>-1.000000e+02</td>\n",
       "      <td>8.000000e+00</td>\n",
       "      <td>2.000000e+00</td>\n",
       "    </tr>\n",
       "    <tr>\n",
       "      <th>50%</th>\n",
       "      <td>-1.000000e+02</td>\n",
       "      <td>-1.000000e+02</td>\n",
       "      <td>6.000000e+00</td>\n",
       "      <td>7.000000e+00</td>\n",
       "      <td>4.000000e+00</td>\n",
       "      <td>-1.000000e+02</td>\n",
       "      <td>-1.000000e+02</td>\n",
       "      <td>-1.000000e+02</td>\n",
       "      <td>-1.000000e+02</td>\n",
       "      <td>-1.000000e+02</td>\n",
       "      <td>...</td>\n",
       "      <td>1.300000e+01</td>\n",
       "      <td>1.100000e+01</td>\n",
       "      <td>7.000000e+00</td>\n",
       "      <td>-1.000000e+02</td>\n",
       "      <td>-1.000000e+02</td>\n",
       "      <td>-1.000000e+02</td>\n",
       "      <td>-1.000000e+02</td>\n",
       "      <td>-1.000000e+02</td>\n",
       "      <td>1.300000e+01</td>\n",
       "      <td>3.000000e+00</td>\n",
       "    </tr>\n",
       "    <tr>\n",
       "      <th>75%</th>\n",
       "      <td>1.000000e+01</td>\n",
       "      <td>1.300000e+01</td>\n",
       "      <td>1.500000e+01</td>\n",
       "      <td>1.400000e+01</td>\n",
       "      <td>1.100000e+01</td>\n",
       "      <td>8.000000e+00</td>\n",
       "      <td>2.000000e+00</td>\n",
       "      <td>-1.000000e+02</td>\n",
       "      <td>-1.000000e+02</td>\n",
       "      <td>-1.000000e+02</td>\n",
       "      <td>...</td>\n",
       "      <td>2.000000e+01</td>\n",
       "      <td>1.600000e+01</td>\n",
       "      <td>1.400000e+01</td>\n",
       "      <td>1.000000e+01</td>\n",
       "      <td>1.000000e+00</td>\n",
       "      <td>-1.000000e+02</td>\n",
       "      <td>-1.000000e+02</td>\n",
       "      <td>-1.000000e+02</td>\n",
       "      <td>1.800000e+01</td>\n",
       "      <td>4.000000e+00</td>\n",
       "    </tr>\n",
       "    <tr>\n",
       "      <th>max</th>\n",
       "      <td>6.100000e+01</td>\n",
       "      <td>6.200000e+01</td>\n",
       "      <td>5.900000e+01</td>\n",
       "      <td>5.800000e+01</td>\n",
       "      <td>6.000000e+01</td>\n",
       "      <td>5.900000e+01</td>\n",
       "      <td>5.900000e+01</td>\n",
       "      <td>5.800000e+01</td>\n",
       "      <td>5.600000e+01</td>\n",
       "      <td>5.500000e+01</td>\n",
       "      <td>...</td>\n",
       "      <td>6.000000e+01</td>\n",
       "      <td>6.000000e+01</td>\n",
       "      <td>5.900000e+01</td>\n",
       "      <td>6.400000e+01</td>\n",
       "      <td>6.400000e+01</td>\n",
       "      <td>5.800000e+01</td>\n",
       "      <td>5.600000e+01</td>\n",
       "      <td>5.500000e+01</td>\n",
       "      <td>6.400000e+01</td>\n",
       "      <td>1.100000e+01</td>\n",
       "    </tr>\n",
       "  </tbody>\n",
       "</table>\n",
       "<p>8 rows × 322 columns</p>\n",
       "</div>"
      ],
      "text/plain": [
       "           R(0,0,1)      R(0,0,2)      R(0,0,3)      R(0,0,4)      R(0,0,5)  \\\n",
       "count  2.419752e+06  2.419752e+06  2.419752e+06  2.419752e+06  2.419752e+06   \n",
       "mean  -5.814771e+01 -4.514036e+01 -3.363161e+01 -2.773858e+01 -3.439420e+01   \n",
       "std    5.531203e+01  5.776784e+01  5.693946e+01  5.462584e+01  5.521353e+01   \n",
       "min   -1.000000e+02 -1.000000e+02 -1.000000e+02 -1.000000e+02 -1.000000e+02   \n",
       "25%   -1.000000e+02 -1.000000e+02 -1.000000e+02 -1.000000e+02 -1.000000e+02   \n",
       "50%   -1.000000e+02 -1.000000e+02  6.000000e+00  7.000000e+00  4.000000e+00   \n",
       "75%    1.000000e+01  1.300000e+01  1.500000e+01  1.400000e+01  1.100000e+01   \n",
       "max    6.100000e+01  6.200000e+01  5.900000e+01  5.800000e+01  6.000000e+01   \n",
       "\n",
       "           R(0,0,6)      R(0,0,7)      R(0,0,8)      R(0,0,9)     R(0,0,10)  \\\n",
       "count  2.419752e+06  2.419752e+06  2.419752e+06  2.419752e+06  2.419752e+06   \n",
       "mean  -4.950406e+01 -6.838375e+01 -8.197534e+01 -8.899375e+01 -9.280233e+01   \n",
       "std    5.546910e+01  5.043180e+01  4.158829e+01  3.392862e+01  2.799605e+01   \n",
       "min   -1.000000e+02 -1.000000e+02 -1.000000e+02 -1.000000e+02 -1.000000e+02   \n",
       "25%   -1.000000e+02 -1.000000e+02 -1.000000e+02 -1.000000e+02 -1.000000e+02   \n",
       "50%   -1.000000e+02 -1.000000e+02 -1.000000e+02 -1.000000e+02 -1.000000e+02   \n",
       "75%    8.000000e+00  2.000000e+00 -1.000000e+02 -1.000000e+02 -1.000000e+02   \n",
       "max    5.900000e+01  5.900000e+01  5.800000e+01  5.600000e+01  5.500000e+01   \n",
       "\n",
       "       ...  Zmax_layer_4  Zmax_layer_5  Zmax_layer_6  Zmax_layer_7  \\\n",
       "count  ...  2.419752e+06  2.419752e+06  2.419752e+06  2.419752e+06   \n",
       "mean   ...  3.839841e+00 -4.652320e+00 -2.259248e+01 -4.745566e+01   \n",
       "std    ...  3.711904e+01  4.359484e+01  5.330158e+01  5.683953e+01   \n",
       "min    ... -1.000000e+02 -1.000000e+02 -1.000000e+02 -1.000000e+02   \n",
       "25%    ...  8.000000e+00  4.000000e+00 -1.000000e+02 -1.000000e+02   \n",
       "50%    ...  1.300000e+01  1.100000e+01  7.000000e+00 -1.000000e+02   \n",
       "75%    ...  2.000000e+01  1.600000e+01  1.400000e+01  1.000000e+01   \n",
       "max    ...  6.000000e+01  6.000000e+01  5.900000e+01  6.400000e+01   \n",
       "\n",
       "       Zmax_layer_8  Zmax_layer_9  Zmax_layer_10  Zmax_layer_11       y_param  \\\n",
       "count  2.419752e+06  2.419752e+06   2.419752e+06   2.419752e+06  2.419752e+06   \n",
       "mean  -6.932081e+01 -8.209938e+01  -8.858071e+01  -9.288958e+01  1.385457e+01   \n",
       "std    5.105161e+01  4.229855e+01   3.506563e+01   2.832025e+01  1.000266e+01   \n",
       "min   -1.000000e+02 -1.000000e+02  -1.000000e+02  -1.000000e+02  0.000000e+00   \n",
       "25%   -1.000000e+02 -1.000000e+02  -1.000000e+02  -1.000000e+02  8.000000e+00   \n",
       "50%   -1.000000e+02 -1.000000e+02  -1.000000e+02  -1.000000e+02  1.300000e+01   \n",
       "75%    1.000000e+00 -1.000000e+02  -1.000000e+02  -1.000000e+02  1.800000e+01   \n",
       "max    6.400000e+01  5.800000e+01   5.600000e+01   5.500000e+01  6.400000e+01   \n",
       "\n",
       "             H_Zmax  \n",
       "count  2.419752e+06  \n",
       "mean   3.174157e+00  \n",
       "std    1.749675e+00  \n",
       "min    1.000000e+00  \n",
       "25%    2.000000e+00  \n",
       "50%    3.000000e+00  \n",
       "75%    4.000000e+00  \n",
       "max    1.100000e+01  \n",
       "\n",
       "[8 rows x 322 columns]"
      ]
     },
     "execution_count": 24,
     "metadata": {},
     "output_type": "execute_result"
    }
   ],
   "source": [
    "df.describe()"
   ]
  },
  {
   "attachments": {},
   "cell_type": "markdown",
   "id": "ed967733",
   "metadata": {},
   "source": [
    "### Regression target feature"
   ]
  },
  {
   "cell_type": "code",
   "execution_count": 3,
   "id": "80608d80",
   "metadata": {},
   "outputs": [
    {
     "data": {
      "text/plain": [
       "(6685, 200, 200, 19)"
      ]
     },
     "execution_count": 3,
     "metadata": {},
     "output_type": "execute_result"
    }
   ],
   "source": [
    "stack = np.load(Paths.interim + f'stack_{station_number}.npy')\n",
    "stack.shape"
   ]
  },
  {
   "cell_type": "code",
   "execution_count": 4,
   "id": "00b9fe60",
   "metadata": {},
   "outputs": [],
   "source": [
    "dates = stack[:, :, :, 15]\n",
    "x_coors = stack[:, :, :, 16].astype('ubyte')\n",
    "y_coors = stack[:, :, :, 17].astype('ubyte')\n",
    "target = stack[:, :, :, -1].astype('ubyte')"
   ]
  },
  {
   "cell_type": "code",
   "execution_count": 5,
   "id": "407a5485",
   "metadata": {},
   "outputs": [],
   "source": [
    "df_stack = pd.DataFrame({'dates':dates.flatten(), 'x_coors':x_coors.flatten(), 'y_coors':y_coors.flatten(), 'r_target':target.flatten()})"
   ]
  },
  {
   "cell_type": "code",
   "execution_count": 6,
   "id": "56e65aa3",
   "metadata": {},
   "outputs": [],
   "source": [
    "import duckdb"
   ]
  },
  {
   "cell_type": "code",
   "execution_count": 7,
   "id": "49cb3f27",
   "metadata": {},
   "outputs": [
    {
     "data": {
      "application/vnd.jupyter.widget-view+json": {
       "model_id": "97b1838cd42c4adca2c2ee1a70681edf",
       "version_major": 2,
       "version_minor": 0
      },
      "text/plain": [
       "FloatProgress(value=0.0, layout=Layout(width='100%'), style=ProgressStyle(bar_color='black'))"
      ]
     },
     "metadata": {},
     "output_type": "display_data"
    }
   ],
   "source": [
    "df_all  = duckdb.query(\"SELECT * FROM df join df_stack on df.date = df_stack.dates and df.x_coor = df_stack.x_coors and df.y_coor = df_stack.y_coors\").df()"
   ]
  },
  {
   "cell_type": "code",
   "execution_count": 8,
   "id": "b441d54b",
   "metadata": {},
   "outputs": [
    {
     "data": {
      "text/plain": [
       "Index(['R(0,0,1)', 'R(0,0,2)', 'R(0,0,3)', 'R(0,0,4)', 'R(0,0,5)', 'R(0,0,6)',\n",
       "       'R(0,0,7)', 'R(0,0,8)', 'R(0,0,9)', 'R(0,0,10)',\n",
       "       ...\n",
       "       'Zmax_layer_8', 'Zmax_layer_9', 'Zmax_layer_10', 'Zmax_layer_11',\n",
       "       'y_param', 'H_Zmax', 'dates', 'x_coors', 'y_coors', 'r_target'],\n",
       "      dtype='object', length=326)"
      ]
     },
     "execution_count": 8,
     "metadata": {},
     "output_type": "execute_result"
    }
   ],
   "source": [
    "df_all.columns"
   ]
  },
  {
   "cell_type": "code",
   "execution_count": 10,
   "id": "e708b609",
   "metadata": {},
   "outputs": [],
   "source": [
    "df_dropped = df_all.drop(['dates', 'x_coors', 'y_coors'], axis= 1)\n",
    "df_dropped.to_parquet(Paths.interim + f'{station_number}_Convective_cloud_windows_data_regr.parquet')"
   ]
  },
  {
   "cell_type": "markdown",
   "id": "6d2cceff",
   "metadata": {},
   "source": [
    "## Filtering data"
   ]
  },
  {
   "cell_type": "code",
   "execution_count": 1,
   "id": "f1a99f9a",
   "metadata": {
    "ExecuteTime": {
     "end_time": "2023-03-10T14:21:32.589437Z",
     "start_time": "2023-03-10T14:21:30.568128Z"
    }
   },
   "outputs": [],
   "source": [
    "from DWR_preprocess import *\n",
    "\n",
    "window_shape = 5\n",
    "station_number = 26061"
   ]
  },
  {
   "cell_type": "code",
   "execution_count": 4,
   "id": "948afd12",
   "metadata": {},
   "outputs": [
    {
     "name": "stdout",
     "output_type": "stream",
     "text": [
      "Before: 0 - (2341063,), 1 - (78689,)\n",
      "After:  0 - (2225526,), 1 - (68119,)\n"
     ]
    }
   ],
   "source": [
    "df = true_data_filter(Paths.interim + f'{station_number}_Convective_cloud_windows_data_regr.parquet',station_number)"
   ]
  },
  {
   "attachments": {},
   "cell_type": "markdown",
   "id": "fd0616d2",
   "metadata": {},
   "source": [
    "## Oversampling"
   ]
  },
  {
   "cell_type": "code",
   "execution_count": 5,
   "id": "82784807",
   "metadata": {},
   "outputs": [
    {
     "data": {
      "text/plain": [
       "Index(['R(0,0,1)', 'R(0,0,2)', 'R(0,0,3)', 'R(0,0,4)', 'R(0,0,5)', 'R(0,0,6)',\n",
       "       'R(0,0,7)', 'R(0,0,8)', 'R(0,0,9)', 'R(0,0,10)',\n",
       "       ...\n",
       "       'Zmax_layer_5', 'Zmax_layer_6', 'Zmax_layer_7', 'Zmax_layer_8',\n",
       "       'Zmax_layer_9', 'Zmax_layer_10', 'Zmax_layer_11', 'y_param', 'H_Zmax',\n",
       "       'r_target'],\n",
       "      dtype='object', length=323)"
      ]
     },
     "execution_count": 5,
     "metadata": {},
     "output_type": "execute_result"
    }
   ],
   "source": [
    "df_select = pd.read_parquet(Paths.interim + f'df_filter_{station_number}.parquet')\n",
    "df_select.columns"
   ]
  },
  {
   "cell_type": "code",
   "execution_count": 5,
   "id": "43a3b8ea",
   "metadata": {},
   "outputs": [
    {
     "name": "stdout",
     "output_type": "stream",
     "text": [
      "Original dataset shape Counter({0: 1873174, 1: 62627})\n",
      "0\n",
      "1\n",
      "2\n",
      "3\n",
      "4\n",
      "5\n",
      "Best oversampling at 2 repeat with f1: 0.54\n",
      "Original dataset shape Counter({0: 1873174, 1: 62627})\n",
      "Resampled dataset shape Counter({0: 1873174, 1: 187881})\n",
      "Accuracy is 0.9693\n",
      "f1_score is 0.5377\n",
      "precision_score is 0.5523\n",
      "recall_score is 0.5239\n",
      "roc_auc_score is 0.7677\n",
      "HSS is 0.5219\n",
      "ETS is 0.353\n",
      "CSI is 0.3677\n",
      "sedi is 0.7639\n"
     ]
    },
    {
     "data": {
      "image/png": "[encoded data removed]",
      "text/plain": [
       "<Figure size 800x550 with 2 Axes>"
      ]
     },
     "metadata": {},
     "output_type": "display_data"
    }
   ],
   "source": [
    "oversampler_and_scaler(Paths.interim + f'df_filter_{station_number}.parquet')"
   ]
  },
  {
   "cell_type": "code",
   "execution_count": 2,
   "id": "049ea625",
   "metadata": {},
   "outputs": [],
   "source": [
    "import numpy as np\n",
    "import pandas as pd\n",
    "import matplotlib.pyplot as plt\n",
    "import matplotlib.patches as patches\n",
    "import seaborn as sns\n",
    "\n",
    "import torch\n",
    "from DWR_preprocess import *\n",
    "import sklearn\n",
    "from sklearn.ensemble import RandomForestClassifier\n",
    "from sklearn.linear_model import  SGDClassifier, LogisticRegression\n",
    "from sklearn.neighbors import KNeighborsClassifier\n",
    "\n",
    "import warnings\n",
    "warnings.filterwarnings(\"ignore\")\n",
    "\n",
    "station_number = 26061\n",
    "window = 5"
   ]
  },
  {
   "cell_type": "code",
   "execution_count": 3,
   "id": "3451ae62",
   "metadata": {},
   "outputs": [],
   "source": [
    "X_train =  np.load(Paths.data + 'X_train_oversampled.npy')\n",
    "y_train =  np.load(Paths.data + 'y_train_oversampled.npy')\n",
    "X_test =   np.load(Paths.data + 'X_test.npy')\n",
    "y_test =   np.load(Paths.data + 'y_test.npy')"
   ]
  },
  {
   "cell_type": "code",
   "execution_count": 145,
   "id": "24b84f17",
   "metadata": {},
   "outputs": [],
   "source": [
    "scaler = joblib.load(Paths.models+'scaler.joblib')"
   ]
  },
  {
   "cell_type": "code",
   "execution_count": 6,
   "id": "9c88e9cc",
   "metadata": {},
   "outputs": [],
   "source": [
    "X_train_reversed_scaled =  scaler.inverse_transform(X_train)\n",
    "X_test_reversed_scaled =   scaler.inverse_transform(X_test)"
   ]
  },
  {
   "cell_type": "code",
   "execution_count": null,
   "id": "a1278b71",
   "metadata": {},
   "outputs": [],
   "source": [
    "cols = pd.read_parquet(Paths.interim + f'df_filter_{station_number}.parquet').columns\n",
    "cols = cols.drop('target')"
   ]
  },
  {
   "cell_type": "code",
   "execution_count": 149,
   "id": "24c41bec",
   "metadata": {},
   "outputs": [
    {
     "data": {
      "text/html": [
       "<div>\n",
       "<style scoped>\n",
       "    .dataframe tbody tr th:only-of-type {\n",
       "        vertical-align: middle;\n",
       "    }\n",
       "\n",
       "    .dataframe tbody tr th {\n",
       "        vertical-align: top;\n",
       "    }\n",
       "\n",
       "    .dataframe thead th {\n",
       "        text-align: right;\n",
       "    }\n",
       "</style>\n",
       "<table border=\"1\" class=\"dataframe\">\n",
       "  <thead>\n",
       "    <tr style=\"text-align: right;\">\n",
       "      <th></th>\n",
       "      <th>R(0,0,1)</th>\n",
       "      <th>R(0,0,2)</th>\n",
       "      <th>R(0,0,3)</th>\n",
       "      <th>R(0,0,4)</th>\n",
       "      <th>R(0,0,5)</th>\n",
       "      <th>R(0,0,6)</th>\n",
       "      <th>R(0,0,7)</th>\n",
       "      <th>R(0,0,8)</th>\n",
       "      <th>R(0,0,9)</th>\n",
       "      <th>R(0,0,10)</th>\n",
       "      <th>...</th>\n",
       "      <th>Zmax_layer_4</th>\n",
       "      <th>Zmax_layer_5</th>\n",
       "      <th>Zmax_layer_6</th>\n",
       "      <th>Zmax_layer_7</th>\n",
       "      <th>Zmax_layer_8</th>\n",
       "      <th>Zmax_layer_9</th>\n",
       "      <th>Zmax_layer_10</th>\n",
       "      <th>Zmax_layer_11</th>\n",
       "      <th>y_param</th>\n",
       "      <th>H_Zmax</th>\n",
       "    </tr>\n",
       "  </thead>\n",
       "  <tbody>\n",
       "    <tr>\n",
       "      <th>0</th>\n",
       "      <td>-100.0</td>\n",
       "      <td>15.0</td>\n",
       "      <td>16.0</td>\n",
       "      <td>21.0</td>\n",
       "      <td>21.0</td>\n",
       "      <td>21.0</td>\n",
       "      <td>20.0</td>\n",
       "      <td>18.0</td>\n",
       "      <td>13.0</td>\n",
       "      <td>11.0</td>\n",
       "      <td>...</td>\n",
       "      <td>38.0</td>\n",
       "      <td>40.0</td>\n",
       "      <td>41.0</td>\n",
       "      <td>38.0</td>\n",
       "      <td>34.0</td>\n",
       "      <td>30.0</td>\n",
       "      <td>19.0</td>\n",
       "      <td>14.0</td>\n",
       "      <td>41.0</td>\n",
       "      <td>6.0</td>\n",
       "    </tr>\n",
       "    <tr>\n",
       "      <th>1</th>\n",
       "      <td>26.0</td>\n",
       "      <td>26.0</td>\n",
       "      <td>26.0</td>\n",
       "      <td>24.0</td>\n",
       "      <td>22.0</td>\n",
       "      <td>14.0</td>\n",
       "      <td>8.0</td>\n",
       "      <td>-100.0</td>\n",
       "      <td>-100.0</td>\n",
       "      <td>-100.0</td>\n",
       "      <td>...</td>\n",
       "      <td>36.0</td>\n",
       "      <td>36.0</td>\n",
       "      <td>33.0</td>\n",
       "      <td>28.0</td>\n",
       "      <td>19.0</td>\n",
       "      <td>13.0</td>\n",
       "      <td>-100.0</td>\n",
       "      <td>-100.0</td>\n",
       "      <td>28.0</td>\n",
       "      <td>1.0</td>\n",
       "    </tr>\n",
       "    <tr>\n",
       "      <th>2</th>\n",
       "      <td>16.0</td>\n",
       "      <td>16.0</td>\n",
       "      <td>16.0</td>\n",
       "      <td>12.0</td>\n",
       "      <td>3.0</td>\n",
       "      <td>3.0</td>\n",
       "      <td>1.0</td>\n",
       "      <td>-100.0</td>\n",
       "      <td>-100.0</td>\n",
       "      <td>-100.0</td>\n",
       "      <td>...</td>\n",
       "      <td>19.0</td>\n",
       "      <td>13.0</td>\n",
       "      <td>7.0</td>\n",
       "      <td>3.0</td>\n",
       "      <td>-100.0</td>\n",
       "      <td>-100.0</td>\n",
       "      <td>-100.0</td>\n",
       "      <td>-100.0</td>\n",
       "      <td>16.0</td>\n",
       "      <td>1.0</td>\n",
       "    </tr>\n",
       "    <tr>\n",
       "      <th>3</th>\n",
       "      <td>-100.0</td>\n",
       "      <td>-100.0</td>\n",
       "      <td>-100.0</td>\n",
       "      <td>-100.0</td>\n",
       "      <td>-100.0</td>\n",
       "      <td>-100.0</td>\n",
       "      <td>-100.0</td>\n",
       "      <td>-100.0</td>\n",
       "      <td>-100.0</td>\n",
       "      <td>-100.0</td>\n",
       "      <td>...</td>\n",
       "      <td>3.0</td>\n",
       "      <td>0.0</td>\n",
       "      <td>-2.0</td>\n",
       "      <td>4.0</td>\n",
       "      <td>6.0</td>\n",
       "      <td>-100.0</td>\n",
       "      <td>-100.0</td>\n",
       "      <td>-100.0</td>\n",
       "      <td>0.0</td>\n",
       "      <td>1.0</td>\n",
       "    </tr>\n",
       "    <tr>\n",
       "      <th>4</th>\n",
       "      <td>-100.0</td>\n",
       "      <td>-100.0</td>\n",
       "      <td>-100.0</td>\n",
       "      <td>-100.0</td>\n",
       "      <td>-100.0</td>\n",
       "      <td>-100.0</td>\n",
       "      <td>-100.0</td>\n",
       "      <td>-100.0</td>\n",
       "      <td>-100.0</td>\n",
       "      <td>-100.0</td>\n",
       "      <td>...</td>\n",
       "      <td>8.0</td>\n",
       "      <td>6.0</td>\n",
       "      <td>-100.0</td>\n",
       "      <td>-100.0</td>\n",
       "      <td>-100.0</td>\n",
       "      <td>-100.0</td>\n",
       "      <td>-100.0</td>\n",
       "      <td>-100.0</td>\n",
       "      <td>0.0</td>\n",
       "      <td>4.0</td>\n",
       "    </tr>\n",
       "    <tr>\n",
       "      <th>...</th>\n",
       "      <td>...</td>\n",
       "      <td>...</td>\n",
       "      <td>...</td>\n",
       "      <td>...</td>\n",
       "      <td>...</td>\n",
       "      <td>...</td>\n",
       "      <td>...</td>\n",
       "      <td>...</td>\n",
       "      <td>...</td>\n",
       "      <td>...</td>\n",
       "      <td>...</td>\n",
       "      <td>...</td>\n",
       "      <td>...</td>\n",
       "      <td>...</td>\n",
       "      <td>...</td>\n",
       "      <td>...</td>\n",
       "      <td>...</td>\n",
       "      <td>...</td>\n",
       "      <td>...</td>\n",
       "      <td>...</td>\n",
       "      <td>...</td>\n",
       "    </tr>\n",
       "    <tr>\n",
       "      <th>2123677</th>\n",
       "      <td>-100.0</td>\n",
       "      <td>-100.0</td>\n",
       "      <td>-100.0</td>\n",
       "      <td>-100.0</td>\n",
       "      <td>-100.0</td>\n",
       "      <td>-100.0</td>\n",
       "      <td>-100.0</td>\n",
       "      <td>-100.0</td>\n",
       "      <td>-100.0</td>\n",
       "      <td>-100.0</td>\n",
       "      <td>...</td>\n",
       "      <td>38.0</td>\n",
       "      <td>34.0</td>\n",
       "      <td>32.0</td>\n",
       "      <td>32.0</td>\n",
       "      <td>32.0</td>\n",
       "      <td>32.0</td>\n",
       "      <td>29.0</td>\n",
       "      <td>27.0</td>\n",
       "      <td>43.0</td>\n",
       "      <td>3.0</td>\n",
       "    </tr>\n",
       "    <tr>\n",
       "      <th>2123678</th>\n",
       "      <td>-100.0</td>\n",
       "      <td>-100.0</td>\n",
       "      <td>-100.0</td>\n",
       "      <td>-100.0</td>\n",
       "      <td>-100.0</td>\n",
       "      <td>-100.0</td>\n",
       "      <td>-100.0</td>\n",
       "      <td>-100.0</td>\n",
       "      <td>-100.0</td>\n",
       "      <td>-100.0</td>\n",
       "      <td>...</td>\n",
       "      <td>38.0</td>\n",
       "      <td>34.0</td>\n",
       "      <td>32.0</td>\n",
       "      <td>32.0</td>\n",
       "      <td>32.0</td>\n",
       "      <td>32.0</td>\n",
       "      <td>29.0</td>\n",
       "      <td>27.0</td>\n",
       "      <td>43.0</td>\n",
       "      <td>3.0</td>\n",
       "    </tr>\n",
       "    <tr>\n",
       "      <th>2123679</th>\n",
       "      <td>32.0</td>\n",
       "      <td>32.0</td>\n",
       "      <td>32.0</td>\n",
       "      <td>33.0</td>\n",
       "      <td>33.0</td>\n",
       "      <td>33.0</td>\n",
       "      <td>30.0</td>\n",
       "      <td>27.0</td>\n",
       "      <td>24.0</td>\n",
       "      <td>18.0</td>\n",
       "      <td>...</td>\n",
       "      <td>33.0</td>\n",
       "      <td>33.0</td>\n",
       "      <td>33.0</td>\n",
       "      <td>30.0</td>\n",
       "      <td>27.0</td>\n",
       "      <td>24.0</td>\n",
       "      <td>18.0</td>\n",
       "      <td>-100.0</td>\n",
       "      <td>33.0</td>\n",
       "      <td>4.0</td>\n",
       "    </tr>\n",
       "    <tr>\n",
       "      <th>2123680</th>\n",
       "      <td>32.0</td>\n",
       "      <td>32.0</td>\n",
       "      <td>32.0</td>\n",
       "      <td>33.0</td>\n",
       "      <td>33.0</td>\n",
       "      <td>33.0</td>\n",
       "      <td>30.0</td>\n",
       "      <td>27.0</td>\n",
       "      <td>24.0</td>\n",
       "      <td>18.0</td>\n",
       "      <td>...</td>\n",
       "      <td>33.0</td>\n",
       "      <td>33.0</td>\n",
       "      <td>33.0</td>\n",
       "      <td>30.0</td>\n",
       "      <td>27.0</td>\n",
       "      <td>24.0</td>\n",
       "      <td>18.0</td>\n",
       "      <td>-100.0</td>\n",
       "      <td>33.0</td>\n",
       "      <td>4.0</td>\n",
       "    </tr>\n",
       "    <tr>\n",
       "      <th>2123681</th>\n",
       "      <td>32.0</td>\n",
       "      <td>32.0</td>\n",
       "      <td>32.0</td>\n",
       "      <td>33.0</td>\n",
       "      <td>33.0</td>\n",
       "      <td>33.0</td>\n",
       "      <td>30.0</td>\n",
       "      <td>27.0</td>\n",
       "      <td>24.0</td>\n",
       "      <td>18.0</td>\n",
       "      <td>...</td>\n",
       "      <td>33.0</td>\n",
       "      <td>33.0</td>\n",
       "      <td>33.0</td>\n",
       "      <td>30.0</td>\n",
       "      <td>27.0</td>\n",
       "      <td>24.0</td>\n",
       "      <td>18.0</td>\n",
       "      <td>-100.0</td>\n",
       "      <td>33.0</td>\n",
       "      <td>4.0</td>\n",
       "    </tr>\n",
       "  </tbody>\n",
       "</table>\n",
       "<p>2123682 rows × 321 columns</p>\n",
       "</div>"
      ],
      "text/plain": [
       "         R(0,0,1)  R(0,0,2)  R(0,0,3)  R(0,0,4)  R(0,0,5)  R(0,0,6)  R(0,0,7)  \\\n",
       "0          -100.0      15.0      16.0      21.0      21.0      21.0      20.0   \n",
       "1            26.0      26.0      26.0      24.0      22.0      14.0       8.0   \n",
       "2            16.0      16.0      16.0      12.0       3.0       3.0       1.0   \n",
       "3          -100.0    -100.0    -100.0    -100.0    -100.0    -100.0    -100.0   \n",
       "4          -100.0    -100.0    -100.0    -100.0    -100.0    -100.0    -100.0   \n",
       "...           ...       ...       ...       ...       ...       ...       ...   \n",
       "2123677    -100.0    -100.0    -100.0    -100.0    -100.0    -100.0    -100.0   \n",
       "2123678    -100.0    -100.0    -100.0    -100.0    -100.0    -100.0    -100.0   \n",
       "2123679      32.0      32.0      32.0      33.0      33.0      33.0      30.0   \n",
       "2123680      32.0      32.0      32.0      33.0      33.0      33.0      30.0   \n",
       "2123681      32.0      32.0      32.0      33.0      33.0      33.0      30.0   \n",
       "\n",
       "         R(0,0,8)  R(0,0,9)  R(0,0,10)  ...  Zmax_layer_4  Zmax_layer_5  \\\n",
       "0            18.0      13.0       11.0  ...          38.0          40.0   \n",
       "1          -100.0    -100.0     -100.0  ...          36.0          36.0   \n",
       "2          -100.0    -100.0     -100.0  ...          19.0          13.0   \n",
       "3          -100.0    -100.0     -100.0  ...           3.0           0.0   \n",
       "4          -100.0    -100.0     -100.0  ...           8.0           6.0   \n",
       "...           ...       ...        ...  ...           ...           ...   \n",
       "2123677    -100.0    -100.0     -100.0  ...          38.0          34.0   \n",
       "2123678    -100.0    -100.0     -100.0  ...          38.0          34.0   \n",
       "2123679      27.0      24.0       18.0  ...          33.0          33.0   \n",
       "2123680      27.0      24.0       18.0  ...          33.0          33.0   \n",
       "2123681      27.0      24.0       18.0  ...          33.0          33.0   \n",
       "\n",
       "         Zmax_layer_6  Zmax_layer_7  Zmax_layer_8  Zmax_layer_9  \\\n",
       "0                41.0          38.0          34.0          30.0   \n",
       "1                33.0          28.0          19.0          13.0   \n",
       "2                 7.0           3.0        -100.0        -100.0   \n",
       "3                -2.0           4.0           6.0        -100.0   \n",
       "4              -100.0        -100.0        -100.0        -100.0   \n",
       "...               ...           ...           ...           ...   \n",
       "2123677          32.0          32.0          32.0          32.0   \n",
       "2123678          32.0          32.0          32.0          32.0   \n",
       "2123679          33.0          30.0          27.0          24.0   \n",
       "2123680          33.0          30.0          27.0          24.0   \n",
       "2123681          33.0          30.0          27.0          24.0   \n",
       "\n",
       "         Zmax_layer_10  Zmax_layer_11  y_param  H_Zmax  \n",
       "0                 19.0           14.0     41.0     6.0  \n",
       "1               -100.0         -100.0     28.0     1.0  \n",
       "2               -100.0         -100.0     16.0     1.0  \n",
       "3               -100.0         -100.0      0.0     1.0  \n",
       "4               -100.0         -100.0      0.0     4.0  \n",
       "...                ...            ...      ...     ...  \n",
       "2123677           29.0           27.0     43.0     3.0  \n",
       "2123678           29.0           27.0     43.0     3.0  \n",
       "2123679           18.0         -100.0     33.0     4.0  \n",
       "2123680           18.0         -100.0     33.0     4.0  \n",
       "2123681           18.0         -100.0     33.0     4.0  \n",
       "\n",
       "[2123682 rows x 321 columns]"
      ]
     },
     "execution_count": 149,
     "metadata": {},
     "output_type": "execute_result"
    }
   ],
   "source": [
    "pd.DataFrame(X_train_reversed_scaled, columns=cols)"
   ]
  },
  {
   "cell_type": "code",
   "execution_count": 150,
   "id": "64f3d9ce",
   "metadata": {},
   "outputs": [
    {
     "name": "stdout",
     "output_type": "stream",
     "text": [
      "Accuracy is 0.9709\n",
      "f1_score is 0.622\n",
      "precision_score is 0.7408\n",
      "recall_score is 0.5361\n",
      "roc_auc_score is 0.8597\n",
      "HSS is 0.6073\n",
      "ETS is 0.4361\n",
      "CSI is 0.4514\n",
      "sedi is 0.7939\n",
      "CPU times: user 1min 34s, sys: 15.1 ms, total: 1min 34s\n",
      "Wall time: 1min 34s\n"
     ]
    },
    {
     "data": {
      "image/png": "[encoded data removed]",
      "text/plain": [
       "<Figure size 800x550 with 2 Axes>"
      ]
     },
     "metadata": {},
     "output_type": "display_data"
    }
   ],
   "source": [
    "%%time\n",
    "#classificator \n",
    "sgd = LogisticRegression(solver=\"saga\", n_jobs = -1, random_state=42) \n",
    "sgd.fit(X_train, y_train)\n",
    "sgd_pred = sgd.predict(X_test)\n",
    "\n",
    "\n",
    "# get scores\n",
    "sgd_res = scorer(y_test, sgd_pred)"
   ]
  },
  {
   "cell_type": "code",
   "execution_count": 151,
   "id": "5f745841",
   "metadata": {},
   "outputs": [
    {
     "data": {
      "text/plain": [
       "(array([[-1.08822714e-02, -4.86896839e-02,  9.48862089e-03,\n",
       "         -3.01081019e-03,  2.30443195e-02,  1.88278273e-02,\n",
       "         -1.82076059e-02, -2.12270098e-02, -2.17548007e-02,\n",
       "         -2.45172636e-02, -1.96098783e-03,  6.34369269e-03,\n",
       "          1.31481442e-02,  6.12416804e-03,  2.08138801e-02,\n",
       "         -3.27506233e-02, -9.97545443e-03,  3.12716953e-02,\n",
       "          1.05690113e-02, -4.46757578e-03,  1.07977540e-02,\n",
       "          2.67741541e-05,  1.72874437e-02, -2.78842803e-02,\n",
       "          1.17870353e-02,  3.14504554e-02,  1.76840703e-02,\n",
       "          6.93992431e-03,  2.37678139e-03,  1.95622137e-02,\n",
       "          8.83337437e-03,  1.45182890e-02,  1.48727186e-02,\n",
       "          1.23917710e-02, -4.97251995e-02,  3.16940378e-03,\n",
       "          6.12290961e-03,  3.91397876e-02,  1.55691760e-02,\n",
       "          3.11654804e-03, -1.38328491e-02, -6.32491535e-03,\n",
       "          4.35628039e-03,  1.60364428e-03, -1.61115441e-02,\n",
       "         -3.97467039e-02,  8.75528889e-03, -5.58154364e-03,\n",
       "         -4.13645974e-04, -7.44167339e-03, -2.19933854e-02,\n",
       "          5.17410648e-03,  2.47680265e-02, -7.51281401e-03,\n",
       "          1.30699305e-02,  1.92829318e-02, -2.48836713e-02,\n",
       "          2.00296490e-03,  1.44182304e-02, -3.94217112e-03,\n",
       "         -3.05309415e-02,  1.82859960e-03,  2.36484060e-02,\n",
       "         -2.05510623e-02,  2.64400059e-03, -6.10389308e-03,\n",
       "          4.00965179e-02, -1.61766974e-02,  2.24166126e-04,\n",
       "          9.70602495e-03,  3.30908327e-02, -1.32932344e-02,\n",
       "          3.09278263e-02,  2.03375641e-02,  1.91199208e-02,\n",
       "         -1.74255667e-03,  2.33521979e-03,  1.64253842e-02,\n",
       "         -4.08203653e-03,  8.89502802e-03,  1.12106622e-02,\n",
       "         -1.17458604e-02,  5.70753148e-02,  4.70737451e-03,\n",
       "          3.10091089e-02,  3.57611495e-02,  1.90644989e-02,\n",
       "          2.27061166e-02, -3.95639878e-03,  2.85762766e-02,\n",
       "         -5.14482556e-03, -1.65982657e-03,  1.26827271e-02,\n",
       "          1.16771974e-02,  3.07039106e-02,  3.37089455e-02,\n",
       "          1.23386608e-02, -2.92678515e-03,  1.32684876e-02,\n",
       "          1.80232559e-02, -1.89625168e-02, -1.00695257e-02,\n",
       "         -1.39954827e-02, -6.28255261e-03, -2.73647227e-02,\n",
       "         -2.65046094e-02,  3.29491303e-04,  1.21451019e-02,\n",
       "          2.25365547e-03,  1.80470884e-02, -5.25600864e-03,\n",
       "          5.25531782e-03, -1.11174612e-02, -4.79810691e-03,\n",
       "          1.97990429e-02,  1.94434509e-02,  2.02368446e-03,\n",
       "         -1.10482058e-04,  1.36279303e-02,  7.93981538e-03,\n",
       "          1.22294556e-02,  2.34868179e-02, -1.35493210e-02,\n",
       "          1.23060596e-02, -1.42310675e-02,  9.94303118e-04,\n",
       "          3.08100592e-02,  3.47825380e-02,  4.09471041e-02,\n",
       "          8.06660767e-03,  1.13665884e-02,  7.54848405e-03,\n",
       "          3.47569548e-02, -1.90413255e-02,  1.16402531e-02,\n",
       "         -1.96680261e-02,  5.84587263e-02,  2.27642998e-03,\n",
       "          4.88080474e-02,  2.00186196e-02,  1.18966636e-02,\n",
       "          1.50938603e-02,  2.47906582e-02, -1.10380008e-02,\n",
       "          1.23852193e-03,  8.57029815e-03, -6.02606723e-03,\n",
       "          1.74069748e-02,  6.49124907e-04,  1.70940262e-02,\n",
       "          6.58862787e-03,  5.82976344e-03,  9.68891257e-03,\n",
       "          1.34548279e-03, -9.24432536e-03, -9.44198531e-04,\n",
       "          2.27106681e-03, -8.77440230e-03,  2.09695478e-02,\n",
       "          3.85868467e-02,  4.03592286e-02,  1.83215545e-02,\n",
       "          8.21815078e-03, -8.19339049e-03,  4.99905308e-03,\n",
       "          1.63589825e-04, -3.78789761e-02, -7.30588397e-04,\n",
       "          2.55216270e-02,  1.38248114e-03,  2.57488753e-02,\n",
       "         -1.01165601e-02, -3.89821576e-03,  3.57753812e-03,\n",
       "          1.11363254e-02,  5.05129191e-04, -1.23383002e-02,\n",
       "          3.23501416e-02, -7.79214583e-03,  5.02067940e-03,\n",
       "          5.04931961e-02, -6.47286952e-03,  1.92812914e-02,\n",
       "          3.48045716e-02,  2.57925661e-02,  2.28171060e-02,\n",
       "          1.81333488e-02, -6.46109658e-04,  1.96128087e-02,\n",
       "          5.89428210e-03,  2.07809371e-03,  1.10949278e-02,\n",
       "          3.43027318e-02,  1.38049618e-02,  3.29083973e-02,\n",
       "          6.03712567e-03,  1.34475942e-02,  1.13066232e-02,\n",
       "          8.38501055e-03, -5.91299359e-03, -4.96529192e-03,\n",
       "          3.84020521e-02,  3.82067286e-03,  1.58191097e-02,\n",
       "          1.92824693e-02,  3.99833169e-03,  2.74599145e-02,\n",
       "          1.24131650e-02,  1.56880512e-02,  5.79873403e-03,\n",
       "         -1.47518083e-02,  1.11344717e-02,  1.87831647e-02,\n",
       "          1.79720430e-02,  5.25291231e-04,  1.92041324e-02,\n",
       "         -8.09171705e-03, -6.44710378e-03,  4.36330498e-03,\n",
       "          1.32736754e-02, -4.36014714e-02, -3.95697928e-02,\n",
       "          2.07914705e-02, -2.06041607e-02,  1.70530169e-03,\n",
       "         -3.51517061e-02, -2.10770859e-02, -3.53995632e-02,\n",
       "         -2.73928070e-02, -3.19802103e-02, -2.99743818e-03,\n",
       "         -2.15142845e-02,  4.96611891e-03, -3.06465366e-02,\n",
       "          6.74446283e-03,  9.30474797e-03, -4.83072499e-03,\n",
       "          1.61948775e-02,  3.96682548e-03, -5.31783962e-03,\n",
       "         -4.89964649e-03, -3.31543040e-03, -1.71589713e-02,\n",
       "         -7.69854143e-03,  1.05018456e-02, -5.88455634e-03,\n",
       "          3.03439951e-03, -2.54745443e-03, -1.21652724e-03,\n",
       "         -1.49761738e-02,  1.55509866e-02, -5.89034697e-03,\n",
       "         -1.18464314e-03,  5.07146473e-03, -1.22896080e-02,\n",
       "         -1.95666651e-03,  1.49543714e-02,  1.47010634e-02,\n",
       "          1.37619007e-02, -3.23012043e-02,  8.92189803e-03,\n",
       "         -1.01485045e-02,  5.28996448e-03, -9.37917301e-03,\n",
       "         -3.27740147e-02, -1.32510804e-03,  1.09738439e-02,\n",
       "         -1.29327896e-03,  3.24082107e-02, -5.08520256e-02,\n",
       "         -7.49915964e-03,  1.83923960e-02, -1.33199556e-02,\n",
       "         -1.13656090e-02,  2.23405353e-02, -9.31988161e-03,\n",
       "         -2.76747637e-02, -9.07164480e-02, -3.78969443e-02,\n",
       "         -5.41270044e-02, -5.18252734e-02, -1.75173252e-02,\n",
       "         -1.19998040e-01, -7.68964403e-02, -6.03701074e-03,\n",
       "         -6.79631664e-02, -6.72021705e-02, -8.39680559e-02,\n",
       "         -7.09687015e-02, -7.26428415e-02, -4.72028232e-02,\n",
       "         -4.06189941e-02, -4.27968208e-02, -8.69533044e-02,\n",
       "         -3.00562028e-02, -5.33813864e-02, -6.51476669e-02,\n",
       "         -6.15442946e-02, -2.91634892e-02, -5.21408052e-02,\n",
       "         -6.84200845e-01,  5.54453849e-01, -3.86413396e-02,\n",
       "          5.81824532e-02,  7.38630160e-02,  5.01001983e-01,\n",
       "          8.80829945e-01,  8.23565547e-01,  1.48016695e-01,\n",
       "         -5.34209023e-02, -6.21290571e-02, -7.58275807e-02,\n",
       "          1.40520716e-01,  4.25742056e-01,  3.25457578e-01,\n",
       "          1.95093143e-01,  1.01948184e-01,  4.63702020e-02,\n",
       "         -1.50992499e-02, -2.64404834e-01,  2.07387318e-01]]),\n",
       " array([-5.07894086]))"
      ]
     },
     "execution_count": 151,
     "metadata": {},
     "output_type": "execute_result"
    }
   ],
   "source": [
    "sgd.coef_, sgd.intercept_"
   ]
  },
  {
   "cell_type": "code",
   "execution_count": 152,
   "id": "1247adba",
   "metadata": {},
   "outputs": [
    {
     "data": {
      "text/plain": [
       "Text(0.5, 0, 'Linear Regression Coef')"
      ]
     },
     "execution_count": 152,
     "metadata": {},
     "output_type": "execute_result"
    },
    {
     "data": {
      "image/png": "[encoded data removed]",
      "text/plain": [
       "<Figure size 500x1000 with 1 Axes>"
      ]
     },
     "metadata": {},
     "output_type": "display_data"
    }
   ],
   "source": [
    "plt.figure(figsize=(5,10))\n",
    "sorted_idx = np.abs(sgd.coef_).reshape(321).argsort()[-40:]\n",
    "plt.barh(cols[sorted_idx], sgd.coef_.reshape(321)[sorted_idx])\n",
    "plt.xlabel(\"Linear Regression Coef\")"
   ]
  },
  {
   "cell_type": "code",
   "execution_count": null,
   "id": "c9b1b128",
   "metadata": {},
   "outputs": [
    {
     "name": "stdout",
     "output_type": "stream",
     "text": [
      "Accuracy is 0.9804\n",
      "f1_score is 0.6751\n",
      "precision_score is 0.6306\n",
      "recall_score is 0.7262\n",
      "roc_auc_score is 0.8113\n",
      "HSS is 0.665\n",
      "ETS is 0.4981\n",
      "CSI is 0.5095\n",
      "sedi is 0.8897\n",
      "CPU times: user 1h 24min 54s, sys: 10.4 s, total: 1h 25min 5s\n",
      "Wall time: 8min 15s\n"
     ]
    },
    {
     "data": {
      "image/png": "[encoded data removed]",
      "text/plain": [
       "<Figure size 800x550 with 2 Axes>"
      ]
     },
     "metadata": {},
     "output_type": "display_data"
    }
   ],
   "source": [
    "%%time\n",
    "#classificator \n",
    "rf = RandomForestClassifier(n_jobs = -2) \n",
    "rf.fit(X_train, y_train)\n",
    "rf_pred = rf.predict(X_test)\n",
    "\n",
    "# get scores\n",
    "rf_res = scorer(y_test, rf_pred)"
   ]
  },
  {
   "cell_type": "code",
   "execution_count": null,
   "id": "129db4ac",
   "metadata": {},
   "outputs": [
    {
     "data": {
      "text/plain": [
       "Text(0.5, 0, 'Random Forest Feature Importance')"
      ]
     },
     "execution_count": 24,
     "metadata": {},
     "output_type": "execute_result"
    },
    {
     "data": {
      "image/png": "[encoded data removed]",
      "text/plain": [
       "<Figure size 500x1000 with 1 Axes>"
      ]
     },
     "metadata": {},
     "output_type": "display_data"
    }
   ],
   "source": [
    "plt.figure(figsize=(5,10))\n",
    "sorted_idx = rf.feature_importances_.argsort()[-40:]\n",
    "plt.barh(cols[sorted_idx], rf.feature_importances_[sorted_idx])\n",
    "plt.xlabel(\"Random Forest Feature Importance\")"
   ]
  },
  {
   "attachments": {},
   "cell_type": "markdown",
   "id": "93bb74c1",
   "metadata": {},
   "source": [
    "### feature set 0"
   ]
  },
  {
   "cell_type": "code",
   "execution_count": 153,
   "id": "d7e87207",
   "metadata": {},
   "outputs": [],
   "source": [
    "features_set_0 = ['Hmax', 'Zmax', 'H_Zmax', 'delta_iso22', 'y_param','Zmax_layer_6', 'Zmax_layer_7', 'Zmax_layer_8',\n",
    "       'Zmax_layer_9', 'Zmax_layer_10']"
   ]
  },
  {
   "cell_type": "code",
   "execution_count": 154,
   "id": "b8e16caa",
   "metadata": {},
   "outputs": [
    {
     "data": {
      "text/plain": [
       "array([305, 306, 320, 307, 319, 313, 314, 315, 316, 317])"
      ]
     },
     "execution_count": 154,
     "metadata": {},
     "output_type": "execute_result"
    }
   ],
   "source": [
    "feature_indices_0 = []\n",
    "for feature in features_set_0:\n",
    "    feature_indices_0.append(np.argwhere(np.array(cols) == feature))\n",
    "feature_indices_0 = np.array(feature_indices_0).reshape(np.array(feature_indices_0).shape[0])\n",
    "feature_indices_0\n"
   ]
  },
  {
   "cell_type": "code",
   "execution_count": 155,
   "id": "14d85aec",
   "metadata": {},
   "outputs": [],
   "source": [
    "X_train_set_0 = X_train[:, feature_indices_0]\n",
    "X_test_set_0 = X_test[:, feature_indices_0]"
   ]
  },
  {
   "cell_type": "code",
   "execution_count": 156,
   "id": "e544631a",
   "metadata": {},
   "outputs": [
    {
     "name": "stdout",
     "output_type": "stream",
     "text": [
      "Accuracy is 0.9713\n",
      "f1_score is 0.6258\n",
      "precision_score is 0.7409\n",
      "recall_score is 0.5416\n",
      "roc_auc_score is 0.86\n",
      "HSS is 0.6112\n",
      "ETS is 0.4401\n",
      "CSI is 0.4554\n",
      "sedi is 0.7973\n",
      "CPU times: user 15.1 s, sys: 35.8 ms, total: 15.2 s\n",
      "Wall time: 15.2 s\n"
     ]
    },
    {
     "data": {
      "image/png": "[encoded data removed]",
      "text/plain": [
       "<Figure size 800x550 with 2 Axes>"
      ]
     },
     "metadata": {},
     "output_type": "display_data"
    }
   ],
   "source": [
    "%%time\n",
    "#classificator \n",
    "sgd = LogisticRegression(solver=\"saga\", n_jobs = -1, random_state=24) \n",
    "sgd.fit(X_train_set_0, y_train)\n",
    "sgd_pred_0 = sgd.predict(X_test_set_0)\n",
    "\n",
    "\n",
    "# get scores\n",
    "sgd_res = scorer(y_test, sgd_pred_0)"
   ]
  },
  {
   "cell_type": "code",
   "execution_count": 157,
   "id": "28e9a9a9",
   "metadata": {},
   "outputs": [],
   "source": [
    "coef_set_0 = sgd.coef_.tolist()[0]\n",
    "inter_set_0 = sgd.intercept_.tolist()[0]"
   ]
  },
  {
   "cell_type": "code",
   "execution_count": 158,
   "id": "906c5fd4",
   "metadata": {},
   "outputs": [
    {
     "data": {
      "text/plain": [
       "([-0.6402480239966041,\n",
       "  0.8974503789334118,\n",
       "  0.29239410289074713,\n",
       "  1.5515382541144216,\n",
       "  -0.06722576052210379,\n",
       "  0.40541207975864435,\n",
       "  0.3554628604022989,\n",
       "  0.2903414293829566,\n",
       "  0.1589323452929145,\n",
       "  0.08882231885804244],\n",
       " -5.054243724161584)"
      ]
     },
     "execution_count": 158,
     "metadata": {},
     "output_type": "execute_result"
    }
   ],
   "source": [
    "coef_set_0, inter_set_0"
   ]
  },
  {
   "attachments": {},
   "cell_type": "markdown",
   "id": "f135d5bb",
   "metadata": {},
   "source": [
    "### feature set 1\n"
   ]
  },
  {
   "cell_type": "code",
   "execution_count": 159,
   "id": "7baa1a05",
   "metadata": {},
   "outputs": [],
   "source": [
    "features_set_1 = ['Hmax', 'Zmax', 'Zmax_layer_6', 'Zmax_layer_7', 'Zmax_layer_8',\n",
    "       'Zmax_layer_9', 'Zmax_layer_10']"
   ]
  },
  {
   "cell_type": "code",
   "execution_count": 160,
   "id": "af85f93f",
   "metadata": {},
   "outputs": [
    {
     "data": {
      "text/plain": [
       "array([305, 306, 313, 314, 315, 316, 317])"
      ]
     },
     "execution_count": 160,
     "metadata": {},
     "output_type": "execute_result"
    }
   ],
   "source": [
    "feature_indices_1 = []\n",
    "for feature in features_set_1:\n",
    "    feature_indices_1.append(np.argwhere(np.array(cols) == feature))\n",
    "feature_indices_1 = np.array(feature_indices_1).reshape(np.array(feature_indices_1).shape[0])\n",
    "feature_indices_1"
   ]
  },
  {
   "cell_type": "code",
   "execution_count": 161,
   "id": "4e1cbb3e",
   "metadata": {},
   "outputs": [],
   "source": [
    "X_train_set_1 = X_train[:, feature_indices_1]\n",
    "X_test_set_1 = X_test[:, feature_indices_1]"
   ]
  },
  {
   "cell_type": "code",
   "execution_count": 162,
   "id": "6d50fe00",
   "metadata": {},
   "outputs": [
    {
     "name": "stdout",
     "output_type": "stream",
     "text": [
      "Accuracy is 0.9697\n",
      "f1_score is 0.6086\n",
      "precision_score is 0.7274\n",
      "recall_score is 0.5232\n",
      "roc_auc_score is 0.8526\n",
      "HSS is 0.5933\n",
      "ETS is 0.4218\n",
      "CSI is 0.4374\n",
      "sedi is 0.7839\n",
      "CPU times: user 15.2 s, sys: 7.74 ms, total: 15.2 s\n",
      "Wall time: 15.2 s\n"
     ]
    },
    {
     "data": {
      "image/png": "[encoded data removed]",
      "text/plain": [
       "<Figure size 800x550 with 2 Axes>"
      ]
     },
     "metadata": {},
     "output_type": "display_data"
    }
   ],
   "source": [
    "%%time\n",
    "#classificator \n",
    "sgd = LogisticRegression(solver=\"saga\", n_jobs = -1) \n",
    "sgd.fit(X_train_set_1, y_train)\n",
    "sgd_pred_1 = sgd.predict(X_test_set_1)\n",
    "\n",
    "\n",
    "# get scores\n",
    "sgd_res = scorer(y_test, sgd_pred_1)"
   ]
  },
  {
   "cell_type": "code",
   "execution_count": 163,
   "id": "6eaf3805",
   "metadata": {},
   "outputs": [
    {
     "data": {
      "text/plain": [
       "([0.9899131219859455,\n",
       "  0.754002607005723,\n",
       "  0.3154611817917923,\n",
       "  0.3147828342782613,\n",
       "  0.2581372686875461,\n",
       "  0.16879107285345113,\n",
       "  0.09261709566768207],\n",
       " -4.922595547112332)"
      ]
     },
     "execution_count": 163,
     "metadata": {},
     "output_type": "execute_result"
    }
   ],
   "source": [
    "coef_set_1 = sgd.coef_.tolist()[0]\n",
    "inter_set_1 = sgd.intercept_.tolist()[0]\n",
    "coef_set_1, inter_set_1"
   ]
  },
  {
   "attachments": {},
   "cell_type": "markdown",
   "id": "6af2dbd7",
   "metadata": {},
   "source": [
    "### feature set 2\n"
   ]
  },
  {
   "cell_type": "code",
   "execution_count": 217,
   "id": "705a39d9",
   "metadata": {},
   "outputs": [],
   "source": [
    "features_set_2 = ['Hmax', 'Zmax', 'H_Zmax','Zmax_layer_6', 'Zmax_layer_7', 'Zmax_layer_8',\n",
    "       'Zmax_layer_9', 'Zmax_layer_10']"
   ]
  },
  {
   "cell_type": "code",
   "execution_count": 218,
   "id": "e7da6caa",
   "metadata": {},
   "outputs": [
    {
     "data": {
      "text/plain": [
       "array([305, 306, 320, 313, 314, 315, 316, 317])"
      ]
     },
     "execution_count": 218,
     "metadata": {},
     "output_type": "execute_result"
    }
   ],
   "source": [
    "feature_indices_2 = []\n",
    "for feature in features_set_2:\n",
    "    feature_indices_2.append(np.argwhere(np.array(cols) == feature))\n",
    "feature_indices_2 = np.array(feature_indices_2).reshape(np.array(feature_indices_2).shape[0])\n",
    "feature_indices_2\n"
   ]
  },
  {
   "cell_type": "code",
   "execution_count": 219,
   "id": "dd775d21",
   "metadata": {},
   "outputs": [],
   "source": [
    "X_train_set_2 = X_train[:, feature_indices_2]\n",
    "X_test_set_2 = X_test[:, feature_indices_2]"
   ]
  },
  {
   "cell_type": "code",
   "execution_count": 220,
   "id": "74972e7f",
   "metadata": {},
   "outputs": [
    {
     "name": "stdout",
     "output_type": "stream",
     "text": [
      "Accuracy is 0.9707\n",
      "f1_score is 0.618\n",
      "precision_score is 0.7324\n",
      "recall_score is 0.5344\n",
      "roc_auc_score is 0.8555\n",
      "HSS is 0.6031\n",
      "ETS is 0.4317\n",
      "CSI is 0.4471\n",
      "sedi is 0.7917\n",
      "CPU times: user 15.3 s, sys: 35.1 ms, total: 15.4 s\n",
      "Wall time: 15.4 s\n"
     ]
    },
    {
     "data": {
      "image/png": "[encoded data removed]",
      "text/plain": [
       "<Figure size 800x550 with 2 Axes>"
      ]
     },
     "metadata": {},
     "output_type": "display_data"
    }
   ],
   "source": [
    "%%time\n",
    "#classificator \n",
    "sgd = LogisticRegression(solver=\"saga\", n_jobs = -1, random_state=42) \n",
    "sgd.fit(X_train_set_2, y_train)\n",
    "sgd_pred_2 = sgd.predict(X_test_set_2)\n",
    "\n",
    "\n",
    "# get scores\n",
    "sgd_res = scorer(y_test, sgd_pred_2)"
   ]
  },
  {
   "cell_type": "code",
   "execution_count": 224,
   "id": "5594573d",
   "metadata": {},
   "outputs": [
    {
     "data": {
      "text/plain": [
       "([0.8061940405488975,\n",
       "  0.92157806119421,\n",
       "  0.297247741290093,\n",
       "  0.39599442698504855,\n",
       "  0.2587855889239227,\n",
       "  0.24677932074219924,\n",
       "  0.17081076184334903,\n",
       "  0.08962434980927239],\n",
       " -4.959611610720029)"
      ]
     },
     "execution_count": 224,
     "metadata": {},
     "output_type": "execute_result"
    }
   ],
   "source": [
    "coef_set_2 = sgd.coef_.tolist()[0]\n",
    "inter_set_2 = sgd.intercept_.tolist()[0]\n",
    "coef_set_2, inter_set_2"
   ]
  },
  {
   "attachments": {},
   "cell_type": "markdown",
   "id": "d5bf026f",
   "metadata": {},
   "source": [
    "### get coefs"
   ]
  },
  {
   "cell_type": "code",
   "execution_count": 226,
   "id": "0c701d75",
   "metadata": {},
   "outputs": [],
   "source": [
    "means = np.load(Paths.models + 'scaler_means.npy')\n",
    "vars  = np.load(Paths.models + 'scaler_vars.npy')"
   ]
  },
  {
   "cell_type": "code",
   "execution_count": 227,
   "metadata": {},
   "outputs": [],
   "source": [
    "means_set_0 = means[feature_indices_0]\n",
    "means_set_1 = means[feature_indices_1]\n",
    "means_set_2 = means[feature_indices_2]"
   ]
  },
  {
   "cell_type": "code",
   "execution_count": 234,
   "id": "213c456c",
   "metadata": {},
   "outputs": [],
   "source": [
    "vars_set_0 = vars[feature_indices_0]\n",
    "vars_set_1 = vars[feature_indices_1]\n",
    "vars_set_2 = vars[feature_indices_2]"
   ]
  },
  {
   "cell_type": "code",
   "execution_count": 230,
   "id": "f562c0c8",
   "metadata": {},
   "outputs": [
    {
     "data": {
      "text/plain": [
       "((483951, 10), (483951, 7), (483951, 8))"
      ]
     },
     "execution_count": 230,
     "metadata": {},
     "output_type": "execute_result"
    }
   ],
   "source": [
    "X_test_reversed_scaled_0 = X_test_reversed_scaled[:, feature_indices_0]\n",
    "X_test_reversed_scaled_1 = X_test_reversed_scaled[:, feature_indices_1]\n",
    "X_test_reversed_scaled_2 = X_test_reversed_scaled[:, feature_indices_2]\n",
    "X_test_reversed_scaled_0.shape, X_test_reversed_scaled_1.shape, X_test_reversed_scaled_2.shape"
   ]
  },
  {
   "cell_type": "code",
   "execution_count": 231,
   "id": "8a66ff5f",
   "metadata": {},
   "outputs": [
    {
     "data": {
      "text/plain": [
       "array([0, 0, 0, ..., 1, 0, 0])"
      ]
     },
     "execution_count": 231,
     "metadata": {},
     "output_type": "execute_result"
    }
   ],
   "source": [
    "np.where(np.dot((X_test_reversed_scaled_0- means_set_0)/np.sqrt(vars_set_0), coef_set_0)+inter_set_0>0, 1,0)"
   ]
  },
  {
   "cell_type": "code",
   "execution_count": 210,
   "id": "bdd3d94a",
   "metadata": {},
   "outputs": [
    {
     "data": {
      "text/plain": [
       "(['((Hmax + -6030.0154726600085) / 2115.9922844899693)*-0.6402480239966041',\n",
       "  '((Zmax + -17.94573080216485) / 10.416867445191416)*0.8974503789334118',\n",
       "  '((H_Zmax + -3.1741566904376977) / 1.7496742083261316)*0.29239410289074713',\n",
       "  '((delta_iso22 + 178.4893927146253) / 1969.9346958566946)*1.5515382541144216',\n",
       "  '((y_param + -13.854570220419282) / 10.002661172354728)*-0.06722576052210379',\n",
       "  '((Zmax_layer_6 + 22.592478072133012) / 53.301569061973964)*0.40541207975864435',\n",
       "  '((Zmax_layer_7 + 47.45566322499165) / 56.83951905771273)*0.3554628604022989',\n",
       "  '((Zmax_layer_8 + 69.32080560321884) / 51.05159453896699)*0.2903414293829566',\n",
       "  '((Zmax_layer_9 + 82.09938249870234) / 42.29854135926742)*0.1589323452929145',\n",
       "  '((Zmax_layer_10 + 88.58071157705417) / 35.06562540138608)*0.08882231885804244'],\n",
       " -5.054243724161584)"
      ]
     },
     "execution_count": 210,
     "metadata": {},
     "output_type": "execute_result"
    }
   ],
   "source": [
    "[f'(({features_set_0[i]} + {-means_set_0[i]}) / {np.sqrt(vars_set_0[i])})*{coef_set_0[i]}' for i in range(len(coef_set_0))],inter_set_0\n"
   ]
  },
  {
   "cell_type": "code",
   "execution_count": 212,
   "id": "61368ad2",
   "metadata": {},
   "outputs": [
    {
     "data": {
      "text/plain": [
       "(['((Hmax + -6030.0154726600085) / 2115.9922844899693)*0.9899131219859455',\n",
       "  '((Zmax + -17.94573080216485) / 10.416867445191416)*0.754002607005723',\n",
       "  '((Zmax_layer_6 + 22.592478072133012) / 53.301569061973964)*0.3154611817917923',\n",
       "  '((Zmax_layer_7 + 47.45566322499165) / 56.83951905771273)*0.3147828342782613',\n",
       "  '((Zmax_layer_8 + 69.32080560321884) / 51.05159453896699)*0.2581372686875461',\n",
       "  '((Zmax_layer_9 + 82.09938249870234) / 42.29854135926742)*0.16879107285345113',\n",
       "  '((Zmax_layer_10 + 88.58071157705417) / 35.06562540138608)*0.09261709566768207'],\n",
       " -4.922595547112332)"
      ]
     },
     "execution_count": 212,
     "metadata": {},
     "output_type": "execute_result"
    }
   ],
   "source": [
    "[f'(({features_set_1[i]} + {-means_set_1[i]}) / {np.sqrt(vars_set_1[i])})*{coef_set_1[i]}' for i in range(len(coef_set_1))],inter_set_1"
   ]
  },
  {
   "cell_type": "code",
   "execution_count": 235,
   "id": "d96a001e",
   "metadata": {},
   "outputs": [
    {
     "data": {
      "text/plain": [
       "(['((Hmax + -6030.0154726600085) / 2115.9922844899693)*0.8061940405488975',\n",
       "  '((Zmax + -17.94573080216485) / 10.416867445191416)*0.92157806119421',\n",
       "  '((H_Zmax + -3.1741566904376977) / 1.7496742083261316)*0.297247741290093',\n",
       "  '((Zmax_layer_6 + 22.592478072133012) / 53.301569061973964)*0.39599442698504855',\n",
       "  '((Zmax_layer_7 + 47.45566322499165) / 56.83951905771273)*0.2587855889239227',\n",
       "  '((Zmax_layer_8 + 69.32080560321884) / 51.05159453896699)*0.24677932074219924',\n",
       "  '((Zmax_layer_9 + 82.09938249870234) / 42.29854135926742)*0.17081076184334903',\n",
       "  '((Zmax_layer_10 + 88.58071157705417) / 35.06562540138608)*0.08962434980927239'],\n",
       " -4.959611610720029)"
      ]
     },
     "execution_count": 235,
     "metadata": {},
     "output_type": "execute_result"
    }
   ],
   "source": [
    "[f'(({features_set_2[i]} + {-means_set_2[i]}) / {np.sqrt(vars_set_2[i])})*{coef_set_2[i]}' for i in range(len(coef_set_2))],inter_set_2"
   ]
  },
  {
   "cell_type": "code",
   "execution_count": null,
   "id": "fa15994c",
   "metadata": {},
   "outputs": [],
   "source": [
    "                                               # Уравнение для третьего варианта"
   ]
  },
  {
   "cell_type": "code",
   "execution_count": null,
   "id": "11d584a8",
   "metadata": {},
   "outputs": [],
   "source": [
    "                                                  \n",
    "\n",
    "\n",
    "x0 = ((Hmax + -6030.0154726600085) / 2115.9922844899693)*0.9899131219859455,               # Максимальная высота радиоэха, m\n",
    "x1 = ((Zmax + -17.94573080216485) / 10.416867445191416)*0.75400260700572,                  # Максимальная отражаемость, dbZ\n",
    "x2 = ((Zmax_layer_6 + 22.592478072133012) / 53.301569061973964)*0.3154611817917923,        # Отражаемость на уровне 6 км, dbZ \n",
    "x3 = ((Zmax_layer_7 + 47.45566322499165) / 56.83951905771273)*0.3147828342782613,          # Отражаемость на уровне 7 км, dbZ \n",
    "x4 = ((Zmax_layer_8 + 69.32080560321884) / 51.05159453896699)*0.2581372686875461,          # Отражаемость на уровне 8 км, dbZ \n",
    "x5 = ((Zmax_layer_9 + 82.09938249870234) / 42.29854135926742)*0.16879107285345113,         # Отражаемость на уровне 9 км, dbZ \n",
    "x6 = ((Zmax_layer_10 + 88.58071157705417) / 35.06562540138608)*0.09261709566768207         # Отражаемость на уровне 10 км, dbZ \n",
    "result = sum(xi) - 4.922595547112332                                                       # Уравнение для первого варианта\n",
    "\n",
    "\n",
    "x0 = ((Hmax + -6030.0154726600085) / 2115.9922844899693) * 0.8061940405488975,             # Максимальная высота радиоэха, m\n",
    "x1 = ((Zmax + -17.94573080216485) / 10.416867445191416) * 0.92157806119421,                # Максимальная отражаемость, dbZ\n",
    "x2 = ((H_Zmax + -3.1741566904376977) / 1.7496742083261316) * 0.297247741290093,            # Уровень максимальной отражаемости, km\n",
    "x3 = ((Zmax_layer_6 + 22.592478072133012) / 53.301569061973964) * 0.39599442698504855,     # Отражаемость на уровне 6 км, dbZ\n",
    "x4 = ((Zmax_layer_7 + 47.45566322499165) / 56.83951905771273) * 0.2587855889239227,        # Отражаемость на уровне 7 км, dbZ\n",
    "x5 = ((Zmax_layer_8 + 69.32080560321884) / 51.05159453896699) * 0.24677932074219924,       # Отражаемость на уровне 8 км, dbZ\n",
    "x6 = ((Zmax_layer_9 + 82.09938249870234) / 42.29854135926742) * 0.17081076184334903,       # Отражаемость на уровне 9 км, dbZ\n",
    "x7 = ((Zmax_layer_10 + 88.58071157705417) / 35.06562540138608) * 0.08962434980927239       # Отражаемость на уровне 10 км , dbZ\n",
    "result = sum(xi) - 4.959611610720029                                                       # Уравнение для второго варианта\n",
    "\n",
    "x0 = ((Hmax + -6030.0154726600085) / 2115.9922844899693) * -0.6402480239966041,            # Максимальная высота радиоэха, m\n",
    "x1 = ((Zmax + -17.94573080216485) / 10.416867445191416) * 0.8974503789334118,              # Максимальная отражаемость, dbZ\n",
    "x2 = ((H_Zmax + -3.1741566904376977) / 1.7496742083261316) * 0.29239410289074713,          # Уровень максимальной отражаемости, km\n",
    "x3 = ((delta_iso22 + 178.4893927146253) / 1969.9346958566946) * 1.5515382541144216,        # Разница Максимальной высоты радиоэха и Высоты изотермы -22°C, m\n",
    "x4 = ((y_param + -13.854570220419282) / 10.002661172354728) * -0.06722576052210379,        # Параметр Y\n",
    "x5 = ((Zmax_layer_6 + 22.592478072133012) / 53.301569061973964) * 0.40541207975864435,     # Отражаемость на уровне 6 км, dbZ\n",
    "x6 = ((Zmax_layer_7 + 47.45566322499165) / 56.83951905771273) * 0.3554628604022989,        # Отражаемость на уровне 7 км, dbZ\n",
    "x7 = ((Zmax_layer_8 + 69.32080560321884) / 51.05159453896699) * 0.2903414293829566,        # Отражаемость на уровне 8 км, dbZ\n",
    "x8 = ((Zmax_layer_9 + 82.09938249870234) / 42.29854135926742) * 0.1589323452929145,        # Отражаемость на уровне 9 км, dbZ\n",
    "x9 = ((Zmax_layer_10 + 88.58071157705417) / 35.06562540138608) * 0.08882231885804244       # Отражаемость на уровне 10 км , dbZ\n",
    "result = sum(xi) - 5.054243724161584                                                       # Уравнение для третьего варианта\n",
    "\n",
    "# Если result > 0 - гроза есть,\n",
    "#      result < 0 - грозы нет"
   ]
  },
  {
   "cell_type": "code",
   "execution_count": 177,
   "id": "d55947f0",
   "metadata": {},
   "outputs": [
    {
     "name": "stdout",
     "output_type": "stream",
     "text": [
      "Accuracy is 1.0\n",
      "f1_score is 1.0\n",
      "precision_score is 1.0\n",
      "recall_score is 1.0\n",
      "roc_auc_score is 1.0\n",
      "HSS is 1.0\n",
      "ETS is 1.0\n",
      "CSI is 1.0\n",
      "sedi is nan\n"
     ]
    },
    {
     "data": {
      "text/plain": [
       "0    1.0\n",
       "1    1.0\n",
       "2    1.0\n",
       "3    1.0\n",
       "4    1.0\n",
       "5    1.0\n",
       "6    1.0\n",
       "7    1.0\n",
       "8    NaN\n",
       "dtype: float64"
      ]
     },
     "execution_count": 177,
     "metadata": {},
     "output_type": "execute_result"
    },
    {
     "data": {
      "image/png": "[encoded data removed]",
      "text/plain": [
       "<Figure size 800x550 with 2 Axes>"
      ]
     },
     "metadata": {},
     "output_type": "display_data"
    }
   ],
   "source": [
    "scaled_df = (np.subtract(X_test_reversed_scaled_0,means_set_0))/np.sqrt(vars_set_0)\n",
    "dot_prod = np.dot(scaled_df, coef_set_0)+inter_set_0\n",
    "res_preds_0 = np.where(dot_prod >= 0, 1,0)\n",
    "scorer(sgd_pred_0, res_preds_0)"
   ]
  },
  {
   "cell_type": "code",
   "execution_count": 136,
   "id": "d509746c",
   "metadata": {},
   "outputs": [
    {
     "name": "stdout",
     "output_type": "stream",
     "text": [
      "Accuracy is 1.0\n",
      "f1_score is 1.0\n",
      "precision_score is 1.0\n",
      "recall_score is 1.0\n",
      "roc_auc_score is 1.0\n",
      "HSS is 1.0\n",
      "ETS is 1.0\n",
      "CSI is 1.0\n",
      "sedi is nan\n"
     ]
    },
    {
     "data": {
      "text/plain": [
       "0    1.0\n",
       "1    1.0\n",
       "2    1.0\n",
       "3    1.0\n",
       "4    1.0\n",
       "5    1.0\n",
       "6    1.0\n",
       "7    1.0\n",
       "8    NaN\n",
       "dtype: float64"
      ]
     },
     "execution_count": 136,
     "metadata": {},
     "output_type": "execute_result"
    },
    {
     "data": {
      "image/png": "[encoded data removed]",
      "text/plain": [
       "<Figure size 800x550 with 2 Axes>"
      ]
     },
     "metadata": {},
     "output_type": "display_data"
    }
   ],
   "source": [
    "result = np.dot(X_test_set_0, coef_set_0)+inter_set_0\n",
    "preds = np.where(result >= 0, 1,0)\n",
    "scorer(sgd_pred_0, preds)"
   ]
  },
  {
   "cell_type": "code",
   "execution_count": null,
   "id": "b7a15707",
   "metadata": {},
   "outputs": [],
   "source": []
  },
  {
   "cell_type": "code",
   "execution_count": null,
   "id": "938efc04",
   "metadata": {},
   "outputs": [],
   "source": []
  },
  {
   "cell_type": "code",
   "execution_count": 15,
   "id": "23bce887",
   "metadata": {},
   "outputs": [
    {
     "name": "stdout",
     "output_type": "stream",
     "text": [
      "Accuracy is 0.9751\n",
      "f1_score is 0.6357\n",
      "precision_score is 0.6691\n",
      "recall_score is 0.6054\n",
      "roc_auc_score is 0.8272\n",
      "HSS is 0.6228\n",
      "ETS is 0.4523\n",
      "CSI is 0.4659\n",
      "sedi is 0.8273\n",
      "CPU times: user 1min 52s, sys: 228 ms, total: 1min 52s\n",
      "Wall time: 22.6 s\n"
     ]
    },
    {
     "data": {
      "image/png": "[encoded data removed]",
      "text/plain": [
       "<Figure size 800x550 with 2 Axes>"
      ]
     },
     "metadata": {},
     "output_type": "display_data"
    }
   ],
   "source": [
    "%%time\n",
    "#classificator \n",
    "knn = KNeighborsClassifier(n_neighbors=9,leaf_size=5, n_jobs = -2) \n",
    "knn.fit(X_train, y_train)\n",
    "knn_pred = knn.predict(X_test)\n",
    "\n",
    "# get scores\n",
    "knn_res = scorer(y_test, knn_pred)"
   ]
  },
  {
   "cell_type": "code",
   "execution_count": 16,
   "id": "769d7a79",
   "metadata": {},
   "outputs": [],
   "source": [
    "from catboost import CatBoostClassifier"
   ]
  },
  {
   "cell_type": "code",
   "execution_count": 17,
   "id": "a3954d37",
   "metadata": {},
   "outputs": [
    {
     "name": "stdout",
     "output_type": "stream",
     "text": [
      "Accuracy is 0.9766\n",
      "f1_score is 0.6484\n",
      "precision_score is 0.6672\n",
      "recall_score is 0.6306\n",
      "roc_auc_score is 0.827\n",
      "HSS is 0.6363\n",
      "ETS is 0.4666\n",
      "CSI is 0.4797\n",
      "sedi is 0.8416\n",
      "CPU times: user 14min 23s, sys: 18.9 s, total: 14min 42s\n",
      "Wall time: 1min 43s\n"
     ]
    },
    {
     "data": {
      "image/png": "[encoded data removed]",
      "text/plain": [
       "<Figure size 800x550 with 2 Axes>"
      ]
     },
     "metadata": {},
     "output_type": "display_data"
    }
   ],
   "source": [
    "%%time\n",
    "#classificator \n",
    "catbc = CatBoostClassifier(verbose=0) \n",
    "catbc.fit(X_train, y_train)\n",
    "catbc_pred = catbc.predict(X_test)\n",
    "\n",
    "# get scores\n",
    "catbc_res = scorer(y_test, catbc_pred)"
   ]
  },
  {
   "cell_type": "code",
   "execution_count": 2,
   "id": "554e91d4",
   "metadata": {},
   "outputs": [
    {
     "name": "stdout",
     "output_type": "stream",
     "text": [
      "Accuracy is 0.999\n",
      "f1_score is 0.1721\n",
      "precision_score is 0.2015\n",
      "recall_score is 0.1503\n",
      "roc_auc_score is 0.6004\n",
      "HSS is 0.1716\n",
      "ETS is 0.0939\n",
      "CSI is 0.0942\n",
      "sedi is 0.6135\n"
     ]
    },
    {
     "data": {
      "image/png": "[encoded data removed]",
      "text/plain": [
       "<Figure size 640x480 with 2 Axes>"
      ]
     },
     "metadata": {},
     "output_type": "display_data"
    }
   ],
   "source": [
    "stack = np.load(Paths.interim + f'stack_{station_number}.npy')\n",
    "stack = np.delete(stack, (1,2), 0)\n",
    "phen = stack[0:1155,:,:,12]\n",
    "phen[phen != 26] = 0\n",
    "phen[phen == 26] = 1\n",
    "Y_res = scorer(stack[0:1155,:,:,-1].flatten(), phen.flatten())"
   ]
  },
  {
   "cell_type": "code",
   "execution_count": 14,
   "id": "906a4705",
   "metadata": {},
   "outputs": [
    {
     "data": {
      "text/html": [
       "<div>\n",
       "<style scoped>\n",
       "    .dataframe tbody tr th:only-of-type {\n",
       "        vertical-align: middle;\n",
       "    }\n",
       "\n",
       "    .dataframe tbody tr th {\n",
       "        vertical-align: top;\n",
       "    }\n",
       "\n",
       "    .dataframe thead th {\n",
       "        text-align: right;\n",
       "    }\n",
       "</style>\n",
       "<table border=\"1\" class=\"dataframe\">\n",
       "  <thead>\n",
       "    <tr style=\"text-align: right;\">\n",
       "      <th>metrics</th>\n",
       "      <th>acc</th>\n",
       "      <th>f1</th>\n",
       "      <th>pre</th>\n",
       "      <th>rec</th>\n",
       "      <th>roc_auc</th>\n",
       "      <th>hss</th>\n",
       "      <th>ets</th>\n",
       "      <th>csi</th>\n",
       "      <th>sedi</th>\n",
       "    </tr>\n",
       "  </thead>\n",
       "  <tbody>\n",
       "    <tr>\n",
       "      <th>Y_param</th>\n",
       "      <td>0.999308</td>\n",
       "      <td>0.136207</td>\n",
       "      <td>0.160910</td>\n",
       "      <td>0.118080</td>\n",
       "      <td>0.580251</td>\n",
       "      <td>0.135869</td>\n",
       "      <td>0.072886</td>\n",
       "      <td>0.073081</td>\n",
       "      <td>0.590143</td>\n",
       "    </tr>\n",
       "    <tr>\n",
       "      <th>SGDClassifier</th>\n",
       "      <td>0.976412</td>\n",
       "      <td>0.620768</td>\n",
       "      <td>0.596602</td>\n",
       "      <td>0.646973</td>\n",
       "      <td>0.792858</td>\n",
       "      <td>0.608616</td>\n",
       "      <td>0.437418</td>\n",
       "      <td>0.450082</td>\n",
       "      <td>0.845137</td>\n",
       "    </tr>\n",
       "    <tr>\n",
       "      <th>KNeighborsClassifier</th>\n",
       "      <td>0.976135</td>\n",
       "      <td>0.653857</td>\n",
       "      <td>0.696557</td>\n",
       "      <td>0.616089</td>\n",
       "      <td>0.841021</td>\n",
       "      <td>0.641546</td>\n",
       "      <td>0.472262</td>\n",
       "      <td>0.485726</td>\n",
       "      <td>0.836171</td>\n",
       "    </tr>\n",
       "    <tr>\n",
       "      <th>CatBoostClassifier</th>\n",
       "      <td>0.978000</td>\n",
       "      <td>0.668328</td>\n",
       "      <td>0.684997</td>\n",
       "      <td>0.652452</td>\n",
       "      <td>0.836398</td>\n",
       "      <td>0.656958</td>\n",
       "      <td>0.489157</td>\n",
       "      <td>0.501872</td>\n",
       "      <td>0.855234</td>\n",
       "    </tr>\n",
       "    <tr>\n",
       "      <th>RandomForestClassifier</th>\n",
       "      <td>0.980525</td>\n",
       "      <td>0.684142</td>\n",
       "      <td>0.651785</td>\n",
       "      <td>0.719879</td>\n",
       "      <td>0.821652</td>\n",
       "      <td>0.674120</td>\n",
       "      <td>0.508432</td>\n",
       "      <td>0.519921</td>\n",
       "      <td>0.887839</td>\n",
       "    </tr>\n",
       "  </tbody>\n",
       "</table>\n",
       "</div>"
      ],
      "text/plain": [
       "metrics                      acc        f1       pre       rec   roc_auc  \\\n",
       "Y_param                 0.999308  0.136207  0.160910  0.118080  0.580251   \n",
       "SGDClassifier           0.976412  0.620768  0.596602  0.646973  0.792858   \n",
       "KNeighborsClassifier    0.976135  0.653857  0.696557  0.616089  0.841021   \n",
       "CatBoostClassifier      0.978000  0.668328  0.684997  0.652452  0.836398   \n",
       "RandomForestClassifier  0.980525  0.684142  0.651785  0.719879  0.821652   \n",
       "\n",
       "metrics                      hss       ets       csi      sedi  \n",
       "Y_param                 0.135869  0.072886  0.073081  0.590143  \n",
       "SGDClassifier           0.608616  0.437418  0.450082  0.845137  \n",
       "KNeighborsClassifier    0.641546  0.472262  0.485726  0.836171  \n",
       "CatBoostClassifier      0.656958  0.489157  0.501872  0.855234  \n",
       "RandomForestClassifier  0.674120  0.508432  0.519921  0.887839  "
      ]
     },
     "execution_count": 14,
     "metadata": {},
     "output_type": "execute_result"
    }
   ],
   "source": [
    "metrics = pd.Series(['acc', 'f1', 'pre', 'rec', 'roc_auc', 'hss', 'ets', 'csi', 'sedi'])\n",
    "df = pd.concat([Y_res, sgd_res, knn_res, catbc_res, rf_res, metrics],\n",
    "               axis=1,\n",
    "               keys=['Y_param', \"SGDClassifier\", 'KNeighborsClassifier', 'CatBoostClassifier','RandomForestClassifier', 'metrics']).set_index('metrics')\n",
    "df.T"
   ]
  },
  {
   "cell_type": "code",
   "execution_count": null,
   "id": "7f09e3a1",
   "metadata": {},
   "outputs": [
    {
     "data": {
      "text/html": [
       "<div>\n",
       "<style scoped>\n",
       "    .dataframe tbody tr th:only-of-type {\n",
       "        vertical-align: middle;\n",
       "    }\n",
       "\n",
       "    .dataframe tbody tr th {\n",
       "        vertical-align: top;\n",
       "    }\n",
       "\n",
       "    .dataframe thead th {\n",
       "        text-align: right;\n",
       "    }\n",
       "</style>\n",
       "<table border=\"1\" class=\"dataframe\">\n",
       "  <thead>\n",
       "    <tr style=\"text-align: right;\">\n",
       "      <th>metrics</th>\n",
       "      <th>acc</th>\n",
       "      <th>f1</th>\n",
       "      <th>pre</th>\n",
       "      <th>rec</th>\n",
       "      <th>roc_auc</th>\n",
       "      <th>hss</th>\n",
       "      <th>ets</th>\n",
       "      <th>csi</th>\n",
       "      <th>sedi</th>\n",
       "    </tr>\n",
       "  </thead>\n",
       "  <tbody>\n",
       "    <tr>\n",
       "      <th>Y_param</th>\n",
       "      <td>0.999308</td>\n",
       "      <td>0.136207</td>\n",
       "      <td>0.160910</td>\n",
       "      <td>0.118080</td>\n",
       "      <td>0.580251</td>\n",
       "      <td>0.135869</td>\n",
       "      <td>0.072886</td>\n",
       "      <td>0.073081</td>\n",
       "      <td>0.590143</td>\n",
       "    </tr>\n",
       "    <tr>\n",
       "      <th>SGDClassifier</th>\n",
       "      <td>0.974953</td>\n",
       "      <td>0.627989</td>\n",
       "      <td>0.653318</td>\n",
       "      <td>0.604551</td>\n",
       "      <td>0.819514</td>\n",
       "      <td>0.615050</td>\n",
       "      <td>0.444095</td>\n",
       "      <td>0.457714</td>\n",
       "      <td>0.825357</td>\n",
       "    </tr>\n",
       "    <tr>\n",
       "      <th>KNeighborsClassifier</th>\n",
       "      <td>0.975759</td>\n",
       "      <td>0.645339</td>\n",
       "      <td>0.681548</td>\n",
       "      <td>0.612783</td>\n",
       "      <td>0.833573</td>\n",
       "      <td>0.632826</td>\n",
       "      <td>0.462872</td>\n",
       "      <td>0.476384</td>\n",
       "      <td>0.832828</td>\n",
       "    </tr>\n",
       "    <tr>\n",
       "      <th>CatBoostClassifier</th>\n",
       "      <td>0.977371</td>\n",
       "      <td>0.658367</td>\n",
       "      <td>0.673820</td>\n",
       "      <td>0.643607</td>\n",
       "      <td>0.830671</td>\n",
       "      <td>0.646671</td>\n",
       "      <td>0.477838</td>\n",
       "      <td>0.490720</td>\n",
       "      <td>0.849451</td>\n",
       "    </tr>\n",
       "    <tr>\n",
       "      <th>RandomForestClassifier</th>\n",
       "      <td>0.979362</td>\n",
       "      <td>0.672461</td>\n",
       "      <td>0.654723</td>\n",
       "      <td>0.691187</td>\n",
       "      <td>0.822470</td>\n",
       "      <td>0.661815</td>\n",
       "      <td>0.494561</td>\n",
       "      <td>0.506547</td>\n",
       "      <td>0.873424</td>\n",
       "    </tr>\n",
       "  </tbody>\n",
       "</table>\n",
       "</div>"
      ],
      "text/plain": [
       "metrics                      acc        f1       pre       rec   roc_auc  \\\n",
       "Y_param                 0.999308  0.136207  0.160910  0.118080  0.580251   \n",
       "SGDClassifier           0.974953  0.627989  0.653318  0.604551  0.819514   \n",
       "KNeighborsClassifier    0.975759  0.645339  0.681548  0.612783  0.833573   \n",
       "CatBoostClassifier      0.977371  0.658367  0.673820  0.643607  0.830671   \n",
       "RandomForestClassifier  0.979362  0.672461  0.654723  0.691187  0.822470   \n",
       "\n",
       "metrics                      hss       ets       csi      sedi  \n",
       "Y_param                 0.135869  0.072886  0.073081  0.590143  \n",
       "SGDClassifier           0.615050  0.444095  0.457714  0.825357  \n",
       "KNeighborsClassifier    0.632826  0.462872  0.476384  0.832828  \n",
       "CatBoostClassifier      0.646671  0.477838  0.490720  0.849451  \n",
       "RandomForestClassifier  0.661815  0.494561  0.506547  0.873424  "
      ]
     },
     "metadata": {},
     "output_type": "display_data"
    }
   ],
   "source": [
    "metrics = pd.Series(['acc', 'f1', 'pre', 'rec', 'roc_auc', 'hss', 'ets', 'csi', 'sedi'])\n",
    "df = pd.concat([Y_res, sgd_res, knn_res, catbc_res, rf_res, metrics],\n",
    "               axis=1,\n",
    "               keys=['Y_param', \"SGDClassifier\", 'KNeighborsClassifier', 'CatBoostClassifier','RandomForestClassifier', 'metrics']).set_index('metrics')\n",
    "df.T"
   ]
  }
 ],
 "metadata": {
  "kernelspec": {
   "display_name": "Python 3 (ipykernel)",
   "language": "python",
   "name": "python3"
  },
  "language_info": {
   "codemirror_mode": {
    "name": "ipython",
    "version": 3
   },
   "file_extension": ".py",
   "mimetype": "text/x-python",
   "name": "python",
   "nbconvert_exporter": "python",
   "pygments_lexer": "ipython3",
   "version": "3.11.3"
  },
  "toc": {
   "base_numbering": 1,
   "nav_menu": {},
   "number_sections": true,
   "sideBar": true,
   "skip_h1_title": false,
   "title_cell": "Table of Contents",
   "title_sidebar": "Contents",
   "toc_cell": false,
   "toc_position": {
    "height": "calc(100% - 180px)",
    "left": "10px",
    "top": "150px",
    "width": "369.188px"
   },
   "toc_section_display": true,
   "toc_window_display": false
  },
  "varInspector": {
   "cols": {
    "lenName": 16,
    "lenType": 16,
    "lenVar": 40
   },
   "kernels_config": {
    "python": {
     "delete_cmd_postfix": "",
     "delete_cmd_prefix": "del ",
     "library": "var_list.py",
     "varRefreshCmd": "print(var_dic_list())"
    },
    "r": {
     "delete_cmd_postfix": ") ",
     "delete_cmd_prefix": "rm(",
     "library": "var_list.r",
     "varRefreshCmd": "cat(var_dic_list()) "
    }
   },
   "position": {
    "height": "234.844px",
    "left": "479px",
    "right": "20px",
    "top": "120px",
    "width": "424px"
   },
   "types_to_exclude": [
    "module",
    "function",
    "builtin_function_or_method",
    "instance",
    "_Feature"
   ],
   "window_display": false
  }
 },
 "nbformat": 4,
 "nbformat_minor": 5
}
